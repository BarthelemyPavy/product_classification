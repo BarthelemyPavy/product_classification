{
 "cells": [
  {
   "cell_type": "code",
   "execution_count": 2,
   "id": "44f9f8c7-1dd0-4477-87a1-cf9ad5ddc926",
   "metadata": {},
   "outputs": [],
   "source": [
    "import pandas as pd\n",
    "from sklearn.preprocessing import MultiLabelBinarizer\n",
    "from skmultilearn.dataset import load_dataset"
   ]
  },
  {
   "cell_type": "code",
   "execution_count": 3,
   "id": "04695b58-e22d-40dd-ab19-747eb232333c",
   "metadata": {},
   "outputs": [],
   "source": [
    "path = \"../data\"\n",
    "joined_tables = pd.read_csv(f\"{path}/joined_tables.csv\")"
   ]
  },
  {
   "cell_type": "code",
   "execution_count": 4,
   "id": "515aaa49-cd26-404a-acdc-2687a7eb6fe0",
   "metadata": {},
   "outputs": [],
   "source": [
    "joined_tables = joined_tables[joined_tables.category != \"uncategorized\"]"
   ]
  },
  {
   "cell_type": "code",
   "execution_count": 5,
   "id": "a5b2776a-9b20-4dc1-a790-96e17c123db1",
   "metadata": {},
   "outputs": [],
   "source": [
    "dataset = joined_tables[[\"id_product\", \"category\"]].drop_duplicates()"
   ]
  },
  {
   "cell_type": "markdown",
   "id": "5164378a-a91e-45eb-bfac-a02f861617bd",
   "metadata": {},
   "source": [
    "## Create train, test, validation set"
   ]
  },
  {
   "cell_type": "code",
   "execution_count": 152,
   "id": "325c6cb3-8b79-4302-970f-932cb2a9c91e",
   "metadata": {},
   "outputs": [],
   "source": [
    "# Count and filter categories with few samples\n",
    "min_category_count = 500\n",
    "max_category_count = 10_000\n",
    "dataset_multilabel = dataset.groupby(\"id_product\").category.apply(lambda x: list(sorted(x))).reset_index().rename(columns={\"category\": \"categories\"})\n",
    "dataset_multilabel[\"categories_str\"] = dataset_multilabel.categories.apply(str)\n",
    "category_count = dataset_multilabel[[\"id_product\", \"categories_str\"]].groupby(\"categories_str\").count().reset_index().rename(columns={\"id_product\": \"nb_category_product\"})\n",
    "dataset_multilabel = dataset_multilabel.merge(category_count, on=\"categories_str\")\n",
    "dataset_multilabel_filtered = dataset_multilabel[ (dataset_multilabel.nb_category_product >= min_category_count) & (dataset_multilabel.nb_category_product <= max_category_count)][[\"id_product\", \"categories\"]].reset_index(drop=True)"
   ]
  },
  {
   "cell_type": "code",
   "execution_count": 153,
   "id": "98d1abd5-fe8c-40e4-af52-1b37d4b5a85b",
   "metadata": {},
   "outputs": [],
   "source": [
    "# convert categories into label columns\n",
    "mlb = MultiLabelBinarizer()\n",
    "labels = mlb.fit_transform(dataset_multilabel_filtered.categories)\n",
    "dataset_multilabel_filtered = pd.concat([dataset_multilabel_filtered, pd.DataFrame(labels)], axis=1)\n",
    "dataset_multilabel_filtered.columns = [\"id_product\", \"categories\"] + list(mlb.classes_)"
   ]
  },
  {
   "cell_type": "code",
   "execution_count": 154,
   "id": "ddeaaaae-4596-4362-8983-e39fe1ebaf58",
   "metadata": {},
   "outputs": [],
   "source": [
    "from skmultilearn.model_selection import iterative_train_test_split\n",
    "import numpy as np"
   ]
  },
  {
   "cell_type": "code",
   "execution_count": 155,
   "id": "6c8f1f78-fedb-416f-99be-da6c65075e21",
   "metadata": {},
   "outputs": [],
   "source": [
    "train, _, X_others, y_others = iterative_train_test_split(np.asmatrix(dataset_multilabel_filtered[[\"id_product\"]]), np.asmatrix(dataset_multilabel_filtered.drop(columns=[\"id_product\", \"categories\"])), test_size = 0.15)"
   ]
  },
  {
   "cell_type": "code",
   "execution_count": 156,
   "id": "6db7a3a3-2df4-4b85-b1b4-c82b253f55e8",
   "metadata": {},
   "outputs": [],
   "source": [
    "train_ids = pd.DataFrame(train, columns=[\"id_product\"])"
   ]
  },
  {
   "cell_type": "code",
   "execution_count": 157,
   "id": "ec124f08-374f-4e9d-8331-798be43eee7a",
   "metadata": {},
   "outputs": [],
   "source": [
    "test, _, validation, _ = iterative_train_test_split(X_others, y_others, test_size = 0.5)"
   ]
  },
  {
   "cell_type": "code",
   "execution_count": 158,
   "id": "c7f6bd1f-7794-43b2-9411-28ee78377911",
   "metadata": {},
   "outputs": [],
   "source": [
    "test_ids = pd.DataFrame(test, columns=[\"id_product\"])\n",
    "validation_ids = pd.DataFrame(validation, columns=[\"id_product\"])"
   ]
  },
  {
   "cell_type": "code",
   "execution_count": 280,
   "id": "786c087c-9020-4242-93be-956f48e832cd",
   "metadata": {},
   "outputs": [],
   "source": [
    "train = joined_tables[joined_tables.id_product.isin(train_ids.id_product.tolist())]\n",
    "test = joined_tables[joined_tables.id_product.isin(test_ids.id_product.tolist())]\n",
    "validation = joined_tables[joined_tables.id_product.isin(validation_ids.id_product.tolist())]"
   ]
  },
  {
   "cell_type": "markdown",
   "id": "0a63d9a8-31c8-486a-b32a-d13687f204a2",
   "metadata": {},
   "source": [
    "## Train baseline"
   ]
  },
  {
   "cell_type": "code",
   "execution_count": 281,
   "id": "ec993818-46ec-4008-b32c-dd372570033c",
   "metadata": {},
   "outputs": [],
   "source": [
    "from lightgbm import LGBMClassifier\n",
    "from sklearn.multioutput import MultiOutputClassifier\n",
    "from sklearn.preprocessing import OrdinalEncoder, StandardScaler\n",
    "from sklearn.feature_extraction.text import TfidfVectorizer\n",
    "from sklearn.pipeline import Pipeline\n",
    "from sklearn.compose import ColumnTransformer"
   ]
  },
  {
   "cell_type": "code",
   "execution_count": 282,
   "id": "b0793c2a-2b79-427d-b07c-32afbb311aef",
   "metadata": {},
   "outputs": [],
   "source": [
    "train = train.merge(dataset_multilabel_filtered, on=\"id_product\").drop_duplicates(subset=[\"id_product\"]).drop(columns=[\"category\", \"categories\", \"product_description\"])\n",
    "test = test.merge(dataset_multilabel_filtered, on=\"id_product\").drop_duplicates(subset=[\"id_product\"]).drop(columns=[\"category\", \"categories\", \"product_description\"])\n",
    "validation = validation.merge(dataset_multilabel_filtered, on=\"id_product\").drop_duplicates(subset=[\"id_product\"]).drop(columns=[\"category\", \"categories\", \"product_description\"])"
   ]
  },
  {
   "cell_type": "markdown",
   "id": "6e411c4e-c648-4a70-88e5-963082dcb0c4",
   "metadata": {},
   "source": [
    "### Categorical features transformation"
   ]
  },
  {
   "cell_type": "code",
   "execution_count": 283,
   "id": "922bd36e-84c8-4be1-94e1-ecf82a9ecd5e",
   "metadata": {},
   "outputs": [],
   "source": [
    "categorical_features = [\"merchant_name\", \"brand_name\"]\n",
    "categorical_transformer = OrdinalEncoder(handle_unknown=\"use_encoded_value\", unknown_value=-1, dtype=int)"
   ]
  },
  {
   "cell_type": "markdown",
   "id": "eac0a292-9e4b-4920-876b-9a85b9d83d2e",
   "metadata": {},
   "source": [
    "### Numerical features transformation"
   ]
  },
  {
   "cell_type": "code",
   "execution_count": 284,
   "id": "1c86c079-5cf1-43d5-bd48-1182c18eb9cd",
   "metadata": {},
   "outputs": [],
   "source": [
    "numeric_features = [\"price\"]\n",
    "numeric_transformer = StandardScaler()"
   ]
  },
  {
   "cell_type": "markdown",
   "id": "65449bac-0cbf-4d85-8c34-3d428cf64b8e",
   "metadata": {},
   "source": [
    "### Text transformation"
   ]
  },
  {
   "cell_type": "code",
   "execution_count": 300,
   "id": "b2e9825b-5218-46a7-b5cd-6530b3c39543",
   "metadata": {},
   "outputs": [],
   "source": [
    "text_features = \"product_name\"\n",
    "text_transformer = TfidfVectorizer()"
   ]
  },
  {
   "cell_type": "markdown",
   "id": "97a284e8-4978-496d-9f57-ff196330dd60",
   "metadata": {},
   "source": [
    "### Processor"
   ]
  },
  {
   "cell_type": "code",
   "execution_count": 301,
   "id": "8e6fd31a-73b9-4238-bebe-7760c5b5f882",
   "metadata": {},
   "outputs": [],
   "source": [
    "preprocessor = ColumnTransformer(\n",
    "        transformers=[\n",
    "            (\"num\", numeric_transformer, numeric_features),\n",
    "            (\"cat\", categorical_transformer, categorical_features),\n",
    "            (\"text\", text_transformer, text_features)\n",
    "                     ]\n",
    "       )"
   ]
  },
  {
   "cell_type": "markdown",
   "id": "83755606-a826-48ff-85a4-a87673212dad",
   "metadata": {},
   "source": [
    "### Classifier"
   ]
  },
  {
   "cell_type": "code",
   "execution_count": 302,
   "id": "7b1c0380-cedd-4cd2-99d2-8c5a4397965d",
   "metadata": {},
   "outputs": [],
   "source": [
    "classifier = LGBMClassifier(objective=\"binary\", random_state=42, silent=False, metric=\"binary_logloss\")"
   ]
  },
  {
   "cell_type": "code",
   "execution_count": 303,
   "id": "345b2de8-9bcf-4808-ab1e-e206dad8a140",
   "metadata": {},
   "outputs": [],
   "source": [
    "multilabel_classifier = MultiOutputClassifier(classifier, n_jobs=-1)"
   ]
  },
  {
   "cell_type": "markdown",
   "id": "08100abf-f576-4959-b483-41cb602c5008",
   "metadata": {},
   "source": [
    "### Pipeline"
   ]
  },
  {
   "cell_type": "code",
   "execution_count": 304,
   "id": "44a2eada-7cf2-4190-85f9-c52bfd4368cc",
   "metadata": {},
   "outputs": [],
   "source": [
    "clf = Pipeline(\n",
    "    steps=[(\"preprocessor\", preprocessor), (\"classifier\", multilabel_classifier)]\n",
    ")"
   ]
  },
  {
   "cell_type": "markdown",
   "id": "95d88eac-0c14-42cb-bef1-997a9fca6a91",
   "metadata": {},
   "source": [
    "### train"
   ]
  },
  {
   "cell_type": "code",
   "execution_count": 306,
   "id": "3c7156ce-0426-4203-b7c4-b0d07dee6a98",
   "metadata": {},
   "outputs": [],
   "source": [
    "X_train, y_train = train.iloc[:,1:5], train.iloc[:,5:]"
   ]
  },
  {
   "cell_type": "code",
   "execution_count": 310,
   "id": "f39b0502-dbf7-4340-9d8f-e93b24500efd",
   "metadata": {},
   "outputs": [
    {
     "name": "stderr",
     "output_type": "stream",
     "text": [
      "/home/okteto/product_classification/.venv/lib/python3.9/site-packages/lightgbm/sklearn.py:598: UserWarning: 'silent' argument is deprecated and will be removed in a future release of LightGBM. Pass 'verbose' parameter via keyword arguments instead.\n",
      "  _log_warning(\"'silent' argument is deprecated and will be removed in a future release of LightGBM. \"\n",
      "/home/okteto/product_classification/.venv/lib/python3.9/site-packages/lightgbm/sklearn.py:736: UserWarning: 'verbose' argument is deprecated and will be removed in a future release of LightGBM. Pass 'log_evaluation()' callback via 'callbacks' argument instead.\n",
      "  _log_warning(\"'verbose' argument is deprecated and will be removed in a future release of LightGBM. \"\n",
      "/home/okteto/product_classification/.venv/lib/python3.9/site-packages/lightgbm/sklearn.py:598: UserWarning: 'silent' argument is deprecated and will be removed in a future release of LightGBM. Pass 'verbose' parameter via keyword arguments instead.\n",
      "  _log_warning(\"'silent' argument is deprecated and will be removed in a future release of LightGBM. \"\n",
      "/home/okteto/product_classification/.venv/lib/python3.9/site-packages/lightgbm/sklearn.py:736: UserWarning: 'verbose' argument is deprecated and will be removed in a future release of LightGBM. Pass 'log_evaluation()' callback via 'callbacks' argument instead.\n",
      "  _log_warning(\"'verbose' argument is deprecated and will be removed in a future release of LightGBM. \"\n",
      "/home/okteto/product_classification/.venv/lib/python3.9/site-packages/lightgbm/sklearn.py:598: UserWarning: 'silent' argument is deprecated and will be removed in a future release of LightGBM. Pass 'verbose' parameter via keyword arguments instead.\n",
      "  _log_warning(\"'silent' argument is deprecated and will be removed in a future release of LightGBM. \"\n",
      "/home/okteto/product_classification/.venv/lib/python3.9/site-packages/lightgbm/sklearn.py:736: UserWarning: 'verbose' argument is deprecated and will be removed in a future release of LightGBM. Pass 'log_evaluation()' callback via 'callbacks' argument instead.\n",
      "  _log_warning(\"'verbose' argument is deprecated and will be removed in a future release of LightGBM. \"\n",
      "/home/okteto/product_classification/.venv/lib/python3.9/site-packages/lightgbm/sklearn.py:598: UserWarning: 'silent' argument is deprecated and will be removed in a future release of LightGBM. Pass 'verbose' parameter via keyword arguments instead.\n",
      "  _log_warning(\"'silent' argument is deprecated and will be removed in a future release of LightGBM. \"\n",
      "/home/okteto/product_classification/.venv/lib/python3.9/site-packages/lightgbm/sklearn.py:736: UserWarning: 'verbose' argument is deprecated and will be removed in a future release of LightGBM. Pass 'log_evaluation()' callback via 'callbacks' argument instead.\n",
      "  _log_warning(\"'verbose' argument is deprecated and will be removed in a future release of LightGBM. \"\n",
      "/home/okteto/product_classification/.venv/lib/python3.9/site-packages/lightgbm/sklearn.py:598: UserWarning: 'silent' argument is deprecated and will be removed in a future release of LightGBM. Pass 'verbose' parameter via keyword arguments instead.\n",
      "  _log_warning(\"'silent' argument is deprecated and will be removed in a future release of LightGBM. \"\n",
      "/home/okteto/product_classification/.venv/lib/python3.9/site-packages/lightgbm/sklearn.py:736: UserWarning: 'verbose' argument is deprecated and will be removed in a future release of LightGBM. Pass 'log_evaluation()' callback via 'callbacks' argument instead.\n",
      "  _log_warning(\"'verbose' argument is deprecated and will be removed in a future release of LightGBM. \"\n",
      "/home/okteto/product_classification/.venv/lib/python3.9/site-packages/lightgbm/sklearn.py:598: UserWarning: 'silent' argument is deprecated and will be removed in a future release of LightGBM. Pass 'verbose' parameter via keyword arguments instead.\n",
      "  _log_warning(\"'silent' argument is deprecated and will be removed in a future release of LightGBM. \"\n",
      "/home/okteto/product_classification/.venv/lib/python3.9/site-packages/lightgbm/sklearn.py:736: UserWarning: 'verbose' argument is deprecated and will be removed in a future release of LightGBM. Pass 'log_evaluation()' callback via 'callbacks' argument instead.\n",
      "  _log_warning(\"'verbose' argument is deprecated and will be removed in a future release of LightGBM. \"\n",
      "/home/okteto/product_classification/.venv/lib/python3.9/site-packages/lightgbm/sklearn.py:598: UserWarning: 'silent' argument is deprecated and will be removed in a future release of LightGBM. Pass 'verbose' parameter via keyword arguments instead.\n",
      "  _log_warning(\"'silent' argument is deprecated and will be removed in a future release of LightGBM. \"\n",
      "/home/okteto/product_classification/.venv/lib/python3.9/site-packages/lightgbm/sklearn.py:736: UserWarning: 'verbose' argument is deprecated and will be removed in a future release of LightGBM. Pass 'log_evaluation()' callback via 'callbacks' argument instead.\n",
      "  _log_warning(\"'verbose' argument is deprecated and will be removed in a future release of LightGBM. \"\n",
      "/home/okteto/product_classification/.venv/lib/python3.9/site-packages/lightgbm/sklearn.py:598: UserWarning: 'silent' argument is deprecated and will be removed in a future release of LightGBM. Pass 'verbose' parameter via keyword arguments instead.\n",
      "  _log_warning(\"'silent' argument is deprecated and will be removed in a future release of LightGBM. \"\n",
      "/home/okteto/product_classification/.venv/lib/python3.9/site-packages/lightgbm/sklearn.py:736: UserWarning: 'verbose' argument is deprecated and will be removed in a future release of LightGBM. Pass 'log_evaluation()' callback via 'callbacks' argument instead.\n",
      "  _log_warning(\"'verbose' argument is deprecated and will be removed in a future release of LightGBM. \"\n",
      "/home/okteto/product_classification/.venv/lib/python3.9/site-packages/lightgbm/sklearn.py:598: UserWarning: 'silent' argument is deprecated and will be removed in a future release of LightGBM. Pass 'verbose' parameter via keyword arguments instead.\n",
      "  _log_warning(\"'silent' argument is deprecated and will be removed in a future release of LightGBM. \"\n",
      "/home/okteto/product_classification/.venv/lib/python3.9/site-packages/lightgbm/sklearn.py:736: UserWarning: 'verbose' argument is deprecated and will be removed in a future release of LightGBM. Pass 'log_evaluation()' callback via 'callbacks' argument instead.\n",
      "  _log_warning(\"'verbose' argument is deprecated and will be removed in a future release of LightGBM. \"\n",
      "/home/okteto/product_classification/.venv/lib/python3.9/site-packages/lightgbm/sklearn.py:598: UserWarning: 'silent' argument is deprecated and will be removed in a future release of LightGBM. Pass 'verbose' parameter via keyword arguments instead.\n",
      "  _log_warning(\"'silent' argument is deprecated and will be removed in a future release of LightGBM. \"\n",
      "/home/okteto/product_classification/.venv/lib/python3.9/site-packages/lightgbm/sklearn.py:736: UserWarning: 'verbose' argument is deprecated and will be removed in a future release of LightGBM. Pass 'log_evaluation()' callback via 'callbacks' argument instead.\n",
      "  _log_warning(\"'verbose' argument is deprecated and will be removed in a future release of LightGBM. \"\n",
      "/home/okteto/product_classification/.venv/lib/python3.9/site-packages/lightgbm/sklearn.py:598: UserWarning: 'silent' argument is deprecated and will be removed in a future release of LightGBM. Pass 'verbose' parameter via keyword arguments instead.\n",
      "  _log_warning(\"'silent' argument is deprecated and will be removed in a future release of LightGBM. \"\n",
      "/home/okteto/product_classification/.venv/lib/python3.9/site-packages/lightgbm/sklearn.py:736: UserWarning: 'verbose' argument is deprecated and will be removed in a future release of LightGBM. Pass 'log_evaluation()' callback via 'callbacks' argument instead.\n",
      "  _log_warning(\"'verbose' argument is deprecated and will be removed in a future release of LightGBM. \"\n",
      "/home/okteto/product_classification/.venv/lib/python3.9/site-packages/lightgbm/sklearn.py:598: UserWarning: 'silent' argument is deprecated and will be removed in a future release of LightGBM. Pass 'verbose' parameter via keyword arguments instead.\n",
      "  _log_warning(\"'silent' argument is deprecated and will be removed in a future release of LightGBM. \"\n",
      "/home/okteto/product_classification/.venv/lib/python3.9/site-packages/lightgbm/sklearn.py:736: UserWarning: 'verbose' argument is deprecated and will be removed in a future release of LightGBM. Pass 'log_evaluation()' callback via 'callbacks' argument instead.\n",
      "  _log_warning(\"'verbose' argument is deprecated and will be removed in a future release of LightGBM. \"\n",
      "/home/okteto/product_classification/.venv/lib/python3.9/site-packages/lightgbm/sklearn.py:598: UserWarning: 'silent' argument is deprecated and will be removed in a future release of LightGBM. Pass 'verbose' parameter via keyword arguments instead.\n",
      "  _log_warning(\"'silent' argument is deprecated and will be removed in a future release of LightGBM. \"\n",
      "/home/okteto/product_classification/.venv/lib/python3.9/site-packages/lightgbm/sklearn.py:736: UserWarning: 'verbose' argument is deprecated and will be removed in a future release of LightGBM. Pass 'log_evaluation()' callback via 'callbacks' argument instead.\n",
      "  _log_warning(\"'verbose' argument is deprecated and will be removed in a future release of LightGBM. \"\n",
      "/home/okteto/product_classification/.venv/lib/python3.9/site-packages/lightgbm/sklearn.py:598: UserWarning: 'silent' argument is deprecated and will be removed in a future release of LightGBM. Pass 'verbose' parameter via keyword arguments instead.\n",
      "  _log_warning(\"'silent' argument is deprecated and will be removed in a future release of LightGBM. \"\n",
      "/home/okteto/product_classification/.venv/lib/python3.9/site-packages/lightgbm/sklearn.py:736: UserWarning: 'verbose' argument is deprecated and will be removed in a future release of LightGBM. Pass 'log_evaluation()' callback via 'callbacks' argument instead.\n",
      "  _log_warning(\"'verbose' argument is deprecated and will be removed in a future release of LightGBM. \"\n",
      "/home/okteto/product_classification/.venv/lib/python3.9/site-packages/lightgbm/sklearn.py:598: UserWarning: 'silent' argument is deprecated and will be removed in a future release of LightGBM. Pass 'verbose' parameter via keyword arguments instead.\n",
      "  _log_warning(\"'silent' argument is deprecated and will be removed in a future release of LightGBM. \"\n",
      "/home/okteto/product_classification/.venv/lib/python3.9/site-packages/lightgbm/sklearn.py:736: UserWarning: 'verbose' argument is deprecated and will be removed in a future release of LightGBM. Pass 'log_evaluation()' callback via 'callbacks' argument instead.\n",
      "  _log_warning(\"'verbose' argument is deprecated and will be removed in a future release of LightGBM. \"\n",
      "/home/okteto/product_classification/.venv/lib/python3.9/site-packages/lightgbm/sklearn.py:598: UserWarning: 'silent' argument is deprecated and will be removed in a future release of LightGBM. Pass 'verbose' parameter via keyword arguments instead.\n",
      "  _log_warning(\"'silent' argument is deprecated and will be removed in a future release of LightGBM. \"\n",
      "/home/okteto/product_classification/.venv/lib/python3.9/site-packages/lightgbm/sklearn.py:736: UserWarning: 'verbose' argument is deprecated and will be removed in a future release of LightGBM. Pass 'log_evaluation()' callback via 'callbacks' argument instead.\n",
      "  _log_warning(\"'verbose' argument is deprecated and will be removed in a future release of LightGBM. \"\n"
     ]
    },
    {
     "data": {
      "text/html": [
       "<style>#sk-container-id-13 {color: black;background-color: white;}#sk-container-id-13 pre{padding: 0;}#sk-container-id-13 div.sk-toggleable {background-color: white;}#sk-container-id-13 label.sk-toggleable__label {cursor: pointer;display: block;width: 100%;margin-bottom: 0;padding: 0.3em;box-sizing: border-box;text-align: center;}#sk-container-id-13 label.sk-toggleable__label-arrow:before {content: \"▸\";float: left;margin-right: 0.25em;color: #696969;}#sk-container-id-13 label.sk-toggleable__label-arrow:hover:before {color: black;}#sk-container-id-13 div.sk-estimator:hover label.sk-toggleable__label-arrow:before {color: black;}#sk-container-id-13 div.sk-toggleable__content {max-height: 0;max-width: 0;overflow: hidden;text-align: left;background-color: #f0f8ff;}#sk-container-id-13 div.sk-toggleable__content pre {margin: 0.2em;color: black;border-radius: 0.25em;background-color: #f0f8ff;}#sk-container-id-13 input.sk-toggleable__control:checked~div.sk-toggleable__content {max-height: 200px;max-width: 100%;overflow: auto;}#sk-container-id-13 input.sk-toggleable__control:checked~label.sk-toggleable__label-arrow:before {content: \"▾\";}#sk-container-id-13 div.sk-estimator input.sk-toggleable__control:checked~label.sk-toggleable__label {background-color: #d4ebff;}#sk-container-id-13 div.sk-label input.sk-toggleable__control:checked~label.sk-toggleable__label {background-color: #d4ebff;}#sk-container-id-13 input.sk-hidden--visually {border: 0;clip: rect(1px 1px 1px 1px);clip: rect(1px, 1px, 1px, 1px);height: 1px;margin: -1px;overflow: hidden;padding: 0;position: absolute;width: 1px;}#sk-container-id-13 div.sk-estimator {font-family: monospace;background-color: #f0f8ff;border: 1px dotted black;border-radius: 0.25em;box-sizing: border-box;margin-bottom: 0.5em;}#sk-container-id-13 div.sk-estimator:hover {background-color: #d4ebff;}#sk-container-id-13 div.sk-parallel-item::after {content: \"\";width: 100%;border-bottom: 1px solid gray;flex-grow: 1;}#sk-container-id-13 div.sk-label:hover label.sk-toggleable__label {background-color: #d4ebff;}#sk-container-id-13 div.sk-serial::before {content: \"\";position: absolute;border-left: 1px solid gray;box-sizing: border-box;top: 0;bottom: 0;left: 50%;z-index: 0;}#sk-container-id-13 div.sk-serial {display: flex;flex-direction: column;align-items: center;background-color: white;padding-right: 0.2em;padding-left: 0.2em;position: relative;}#sk-container-id-13 div.sk-item {position: relative;z-index: 1;}#sk-container-id-13 div.sk-parallel {display: flex;align-items: stretch;justify-content: center;background-color: white;position: relative;}#sk-container-id-13 div.sk-item::before, #sk-container-id-13 div.sk-parallel-item::before {content: \"\";position: absolute;border-left: 1px solid gray;box-sizing: border-box;top: 0;bottom: 0;left: 50%;z-index: -1;}#sk-container-id-13 div.sk-parallel-item {display: flex;flex-direction: column;z-index: 1;position: relative;background-color: white;}#sk-container-id-13 div.sk-parallel-item:first-child::after {align-self: flex-end;width: 50%;}#sk-container-id-13 div.sk-parallel-item:last-child::after {align-self: flex-start;width: 50%;}#sk-container-id-13 div.sk-parallel-item:only-child::after {width: 0;}#sk-container-id-13 div.sk-dashed-wrapped {border: 1px dashed gray;margin: 0 0.4em 0.5em 0.4em;box-sizing: border-box;padding-bottom: 0.4em;background-color: white;}#sk-container-id-13 div.sk-label label {font-family: monospace;font-weight: bold;display: inline-block;line-height: 1.2em;}#sk-container-id-13 div.sk-label-container {text-align: center;}#sk-container-id-13 div.sk-container {/* jupyter's `normalize.less` sets `[hidden] { display: none; }` but bootstrap.min.css set `[hidden] { display: none !important; }` so we also need the `!important` here to be able to override the default hidden behavior on the sphinx rendered scikit-learn.org. See: https://github.com/scikit-learn/scikit-learn/issues/21755 */display: inline-block !important;position: relative;}#sk-container-id-13 div.sk-text-repr-fallback {display: none;}</style><div id=\"sk-container-id-13\" class=\"sk-top-container\"><div class=\"sk-text-repr-fallback\"><pre>Pipeline(steps=[(&#x27;preprocessor&#x27;,\n",
       "                 ColumnTransformer(transformers=[(&#x27;num&#x27;, StandardScaler(),\n",
       "                                                  [&#x27;price&#x27;]),\n",
       "                                                 (&#x27;cat&#x27;,\n",
       "                                                  OrdinalEncoder(dtype=&lt;class &#x27;int&#x27;&gt;,\n",
       "                                                                 handle_unknown=&#x27;use_encoded_value&#x27;,\n",
       "                                                                 unknown_value=-1),\n",
       "                                                  [&#x27;merchant_name&#x27;,\n",
       "                                                   &#x27;brand_name&#x27;]),\n",
       "                                                 (&#x27;text&#x27;, TfidfVectorizer(),\n",
       "                                                  &#x27;product_name&#x27;)])),\n",
       "                (&#x27;classifier&#x27;,\n",
       "                 MultiOutputClassifier(estimator=LGBMClassifier(metric=&#x27;binary_logloss&#x27;,\n",
       "                                                                objective=&#x27;binary&#x27;,\n",
       "                                                                random_state=42,\n",
       "                                                                silent=False),\n",
       "                                       n_jobs=-1))])</pre><b>In a Jupyter environment, please rerun this cell to show the HTML representation or trust the notebook. <br />On GitHub, the HTML representation is unable to render, please try loading this page with nbviewer.org.</b></div><div class=\"sk-container\" hidden><div class=\"sk-item sk-dashed-wrapped\"><div class=\"sk-label-container\"><div class=\"sk-label sk-toggleable\"><input class=\"sk-toggleable__control sk-hidden--visually\" id=\"sk-estimator-id-65\" type=\"checkbox\" ><label for=\"sk-estimator-id-65\" class=\"sk-toggleable__label sk-toggleable__label-arrow\">Pipeline</label><div class=\"sk-toggleable__content\"><pre>Pipeline(steps=[(&#x27;preprocessor&#x27;,\n",
       "                 ColumnTransformer(transformers=[(&#x27;num&#x27;, StandardScaler(),\n",
       "                                                  [&#x27;price&#x27;]),\n",
       "                                                 (&#x27;cat&#x27;,\n",
       "                                                  OrdinalEncoder(dtype=&lt;class &#x27;int&#x27;&gt;,\n",
       "                                                                 handle_unknown=&#x27;use_encoded_value&#x27;,\n",
       "                                                                 unknown_value=-1),\n",
       "                                                  [&#x27;merchant_name&#x27;,\n",
       "                                                   &#x27;brand_name&#x27;]),\n",
       "                                                 (&#x27;text&#x27;, TfidfVectorizer(),\n",
       "                                                  &#x27;product_name&#x27;)])),\n",
       "                (&#x27;classifier&#x27;,\n",
       "                 MultiOutputClassifier(estimator=LGBMClassifier(metric=&#x27;binary_logloss&#x27;,\n",
       "                                                                objective=&#x27;binary&#x27;,\n",
       "                                                                random_state=42,\n",
       "                                                                silent=False),\n",
       "                                       n_jobs=-1))])</pre></div></div></div><div class=\"sk-serial\"><div class=\"sk-item sk-dashed-wrapped\"><div class=\"sk-label-container\"><div class=\"sk-label sk-toggleable\"><input class=\"sk-toggleable__control sk-hidden--visually\" id=\"sk-estimator-id-66\" type=\"checkbox\" ><label for=\"sk-estimator-id-66\" class=\"sk-toggleable__label sk-toggleable__label-arrow\">preprocessor: ColumnTransformer</label><div class=\"sk-toggleable__content\"><pre>ColumnTransformer(transformers=[(&#x27;num&#x27;, StandardScaler(), [&#x27;price&#x27;]),\n",
       "                                (&#x27;cat&#x27;,\n",
       "                                 OrdinalEncoder(dtype=&lt;class &#x27;int&#x27;&gt;,\n",
       "                                                handle_unknown=&#x27;use_encoded_value&#x27;,\n",
       "                                                unknown_value=-1),\n",
       "                                 [&#x27;merchant_name&#x27;, &#x27;brand_name&#x27;]),\n",
       "                                (&#x27;text&#x27;, TfidfVectorizer(), &#x27;product_name&#x27;)])</pre></div></div></div><div class=\"sk-parallel\"><div class=\"sk-parallel-item\"><div class=\"sk-item\"><div class=\"sk-label-container\"><div class=\"sk-label sk-toggleable\"><input class=\"sk-toggleable__control sk-hidden--visually\" id=\"sk-estimator-id-67\" type=\"checkbox\" ><label for=\"sk-estimator-id-67\" class=\"sk-toggleable__label sk-toggleable__label-arrow\">num</label><div class=\"sk-toggleable__content\"><pre>[&#x27;price&#x27;]</pre></div></div></div><div class=\"sk-serial\"><div class=\"sk-item\"><div class=\"sk-estimator sk-toggleable\"><input class=\"sk-toggleable__control sk-hidden--visually\" id=\"sk-estimator-id-68\" type=\"checkbox\" ><label for=\"sk-estimator-id-68\" class=\"sk-toggleable__label sk-toggleable__label-arrow\">StandardScaler</label><div class=\"sk-toggleable__content\"><pre>StandardScaler()</pre></div></div></div></div></div></div><div class=\"sk-parallel-item\"><div class=\"sk-item\"><div class=\"sk-label-container\"><div class=\"sk-label sk-toggleable\"><input class=\"sk-toggleable__control sk-hidden--visually\" id=\"sk-estimator-id-69\" type=\"checkbox\" ><label for=\"sk-estimator-id-69\" class=\"sk-toggleable__label sk-toggleable__label-arrow\">cat</label><div class=\"sk-toggleable__content\"><pre>[&#x27;merchant_name&#x27;, &#x27;brand_name&#x27;]</pre></div></div></div><div class=\"sk-serial\"><div class=\"sk-item\"><div class=\"sk-estimator sk-toggleable\"><input class=\"sk-toggleable__control sk-hidden--visually\" id=\"sk-estimator-id-70\" type=\"checkbox\" ><label for=\"sk-estimator-id-70\" class=\"sk-toggleable__label sk-toggleable__label-arrow\">OrdinalEncoder</label><div class=\"sk-toggleable__content\"><pre>OrdinalEncoder(dtype=&lt;class &#x27;int&#x27;&gt;, handle_unknown=&#x27;use_encoded_value&#x27;,\n",
       "               unknown_value=-1)</pre></div></div></div></div></div></div><div class=\"sk-parallel-item\"><div class=\"sk-item\"><div class=\"sk-label-container\"><div class=\"sk-label sk-toggleable\"><input class=\"sk-toggleable__control sk-hidden--visually\" id=\"sk-estimator-id-71\" type=\"checkbox\" ><label for=\"sk-estimator-id-71\" class=\"sk-toggleable__label sk-toggleable__label-arrow\">text</label><div class=\"sk-toggleable__content\"><pre>product_name</pre></div></div></div><div class=\"sk-serial\"><div class=\"sk-item\"><div class=\"sk-estimator sk-toggleable\"><input class=\"sk-toggleable__control sk-hidden--visually\" id=\"sk-estimator-id-72\" type=\"checkbox\" ><label for=\"sk-estimator-id-72\" class=\"sk-toggleable__label sk-toggleable__label-arrow\">TfidfVectorizer</label><div class=\"sk-toggleable__content\"><pre>TfidfVectorizer()</pre></div></div></div></div></div></div></div></div><div class=\"sk-item sk-dashed-wrapped\"><div class=\"sk-label-container\"><div class=\"sk-label sk-toggleable\"><input class=\"sk-toggleable__control sk-hidden--visually\" id=\"sk-estimator-id-73\" type=\"checkbox\" ><label for=\"sk-estimator-id-73\" class=\"sk-toggleable__label sk-toggleable__label-arrow\">classifier: MultiOutputClassifier</label><div class=\"sk-toggleable__content\"><pre>MultiOutputClassifier(estimator=LGBMClassifier(metric=&#x27;binary_logloss&#x27;,\n",
       "                                               objective=&#x27;binary&#x27;,\n",
       "                                               random_state=42, silent=False),\n",
       "                      n_jobs=-1)</pre></div></div></div><div class=\"sk-parallel\"><div class=\"sk-parallel-item\"><div class=\"sk-item\"><div class=\"sk-label-container\"><div class=\"sk-label sk-toggleable\"><input class=\"sk-toggleable__control sk-hidden--visually\" id=\"sk-estimator-id-74\" type=\"checkbox\" ><label for=\"sk-estimator-id-74\" class=\"sk-toggleable__label sk-toggleable__label-arrow\">estimator: LGBMClassifier</label><div class=\"sk-toggleable__content\"><pre>LGBMClassifier(metric=&#x27;binary_logloss&#x27;, objective=&#x27;binary&#x27;, random_state=42,\n",
       "               silent=False)</pre></div></div></div><div class=\"sk-serial\"><div class=\"sk-item\"><div class=\"sk-estimator sk-toggleable\"><input class=\"sk-toggleable__control sk-hidden--visually\" id=\"sk-estimator-id-75\" type=\"checkbox\" ><label for=\"sk-estimator-id-75\" class=\"sk-toggleable__label sk-toggleable__label-arrow\">LGBMClassifier</label><div class=\"sk-toggleable__content\"><pre>LGBMClassifier(metric=&#x27;binary_logloss&#x27;, objective=&#x27;binary&#x27;, random_state=42,\n",
       "               silent=False)</pre></div></div></div></div></div></div></div></div></div></div></div></div>"
      ],
      "text/plain": [
       "Pipeline(steps=[('preprocessor',\n",
       "                 ColumnTransformer(transformers=[('num', StandardScaler(),\n",
       "                                                  ['price']),\n",
       "                                                 ('cat',\n",
       "                                                  OrdinalEncoder(dtype=<class 'int'>,\n",
       "                                                                 handle_unknown='use_encoded_value',\n",
       "                                                                 unknown_value=-1),\n",
       "                                                  ['merchant_name',\n",
       "                                                   'brand_name']),\n",
       "                                                 ('text', TfidfVectorizer(),\n",
       "                                                  'product_name')])),\n",
       "                ('classifier',\n",
       "                 MultiOutputClassifier(estimator=LGBMClassifier(metric='binary_logloss',\n",
       "                                                                objective='binary',\n",
       "                                                                random_state=42,\n",
       "                                                                silent=False),\n",
       "                                       n_jobs=-1))])"
      ]
     },
     "execution_count": 310,
     "metadata": {},
     "output_type": "execute_result"
    }
   ],
   "source": [
    "clf.fit(X_train, y_train, classifier__verbose=True) #classifier__feature_name=[\"product_name\", \"price\", \"merchant_name\", \"brand_name\"], classifier__categorical_feature=[\"merchant_name\", \"brand_name\"]"
   ]
  },
  {
   "cell_type": "markdown",
   "id": "8a2582a0-1590-41f2-8601-b8a333f6e0bf",
   "metadata": {},
   "source": [
    "### Eval"
   ]
  },
  {
   "cell_type": "code",
   "execution_count": 311,
   "id": "ff40f8c7-b574-40aa-b750-a365ecc37b45",
   "metadata": {},
   "outputs": [],
   "source": [
    "X_test, y_test = test.iloc[:,1:5], test.iloc[:,5:]"
   ]
  },
  {
   "cell_type": "code",
   "execution_count": 312,
   "id": "5e79a293-bdcf-41d2-a3a7-6f76d3db62b2",
   "metadata": {},
   "outputs": [],
   "source": [
    "y_pred = clf.predict(X_test)"
   ]
  },
  {
   "cell_type": "code",
   "execution_count": 313,
   "id": "71e1fb7c-d42c-421d-9ed9-e4e20297ca75",
   "metadata": {},
   "outputs": [],
   "source": [
    "from sklearn.metrics import hamming_loss\n",
    "from sklearn.metrics import classification_report"
   ]
  },
  {
   "cell_type": "code",
   "execution_count": 314,
   "id": "fd86e8a9-89f7-4544-98d7-dde2d573a08b",
   "metadata": {},
   "outputs": [
    {
     "name": "stdout",
     "output_type": "stream",
     "text": [
      "                                precision    recall  f1-score   support\n",
      "\n",
      "                    animalerie       0.94      0.83      0.88       688\n",
      "                  auto et moto       0.93      0.67      0.78       346\n",
      "               bagages et sacs       0.92      0.79      0.85       289\n",
      "          bebe et puericulture       0.92      0.75      0.83       392\n",
      "                        bijoux       0.98      0.93      0.95       360\n",
      "     chaussures et accessoires       0.97      0.88      0.93       722\n",
      "                dvd et blu-ray       0.99      0.97      0.98       101\n",
      "         fournitures de bureau       0.94      0.78      0.85       595\n",
      "           gros electromenager       0.95      0.92      0.93        59\n",
      "instruments de musique et sono       0.93      0.70      0.80        79\n",
      "                        jardin       0.94      0.65      0.77       415\n",
      "                    jeux video       0.96      0.83      0.89       307\n",
      "                        livres       0.68      0.74      0.71       344\n",
      "       luminaires et eclairage       0.93      0.91      0.92       210\n",
      "                       montres       0.93      0.91      0.92        68\n",
      "             sports et loisirs       0.91      0.67      0.77       479\n",
      "\n",
      "                     micro avg       0.92      0.79      0.85      5454\n",
      "                     macro avg       0.93      0.81      0.86      5454\n",
      "                  weighted avg       0.93      0.79      0.85      5454\n",
      "                   samples avg       0.78      0.79      0.78      5454\n",
      "\n"
     ]
    },
    {
     "name": "stderr",
     "output_type": "stream",
     "text": [
      "/home/okteto/product_classification/.venv/lib/python3.9/site-packages/sklearn/metrics/_classification.py:1334: UndefinedMetricWarning: Precision and F-score are ill-defined and being set to 0.0 in samples with no predicted labels. Use `zero_division` parameter to control this behavior.\n",
      "  _warn_prf(average, modifier, msg_start, len(result))\n"
     ]
    }
   ],
   "source": [
    "print(classification_report(y_test, y_pred, target_names=list(y_test.columns)))"
   ]
  },
  {
   "cell_type": "code",
   "execution_count": null,
   "id": "eee58a3b-0112-4286-a732-ab6c6438129b",
   "metadata": {},
   "outputs": [],
   "source": []
  }
 ],
 "metadata": {
  "kernelspec": {
   "display_name": "Python 3 (ipykernel)",
   "language": "python",
   "name": "python3"
  },
  "language_info": {
   "codemirror_mode": {
    "name": "ipython",
    "version": 3
   },
   "file_extension": ".py",
   "mimetype": "text/x-python",
   "name": "python",
   "nbconvert_exporter": "python",
   "pygments_lexer": "ipython3",
   "version": "3.9.13"
  }
 },
 "nbformat": 4,
 "nbformat_minor": 5
}
