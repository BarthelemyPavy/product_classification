{
 "cells": [
  {
   "cell_type": "code",
   "execution_count": 2,
   "id": "6e85d096-f47b-4905-945b-b2c8fc9d7be7",
   "metadata": {},
   "outputs": [],
   "source": [
    "import os\n",
    "import pandas as pd\n",
    "from sklearn.preprocessing import MultiLabelBinarizer\n",
    "from product_classification.data_processing.train_test_val_split import IterativeSplit, SimpleSplit \n",
    "from product_classification.data_processing.create_dataset import clean_dataset, get_merged_dataframe"
   ]
  },
  {
   "cell_type": "code",
   "execution_count": 3,
   "id": "e247cf76-444c-4f58-8ddf-8a5f593813c2",
   "metadata": {},
   "outputs": [
    {
     "name": "stderr",
     "output_type": "stream",
     "text": [
      "2022-09-11 13:06:21,105 :: create_dataset/create_dataset.py/get_merged_dataframe :: INFO :: Create dataset\n",
      "2022-09-11 13:07:18,580 :: create_dataset/create_dataset.py/get_merged_dataframe :: INFO :: Dataframe created\n",
      "2022-09-11 13:07:18,584 :: create_dataset/create_dataset.py/get_merged_dataframe :: INFO :: Dataset shape: (470347, 7)\n"
     ]
    }
   ],
   "source": [
    "path = \"../data\"\n",
    "joined_tables = get_merged_dataframe(path)"
   ]
  },
  {
   "cell_type": "code",
   "execution_count": 4,
   "id": "5f99e59f-54d2-4439-a6a8-79d422d941ec",
   "metadata": {},
   "outputs": [
    {
     "name": "stderr",
     "output_type": "stream",
     "text": [
      "2022-09-11 13:07:19,238 :: create_dataset/create_dataset.py/clean_dataset :: INFO :: Duplicates removed\n",
      "2022-09-11 13:07:19,239 :: create_dataset/create_dataset.py/clean_dataset :: INFO :: Dataset shape: (462695, 7)\n",
      "/home/okteto/product_classification/product_classification/product_classification/data_processing/create_dataset.py:74: SettingWithCopyWarning: \n",
      "A value is trying to be set on a copy of a slice from a DataFrame.\n",
      "Try using .loc[row_indexer,col_indexer] = value instead\n",
      "\n",
      "See the caveats in the documentation: https://pandas.pydata.org/pandas-docs/stable/user_guide/indexing.html#returning-a-view-versus-a-copy\n",
      "  dataset[\"merchant_name\"] = dataset[\"merchant_name\"].astype(\"category\")\n",
      "/home/okteto/product_classification/product_classification/product_classification/data_processing/create_dataset.py:75: SettingWithCopyWarning: \n",
      "A value is trying to be set on a copy of a slice from a DataFrame.\n",
      "Try using .loc[row_indexer,col_indexer] = value instead\n",
      "\n",
      "See the caveats in the documentation: https://pandas.pydata.org/pandas-docs/stable/user_guide/indexing.html#returning-a-view-versus-a-copy\n",
      "  dataset[\"brand_name\"] = dataset[\"brand_name\"].astype(\"category\")\n",
      "/home/okteto/product_classification/product_classification/product_classification/data_processing/create_dataset.py:76: SettingWithCopyWarning: \n",
      "A value is trying to be set on a copy of a slice from a DataFrame.\n",
      "Try using .loc[row_indexer,col_indexer] = value instead\n",
      "\n",
      "See the caveats in the documentation: https://pandas.pydata.org/pandas-docs/stable/user_guide/indexing.html#returning-a-view-versus-a-copy\n",
      "  dataset[\"category\"] = dataset[\"category\"].astype(\"category\")\n",
      "2022-09-11 13:07:19,671 :: create_dataset/create_dataset.py/clean_dataset :: INFO :: Uncategorized class removed\n",
      "2022-09-11 13:07:19,672 :: create_dataset/create_dataset.py/clean_dataset :: INFO :: Dataset shape: (454424, 7)\n",
      "2022-09-11 13:07:19,772 :: create_dataset/create_dataset.py/clean_dataset :: INFO :: Remove duplicated pair (id_product, category)\n",
      "2022-09-11 13:07:19,774 :: create_dataset/create_dataset.py/clean_dataset :: INFO :: Dataset shape: (357575, 7)\n"
     ]
    }
   ],
   "source": [
    "dataset = clean_dataset(joined_tables)"
   ]
  },
  {
   "cell_type": "markdown",
   "id": "92061390-1274-49f5-ad95-a682179a01a9",
   "metadata": {},
   "source": [
    "## Create train, test, validation set"
   ]
  },
  {
   "cell_type": "code",
   "execution_count": 5,
   "id": "b281654a-75f7-433f-b509-c484ed29817b",
   "metadata": {},
   "outputs": [],
   "source": [
    "min_category_count = 75\n",
    "max_category_count = 10_000\n",
    "split_size = 0.15\n",
    "random_state = 42\n",
    "simple_split = SimpleSplit(min_categories_threshold=min_category_count, max_categories_threshold=max_category_count)"
   ]
  },
  {
   "cell_type": "code",
   "execution_count": 6,
   "id": "6f41d99e-0f74-4196-bc99-83c93ffb05c8",
   "metadata": {},
   "outputs": [
    {
     "name": "stderr",
     "output_type": "stream",
     "text": [
      "2022-09-11 13:07:19,800 :: train_test_val_split/train_test_val_split.py/execute :: INFO :: Split dataset into train, test, val using train_test_split with stratification\n",
      "2022-09-11 13:07:19,802 :: train_test_val_split/train_test_val_split.py/_filter_categories :: INFO :: Apply filter to remove categories with few examples\n",
      "2022-09-11 13:07:19,846 :: train_test_val_split/train_test_val_split.py/_filter_categories :: INFO :: Removed categories: applis et jeux ,boutique cheques-cadeaux ,cigarettes ,garantie ,livraison ,telechargement de musique ,uncategorized\n",
      "2022-09-11 13:07:19,848 :: train_test_val_split/train_test_val_split.py/_filter_categories :: INFO :: Dataset shape: (357484, 7)\n",
      "2022-09-11 13:07:19,849 :: train_test_val_split/train_test_val_split.py/_downsampling_categories :: INFO :: Downsampling categories with too much examples\n",
      "2022-09-11 13:07:19,887 :: train_test_val_split/train_test_val_split.py/_downsampling_categories :: INFO :: Dataset shape: (153845, 7)\n",
      "2022-09-11 13:07:20,225 :: utils/utils.py/log_attribute_per_dataset :: INFO :: training: {'animalerie': 7838, 'applis et jeux': 0, 'auto et moto': 3955, 'bagages et sacs': 3285, 'beaute et parfum': 8511, 'bebe et puericulture': 4513, 'bijoux': 4072, 'boutique cheques-cadeaux': 0, 'bricolage': 8503, 'cd et vinyles': 329, 'chaussures et accessoires': 7938, 'cigarettes': 0, 'commerce, industrie et science': 308, 'cuisine et maison': 8507, 'dvd et blu-ray': 1170, 'epicerie': 8515, 'forfaits et accessoires operateurs': 388, 'fournitures de bureau': 5866, 'garantie': 0, 'gros electromenager': 669, 'high-tech': 8504, 'hygiene et sante': 8512, 'instruments de musique et sono': 904, 'jardin': 4783, 'jeux et jouets': 8512, 'jeux video': 3581, 'livraison': 0, 'livres': 4106, 'livres numeriques': 354, 'logiciels': 139, 'luminaires et eclairage': 2387, 'montres': 781, 'sports et loisirs': 5472, 'telechargement de musique': 0, 'uncategorized': 0, 'vetements': 8501}\n",
      "2022-09-11 13:07:20,227 :: train_test_val_split/train_test_val_split.py/_multilabel_transformation :: INFO :: Join categories for each product\n",
      "2022-09-11 13:07:33,033 :: utils/utils.py/log_attribute_per_dataset :: INFO :: test: {'animalerie': 691, 'applis et jeux': 0, 'auto et moto': 350, 'bagages et sacs': 290, 'beaute et parfum': 757, 'bebe et puericulture': 399, 'bijoux': 361, 'boutique cheques-cadeaux': 0, 'bricolage': 753, 'cd et vinyles': 30, 'chaussures et accessoires': 703, 'cigarettes': 0, 'commerce, industrie et science': 29, 'cuisine et maison': 758, 'dvd et blu-ray': 103, 'epicerie': 752, 'forfaits et accessoires operateurs': 34, 'fournitures de bureau': 523, 'garantie': 0, 'gros electromenager': 60, 'high-tech': 750, 'hygiene et sante': 762, 'instruments de musique et sono': 81, 'jardin': 428, 'jeux et jouets': 757, 'jeux video': 319, 'livraison': 0, 'livres': 369, 'livres numeriques': 31, 'logiciels': 14, 'luminaires et eclairage': 211, 'montres': 69, 'sports et loisirs': 484, 'telechargement de musique': 0, 'uncategorized': 0, 'vetements': 750}\n",
      "2022-09-11 13:07:33,035 :: train_test_val_split/train_test_val_split.py/_multilabel_transformation :: INFO :: Join categories for each product\n",
      "2022-09-11 13:07:34,186 :: utils/utils.py/log_attribute_per_dataset :: INFO :: validation: {'animalerie': 693, 'applis et jeux': 0, 'auto et moto': 350, 'bagages et sacs': 290, 'beaute et parfum': 755, 'bebe et puericulture': 402, 'bijoux': 359, 'boutique cheques-cadeaux': 0, 'bricolage': 753, 'cd et vinyles': 29, 'chaussures et accessoires': 701, 'cigarettes': 0, 'commerce, industrie et science': 29, 'cuisine et maison': 755, 'dvd et blu-ray': 103, 'epicerie': 753, 'forfaits et accessoires operateurs': 34, 'fournitures de bureau': 521, 'garantie': 0, 'gros electromenager': 60, 'high-tech': 755, 'hygiene et sante': 756, 'instruments de musique et sono': 81, 'jardin': 425, 'jeux et jouets': 757, 'jeux video': 318, 'livraison': 0, 'livres': 373, 'livres numeriques': 32, 'logiciels': 13, 'luminaires et eclairage': 210, 'montres': 69, 'sports et loisirs': 484, 'telechargement de musique': 0, 'uncategorized': 0, 'vetements': 752}\n",
      "2022-09-11 13:07:34,187 :: train_test_val_split/train_test_val_split.py/_multilabel_transformation :: INFO :: Join categories for each product\n"
     ]
    }
   ],
   "source": [
    "simple_datasets = simple_split.execute(dataset=dataset, split_size=split_size, random_state=random_state)"
   ]
  },
  {
   "cell_type": "code",
   "execution_count": 7,
   "id": "4a123446-aad9-4cbe-9b12-db707b1cdc55",
   "metadata": {},
   "outputs": [],
   "source": [
    "for fname, dataframe in simple_datasets:\n",
    "    setattr(simple_datasets, fname, dataframe.drop(columns=[\"product_description\"]))"
   ]
  },
  {
   "cell_type": "markdown",
   "id": "7e8c678c-61e6-42a9-a515-ae388d319450",
   "metadata": {},
   "source": [
    "## Serialize datasets"
   ]
  },
  {
   "cell_type": "code",
   "execution_count": 8,
   "id": "25aa7464-41a3-4294-b9ec-4da20298b286",
   "metadata": {},
   "outputs": [],
   "source": [
    "import pickle\n",
    "\n",
    "with open(f\"{path}/datasets.pkl\", \"wb\") as handle:\n",
    "    pickle.dump(simple_datasets, handle, protocol=pickle.HIGHEST_PROTOCOL)\n",
    "\n",
    "with open(f\"{path}/multilabel_binarizer.pkl\", \"wb\") as handle:\n",
    "    pickle.dump(simple_split.multilabel_binarizer, handle, protocol=pickle.HIGHEST_PROTOCOL)\n",
    "    \n",
    "with open(f\"{path}/pos_weight.pkl\", \"wb\") as handle:\n",
    "    pickle.dump(simple_split.pos_weight, handle, protocol=pickle.HIGHEST_PROTOCOL)"
   ]
  },
  {
   "cell_type": "code",
   "execution_count": null,
   "id": "befee053-83a7-4411-9230-393ff0442a3f",
   "metadata": {},
   "outputs": [],
   "source": []
  }
 ],
 "metadata": {
  "kernelspec": {
   "display_name": "Python 3.9.5 ('.venv': poetry)",
   "language": "python",
   "name": "python3"
  },
  "language_info": {
   "codemirror_mode": {
    "name": "ipython",
    "version": 3
   },
   "file_extension": ".py",
   "mimetype": "text/x-python",
   "name": "python",
   "nbconvert_exporter": "python",
   "pygments_lexer": "ipython3",
   "version": "3.9.5"
  },
  "vscode": {
   "interpreter": {
    "hash": "2b0cf01926fdba77768c887237a45b31f500b4a49d2ce7769aa1db38997fd2e9"
   }
  }
 },
 "nbformat": 4,
 "nbformat_minor": 5
}
