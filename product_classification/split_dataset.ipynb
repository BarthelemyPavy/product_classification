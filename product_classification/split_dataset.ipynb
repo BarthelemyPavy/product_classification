{
 "cells": [
  {
   "cell_type": "code",
   "execution_count": 1,
   "id": "6e85d096-f47b-4905-945b-b2c8fc9d7be7",
   "metadata": {},
   "outputs": [
    {
     "name": "stderr",
     "output_type": "stream",
     "text": [
      "/home/okteto/product_classification/.venv/lib/python3.9/site-packages/tqdm/auto.py:22: TqdmWarning: IProgress not found. Please update jupyter and ipywidgets. See https://ipywidgets.readthedocs.io/en/stable/user_install.html\n",
      "  from .autonotebook import tqdm as notebook_tqdm\n"
     ]
    }
   ],
   "source": [
    "import os\n",
    "import pandas as pd\n",
    "from sklearn.preprocessing import MultiLabelBinarizer\n",
    "from product_classification.data_processing.train_test_val_split import IterativeSplit, SimpleSplit \n",
    "from product_classification.data_processing.create_dataset import clean_dataset, get_merged_dataframe"
   ]
  },
  {
   "cell_type": "code",
   "execution_count": 2,
   "id": "e247cf76-444c-4f58-8ddf-8a5f593813c2",
   "metadata": {},
   "outputs": [
    {
     "name": "stderr",
     "output_type": "stream",
     "text": [
      "2022-09-12 07:43:27,518 :: create_dataset/create_dataset.py/get_merged_dataframe :: INFO :: Create dataset\n",
      "2022-09-12 07:44:25,888 :: create_dataset/create_dataset.py/get_merged_dataframe :: INFO :: Dataframe created\n",
      "2022-09-12 07:44:25,889 :: create_dataset/create_dataset.py/get_merged_dataframe :: INFO :: Dataset shape: (470347, 7)\n"
     ]
    }
   ],
   "source": [
    "path = \"../data\"\n",
    "joined_tables = get_merged_dataframe(path)"
   ]
  },
  {
   "cell_type": "code",
   "execution_count": 3,
   "id": "5f99e59f-54d2-4439-a6a8-79d422d941ec",
   "metadata": {},
   "outputs": [
    {
     "name": "stderr",
     "output_type": "stream",
     "text": [
      "2022-09-12 07:44:26,466 :: create_dataset/create_dataset.py/clean_dataset :: INFO :: Duplicates removed\n",
      "2022-09-12 07:44:26,467 :: create_dataset/create_dataset.py/clean_dataset :: INFO :: Dataset shape: (462695, 7)\n",
      "/home/okteto/product_classification/product_classification/product_classification/data_processing/create_dataset.py:74: SettingWithCopyWarning: \n",
      "A value is trying to be set on a copy of a slice from a DataFrame.\n",
      "Try using .loc[row_indexer,col_indexer] = value instead\n",
      "\n",
      "See the caveats in the documentation: https://pandas.pydata.org/pandas-docs/stable/user_guide/indexing.html#returning-a-view-versus-a-copy\n",
      "  dataset[\"merchant_name\"] = dataset[\"merchant_name\"].astype(\"category\")\n",
      "/home/okteto/product_classification/product_classification/product_classification/data_processing/create_dataset.py:75: SettingWithCopyWarning: \n",
      "A value is trying to be set on a copy of a slice from a DataFrame.\n",
      "Try using .loc[row_indexer,col_indexer] = value instead\n",
      "\n",
      "See the caveats in the documentation: https://pandas.pydata.org/pandas-docs/stable/user_guide/indexing.html#returning-a-view-versus-a-copy\n",
      "  dataset[\"brand_name\"] = dataset[\"brand_name\"].astype(\"category\")\n",
      "/home/okteto/product_classification/product_classification/product_classification/data_processing/create_dataset.py:76: SettingWithCopyWarning: \n",
      "A value is trying to be set on a copy of a slice from a DataFrame.\n",
      "Try using .loc[row_indexer,col_indexer] = value instead\n",
      "\n",
      "See the caveats in the documentation: https://pandas.pydata.org/pandas-docs/stable/user_guide/indexing.html#returning-a-view-versus-a-copy\n",
      "  dataset[\"category\"] = dataset[\"category\"].astype(\"category\")\n",
      "2022-09-12 07:44:26,899 :: create_dataset/create_dataset.py/clean_dataset :: INFO :: Uncategorized class removed\n",
      "2022-09-12 07:44:26,900 :: create_dataset/create_dataset.py/clean_dataset :: INFO :: Dataset shape: (454424, 7)\n",
      "2022-09-12 07:44:26,983 :: create_dataset/create_dataset.py/clean_dataset :: INFO :: Remove duplicated pair (id_product, category)\n",
      "2022-09-12 07:44:26,984 :: create_dataset/create_dataset.py/clean_dataset :: INFO :: Dataset shape: (357575, 7)\n"
     ]
    }
   ],
   "source": [
    "dataset = clean_dataset(joined_tables)"
   ]
  },
  {
   "cell_type": "markdown",
   "id": "92061390-1274-49f5-ad95-a682179a01a9",
   "metadata": {},
   "source": [
    "## Create train, test, validation set"
   ]
  },
  {
   "cell_type": "code",
   "execution_count": 4,
   "id": "b281654a-75f7-433f-b509-c484ed29817b",
   "metadata": {},
   "outputs": [],
   "source": [
    "min_category_count = 300\n",
    "max_category_count = 10_000\n",
    "split_size = 0.15\n",
    "random_state = 42\n",
    "simple_split = SimpleSplit(min_categories_threshold=min_category_count, max_categories_threshold=max_category_count)"
   ]
  },
  {
   "cell_type": "code",
   "execution_count": 5,
   "id": "6f41d99e-0f74-4196-bc99-83c93ffb05c8",
   "metadata": {},
   "outputs": [
    {
     "name": "stderr",
     "output_type": "stream",
     "text": [
      "2022-09-12 07:44:27,007 :: train_test_val_split/train_test_val_split.py/execute :: INFO :: Split dataset into train, test, val using train_test_split with stratification\n",
      "2022-09-12 07:44:27,009 :: train_test_val_split/train_test_val_split.py/_filter_categories :: INFO :: Apply filter to remove categories with few examples\n",
      "2022-09-12 07:44:27,047 :: train_test_val_split/train_test_val_split.py/_filter_categories :: INFO :: Removed categories: applis et jeux ,boutique cheques-cadeaux ,cigarettes ,garantie ,livraison ,logiciels ,telechargement de musique ,uncategorized\n",
      "2022-09-12 07:44:27,048 :: train_test_val_split/train_test_val_split.py/_filter_categories :: INFO :: Dataset shape: (357320, 7)\n",
      "2022-09-12 07:44:27,049 :: train_test_val_split/train_test_val_split.py/_downsampling_categories :: INFO :: Downsampling categories with too much examples\n",
      "2022-09-12 07:44:27,084 :: train_test_val_split/train_test_val_split.py/_downsampling_categories :: INFO :: Dataset shape: (153681, 7)\n",
      "2022-09-12 07:44:27,455 :: utils/utils.py/log_attribute_per_dataset :: INFO :: training: {'animalerie': 7838, 'applis et jeux': 0, 'auto et moto': 3956, 'bagages et sacs': 3285, 'beaute et parfum': 8511, 'bebe et puericulture': 4513, 'bijoux': 4072, 'boutique cheques-cadeaux': 0, 'bricolage': 8503, 'cd et vinyles': 329, 'chaussures et accessoires': 7938, 'cigarettes': 0, 'commerce, industrie et science': 308, 'cuisine et maison': 8507, 'dvd et blu-ray': 1170, 'epicerie': 8515, 'forfaits et accessoires operateurs': 387, 'fournitures de bureau': 5866, 'garantie': 0, 'gros electromenager': 669, 'high-tech': 8504, 'hygiene et sante': 8512, 'instruments de musique et sono': 904, 'jardin': 4783, 'jeux et jouets': 8512, 'jeux video': 3581, 'livraison': 0, 'livres': 4105, 'livres numeriques': 354, 'logiciels': 0, 'luminaires et eclairage': 2388, 'montres': 781, 'sports et loisirs': 5472, 'telechargement de musique': 0, 'uncategorized': 0, 'vetements': 8501}\n",
      "2022-09-12 07:44:27,456 :: train_test_val_split/train_test_val_split.py/_multilabel_transformation :: INFO :: Join categories for each product\n",
      "2022-09-12 07:44:40,829 :: utils/utils.py/log_attribute_per_dataset :: INFO :: test: {'animalerie': 692, 'applis et jeux': 0, 'auto et moto': 348, 'bagages et sacs': 291, 'beaute et parfum': 754, 'bebe et puericulture': 398, 'bijoux': 361, 'boutique cheques-cadeaux': 0, 'bricolage': 754, 'cd et vinyles': 29, 'chaussures et accessoires': 702, 'cigarettes': 0, 'commerce, industrie et science': 29, 'cuisine et maison': 754, 'dvd et blu-ray': 103, 'epicerie': 752, 'forfaits et accessoires operateurs': 35, 'fournitures de bureau': 523, 'garantie': 0, 'gros electromenager': 59, 'high-tech': 752, 'hygiene et sante': 761, 'instruments de musique et sono': 81, 'jardin': 426, 'jeux et jouets': 760, 'jeux video': 319, 'livraison': 0, 'livres': 370, 'livres numeriques': 32, 'logiciels': 0, 'luminaires et eclairage': 211, 'montres': 69, 'sports et loisirs': 484, 'telechargement de musique': 0, 'uncategorized': 0, 'vetements': 751}\n",
      "2022-09-12 07:44:40,831 :: train_test_val_split/train_test_val_split.py/_multilabel_transformation :: INFO :: Join categories for each product\n",
      "2022-09-12 07:44:42,050 :: utils/utils.py/log_attribute_per_dataset :: INFO :: validation: {'animalerie': 692, 'applis et jeux': 0, 'auto et moto': 350, 'bagages et sacs': 290, 'beaute et parfum': 757, 'bebe et puericulture': 403, 'bijoux': 359, 'boutique cheques-cadeaux': 0, 'bricolage': 752, 'cd et vinyles': 30, 'chaussures et accessoires': 701, 'cigarettes': 0, 'commerce, industrie et science': 29, 'cuisine et maison': 759, 'dvd et blu-ray': 103, 'epicerie': 753, 'forfaits et accessoires operateurs': 34, 'fournitures de bureau': 521, 'garantie': 0, 'gros electromenager': 61, 'high-tech': 753, 'hygiene et sante': 756, 'instruments de musique et sono': 81, 'jardin': 427, 'jeux et jouets': 753, 'jeux video': 317, 'livraison': 0, 'livres': 370, 'livres numeriques': 31, 'logiciels': 0, 'luminaires et eclairage': 210, 'montres': 69, 'sports et loisirs': 484, 'telechargement de musique': 0, 'uncategorized': 0, 'vetements': 750}\n",
      "2022-09-12 07:44:42,052 :: train_test_val_split/train_test_val_split.py/_multilabel_transformation :: INFO :: Join categories for each product\n"
     ]
    }
   ],
   "source": [
    "simple_datasets = simple_split.execute(dataset=dataset, split_size=split_size, random_state=random_state)"
   ]
  },
  {
   "cell_type": "code",
   "execution_count": 6,
   "id": "4a123446-aad9-4cbe-9b12-db707b1cdc55",
   "metadata": {},
   "outputs": [],
   "source": [
    "for fname, dataframe in simple_datasets:\n",
    "    setattr(simple_datasets, fname, dataframe.drop(columns=[\"product_description\"]))"
   ]
  },
  {
   "cell_type": "markdown",
   "id": "7e8c678c-61e6-42a9-a515-ae388d319450",
   "metadata": {},
   "source": [
    "## Serialize datasets"
   ]
  },
  {
   "cell_type": "code",
   "execution_count": 7,
   "id": "25aa7464-41a3-4294-b9ec-4da20298b286",
   "metadata": {},
   "outputs": [],
   "source": [
    "import pickle\n",
    "\n",
    "with open(f\"{path}/datasets.pkl\", \"wb\") as handle:\n",
    "    pickle.dump(simple_datasets, handle, protocol=pickle.HIGHEST_PROTOCOL)\n",
    "\n",
    "with open(f\"{path}/multilabel_binarizer.pkl\", \"wb\") as handle:\n",
    "    pickle.dump(simple_split.multilabel_binarizer, handle, protocol=pickle.HIGHEST_PROTOCOL)\n",
    "    \n",
    "with open(f\"{path}/pos_weight.pkl\", \"wb\") as handle:\n",
    "    pickle.dump(simple_split.pos_weight, handle, protocol=pickle.HIGHEST_PROTOCOL)"
   ]
  },
  {
   "cell_type": "code",
   "execution_count": null,
   "id": "20df6183-b0f7-462b-909d-2604a3a818af",
   "metadata": {},
   "outputs": [],
   "source": []
  }
 ],
 "metadata": {
  "kernelspec": {
   "display_name": "Python 3 (ipykernel)",
   "language": "python",
   "name": "python3"
  },
  "language_info": {
   "codemirror_mode": {
    "name": "ipython",
    "version": 3
   },
   "file_extension": ".py",
   "mimetype": "text/x-python",
   "name": "python",
   "nbconvert_exporter": "python",
   "pygments_lexer": "ipython3",
   "version": "3.9.13"
  },
  "vscode": {
   "interpreter": {
    "hash": "2b0cf01926fdba77768c887237a45b31f500b4a49d2ce7769aa1db38997fd2e9"
   }
  }
 },
 "nbformat": 4,
 "nbformat_minor": 5
}
