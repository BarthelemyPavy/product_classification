{
 "cells": [
  {
   "cell_type": "code",
   "execution_count": 1,
   "id": "6e85d096-f47b-4905-945b-b2c8fc9d7be7",
   "metadata": {},
   "outputs": [
    {
     "name": "stderr",
     "output_type": "stream",
     "text": [
      "/home/okteto/product_classification/.venv/lib/python3.9/site-packages/tqdm/auto.py:22: TqdmWarning: IProgress not found. Please update jupyter and ipywidgets. See https://ipywidgets.readthedocs.io/en/stable/user_install.html\n",
      "  from .autonotebook import tqdm as notebook_tqdm\n"
     ]
    }
   ],
   "source": [
    "import os\n",
    "import pandas as pd\n",
    "from sklearn.preprocessing import MultiLabelBinarizer\n",
    "from product_classification.data_processing.train_test_val_split import IterativeSplit, SimpleSplit \n",
    "from product_classification.data_processing.create_dataset import clean_dataset, get_merged_dataframe"
   ]
  },
  {
   "cell_type": "code",
   "execution_count": 2,
   "id": "e247cf76-444c-4f58-8ddf-8a5f593813c2",
   "metadata": {},
   "outputs": [
    {
     "name": "stderr",
     "output_type": "stream",
     "text": [
      "2022-09-12 06:08:35,157 :: create_dataset/create_dataset.py/get_merged_dataframe :: INFO :: Create dataset\n",
      "2022-09-12 06:09:33,128 :: create_dataset/create_dataset.py/get_merged_dataframe :: INFO :: Dataframe created\n",
      "2022-09-12 06:09:33,129 :: create_dataset/create_dataset.py/get_merged_dataframe :: INFO :: Dataset shape: (470347, 7)\n"
     ]
    }
   ],
   "source": [
    "path = \"../data\"\n",
    "joined_tables = get_merged_dataframe(path)"
   ]
  },
  {
   "cell_type": "code",
   "execution_count": 3,
   "id": "5f99e59f-54d2-4439-a6a8-79d422d941ec",
   "metadata": {},
   "outputs": [
    {
     "name": "stderr",
     "output_type": "stream",
     "text": [
      "2022-09-12 06:09:33,749 :: create_dataset/create_dataset.py/clean_dataset :: INFO :: Duplicates removed\n",
      "2022-09-12 06:09:33,751 :: create_dataset/create_dataset.py/clean_dataset :: INFO :: Dataset shape: (462695, 7)\n",
      "/home/okteto/product_classification/product_classification/product_classification/data_processing/create_dataset.py:74: SettingWithCopyWarning: \n",
      "A value is trying to be set on a copy of a slice from a DataFrame.\n",
      "Try using .loc[row_indexer,col_indexer] = value instead\n",
      "\n",
      "See the caveats in the documentation: https://pandas.pydata.org/pandas-docs/stable/user_guide/indexing.html#returning-a-view-versus-a-copy\n",
      "  dataset[\"merchant_name\"] = dataset[\"merchant_name\"].astype(\"category\")\n",
      "/home/okteto/product_classification/product_classification/product_classification/data_processing/create_dataset.py:75: SettingWithCopyWarning: \n",
      "A value is trying to be set on a copy of a slice from a DataFrame.\n",
      "Try using .loc[row_indexer,col_indexer] = value instead\n",
      "\n",
      "See the caveats in the documentation: https://pandas.pydata.org/pandas-docs/stable/user_guide/indexing.html#returning-a-view-versus-a-copy\n",
      "  dataset[\"brand_name\"] = dataset[\"brand_name\"].astype(\"category\")\n",
      "/home/okteto/product_classification/product_classification/product_classification/data_processing/create_dataset.py:76: SettingWithCopyWarning: \n",
      "A value is trying to be set on a copy of a slice from a DataFrame.\n",
      "Try using .loc[row_indexer,col_indexer] = value instead\n",
      "\n",
      "See the caveats in the documentation: https://pandas.pydata.org/pandas-docs/stable/user_guide/indexing.html#returning-a-view-versus-a-copy\n",
      "  dataset[\"category\"] = dataset[\"category\"].astype(\"category\")\n",
      "2022-09-12 06:09:34,218 :: create_dataset/create_dataset.py/clean_dataset :: INFO :: Uncategorized class removed\n",
      "2022-09-12 06:09:34,219 :: create_dataset/create_dataset.py/clean_dataset :: INFO :: Dataset shape: (454424, 7)\n",
      "2022-09-12 06:09:34,295 :: create_dataset/create_dataset.py/clean_dataset :: INFO :: Remove duplicated pair (id_product, category)\n",
      "2022-09-12 06:09:34,296 :: create_dataset/create_dataset.py/clean_dataset :: INFO :: Dataset shape: (357575, 7)\n"
     ]
    }
   ],
   "source": [
    "dataset = clean_dataset(joined_tables)"
   ]
  },
  {
   "cell_type": "markdown",
   "id": "92061390-1274-49f5-ad95-a682179a01a9",
   "metadata": {},
   "source": [
    "## Create train, test, validation set"
   ]
  },
  {
   "cell_type": "code",
   "execution_count": 4,
   "id": "b281654a-75f7-433f-b509-c484ed29817b",
   "metadata": {},
   "outputs": [],
   "source": [
    "min_category_count = 300\n",
    "max_category_count = 5_000\n",
    "split_size = 0.15\n",
    "random_state = 42\n",
    "simple_split = SimpleSplit(min_categories_threshold=min_category_count, max_categories_threshold=max_category_count)"
   ]
  },
  {
   "cell_type": "code",
   "execution_count": 5,
   "id": "6f41d99e-0f74-4196-bc99-83c93ffb05c8",
   "metadata": {},
   "outputs": [
    {
     "name": "stderr",
     "output_type": "stream",
     "text": [
      "2022-09-12 06:09:34,315 :: train_test_val_split/train_test_val_split.py/execute :: INFO :: Split dataset into train, test, val using train_test_split with stratification\n",
      "2022-09-12 06:09:34,317 :: train_test_val_split/train_test_val_split.py/_filter_categories :: INFO :: Apply filter to remove categories with few examples\n",
      "2022-09-12 06:09:34,358 :: train_test_val_split/train_test_val_split.py/_filter_categories :: INFO :: Removed categories: applis et jeux ,boutique cheques-cadeaux ,cigarettes ,garantie ,livraison ,logiciels ,telechargement de musique ,uncategorized\n",
      "2022-09-12 06:09:34,359 :: train_test_val_split/train_test_val_split.py/_filter_categories :: INFO :: Dataset shape: (357320, 7)\n",
      "2022-09-12 06:09:34,360 :: train_test_val_split/train_test_val_split.py/_downsampling_categories :: INFO :: Downsampling categories with too much examples\n",
      "2022-09-12 06:09:34,396 :: train_test_val_split/train_test_val_split.py/_downsampling_categories :: INFO :: Dataset shape: (100888, 7)\n",
      "2022-09-12 06:09:34,658 :: utils/utils.py/log_attribute_per_dataset :: INFO :: training: {'animalerie': 4251, 'applis et jeux': 0, 'auto et moto': 3954, 'bagages et sacs': 3285, 'beaute et parfum': 4255, 'bebe et puericulture': 4252, 'bijoux': 4071, 'boutique cheques-cadeaux': 0, 'bricolage': 4251, 'cd et vinyles': 328, 'chaussures et accessoires': 4254, 'cigarettes': 0, 'commerce, industrie et science': 308, 'cuisine et maison': 4253, 'dvd et blu-ray': 1171, 'epicerie': 4252, 'forfaits et accessoires operateurs': 387, 'fournitures de bureau': 4256, 'garantie': 0, 'gros electromenager': 670, 'high-tech': 4254, 'hygiene et sante': 4252, 'instruments de musique et sono': 903, 'jardin': 4252, 'jeux et jouets': 4254, 'jeux video': 3579, 'livraison': 0, 'livres': 4102, 'livres numeriques': 356, 'logiciels': 0, 'luminaires et eclairage': 2386, 'montres': 780, 'sports et loisirs': 4252, 'telechargement de musique': 0, 'uncategorized': 0, 'vetements': 4250}\n",
      "2022-09-12 06:09:34,659 :: train_test_val_split/train_test_val_split.py/_multilabel_transformation :: INFO :: Join categories for each product\n",
      "2022-09-12 06:09:43,767 :: utils/utils.py/log_attribute_per_dataset :: INFO :: test: {'animalerie': 375, 'applis et jeux': 0, 'auto et moto': 349, 'bagages et sacs': 292, 'beaute et parfum': 379, 'bebe et puericulture': 375, 'bijoux': 359, 'boutique cheques-cadeaux': 0, 'bricolage': 375, 'cd et vinyles': 30, 'chaussures et accessoires': 375, 'cigarettes': 0, 'commerce, industrie et science': 27, 'cuisine et maison': 377, 'dvd et blu-ray': 103, 'epicerie': 376, 'forfaits et accessoires operateurs': 34, 'fournitures de bureau': 378, 'garantie': 0, 'gros electromenager': 59, 'high-tech': 375, 'hygiene et sante': 377, 'instruments de musique et sono': 80, 'jardin': 375, 'jeux et jouets': 376, 'jeux video': 316, 'livraison': 0, 'livres': 366, 'livres numeriques': 33, 'logiciels': 0, 'luminaires et eclairage': 211, 'montres': 69, 'sports et loisirs': 376, 'telechargement de musique': 0, 'uncategorized': 0, 'vetements': 375}\n",
      "2022-09-12 06:09:43,768 :: train_test_val_split/train_test_val_split.py/_multilabel_transformation :: INFO :: Join categories for each product\n",
      "2022-09-12 06:09:44,515 :: utils/utils.py/log_attribute_per_dataset :: INFO :: validation: {'animalerie': 376, 'applis et jeux': 0, 'auto et moto': 348, 'bagages et sacs': 293, 'beaute et parfum': 377, 'bebe et puericulture': 379, 'bijoux': 359, 'boutique cheques-cadeaux': 0, 'bricolage': 378, 'cd et vinyles': 29, 'chaussures et accessoires': 376, 'cigarettes': 0, 'commerce, industrie et science': 28, 'cuisine et maison': 377, 'dvd et blu-ray': 103, 'epicerie': 376, 'forfaits et accessoires operateurs': 35, 'fournitures de bureau': 377, 'garantie': 0, 'gros electromenager': 59, 'high-tech': 376, 'hygiene et sante': 376, 'instruments de musique et sono': 80, 'jardin': 378, 'jeux et jouets': 377, 'jeux video': 320, 'livraison': 0, 'livres': 370, 'livres numeriques': 31, 'logiciels': 0, 'luminaires et eclairage': 210, 'montres': 69, 'sports et loisirs': 376, 'telechargement de musique': 0, 'uncategorized': 0, 'vetements': 375}\n",
      "2022-09-12 06:09:44,516 :: train_test_val_split/train_test_val_split.py/_multilabel_transformation :: INFO :: Join categories for each product\n"
     ]
    }
   ],
   "source": [
    "simple_datasets = simple_split.execute(dataset=dataset, split_size=split_size, random_state=random_state)"
   ]
  },
  {
   "cell_type": "code",
   "execution_count": 6,
   "id": "4a123446-aad9-4cbe-9b12-db707b1cdc55",
   "metadata": {},
   "outputs": [],
   "source": [
    "for fname, dataframe in simple_datasets:\n",
    "    setattr(simple_datasets, fname, dataframe.drop(columns=[\"product_description\"]))"
   ]
  },
  {
   "cell_type": "markdown",
   "id": "7e8c678c-61e6-42a9-a515-ae388d319450",
   "metadata": {},
   "source": [
    "## Serialize datasets"
   ]
  },
  {
   "cell_type": "code",
   "execution_count": 7,
   "id": "25aa7464-41a3-4294-b9ec-4da20298b286",
   "metadata": {},
   "outputs": [],
   "source": [
    "import pickle\n",
    "\n",
    "with open(f\"{path}/datasets.pkl\", \"wb\") as handle:\n",
    "    pickle.dump(simple_datasets, handle, protocol=pickle.HIGHEST_PROTOCOL)\n",
    "\n",
    "with open(f\"{path}/multilabel_binarizer.pkl\", \"wb\") as handle:\n",
    "    pickle.dump(simple_split.multilabel_binarizer, handle, protocol=pickle.HIGHEST_PROTOCOL)\n",
    "    \n",
    "with open(f\"{path}/pos_weight.pkl\", \"wb\") as handle:\n",
    "    pickle.dump(simple_split.pos_weight, handle, protocol=pickle.HIGHEST_PROTOCOL)"
   ]
  },
  {
   "cell_type": "code",
   "execution_count": null,
   "id": "20df6183-b0f7-462b-909d-2604a3a818af",
   "metadata": {},
   "outputs": [],
   "source": []
  }
 ],
 "metadata": {
  "kernelspec": {
   "display_name": "Python 3 (ipykernel)",
   "language": "python",
   "name": "python3"
  },
  "language_info": {
   "codemirror_mode": {
    "name": "ipython",
    "version": 3
   },
   "file_extension": ".py",
   "mimetype": "text/x-python",
   "name": "python",
   "nbconvert_exporter": "python",
   "pygments_lexer": "ipython3",
   "version": "3.9.13"
  },
  "vscode": {
   "interpreter": {
    "hash": "2b0cf01926fdba77768c887237a45b31f500b4a49d2ce7769aa1db38997fd2e9"
   }
  }
 },
 "nbformat": 4,
 "nbformat_minor": 5
}
