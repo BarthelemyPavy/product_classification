{
 "cells": [
  {
   "cell_type": "code",
   "execution_count": 1,
   "id": "44f9f8c7-1dd0-4477-87a1-cf9ad5ddc926",
   "metadata": {},
   "outputs": [],
   "source": [
    "import os\n",
    "import pandas as pd\n",
    "from sklearn.preprocessing import MultiLabelBinarizer\n",
    "from product_classification.data_processing.train_test_val_split import IterativeSplit, SimpleSplit \n",
    "from product_classification.data_processing.create_dataset import clean_dataset"
   ]
  },
  {
   "cell_type": "code",
   "execution_count": 2,
   "id": "04695b58-e22d-40dd-ab19-747eb232333c",
   "metadata": {},
   "outputs": [],
   "source": [
    "path = \"../data\"\n",
    "joined_tables = pd.read_csv(f\"{path}/joined_tables.csv\")"
   ]
  },
  {
   "cell_type": "code",
   "execution_count": 3,
   "id": "1a03300d-b826-4c3a-9659-ac30a3c8ec1a",
   "metadata": {},
   "outputs": [
    {
     "name": "stderr",
     "output_type": "stream",
     "text": [
      "2022-09-10 16:14:44,015 :: create_dataset/create_dataset.py/clean_dataset :: INFO :: Duplicates removed\n",
      "2022-09-10 16:14:44,016 :: create_dataset/create_dataset.py/clean_dataset :: INFO :: Dataset shape: (462695, 7)\n",
      "/home/okteto/product_classification/product_classification/product_classification/data_processing/create_dataset.py:74: SettingWithCopyWarning: \n",
      "A value is trying to be set on a copy of a slice from a DataFrame.\n",
      "Try using .loc[row_indexer,col_indexer] = value instead\n",
      "\n",
      "See the caveats in the documentation: https://pandas.pydata.org/pandas-docs/stable/user_guide/indexing.html#returning-a-view-versus-a-copy\n",
      "  dataset[\"merchant_name\"] = dataset[\"merchant_name\"].astype(\"category\")\n",
      "/home/okteto/product_classification/product_classification/product_classification/data_processing/create_dataset.py:75: SettingWithCopyWarning: \n",
      "A value is trying to be set on a copy of a slice from a DataFrame.\n",
      "Try using .loc[row_indexer,col_indexer] = value instead\n",
      "\n",
      "See the caveats in the documentation: https://pandas.pydata.org/pandas-docs/stable/user_guide/indexing.html#returning-a-view-versus-a-copy\n",
      "  dataset[\"brand_name\"] = dataset[\"brand_name\"].astype(\"category\")\n",
      "/home/okteto/product_classification/product_classification/product_classification/data_processing/create_dataset.py:76: SettingWithCopyWarning: \n",
      "A value is trying to be set on a copy of a slice from a DataFrame.\n",
      "Try using .loc[row_indexer,col_indexer] = value instead\n",
      "\n",
      "See the caveats in the documentation: https://pandas.pydata.org/pandas-docs/stable/user_guide/indexing.html#returning-a-view-versus-a-copy\n",
      "  dataset[\"category\"] = dataset[\"category\"].astype(\"category\")\n",
      "2022-09-10 16:14:44,257 :: create_dataset/create_dataset.py/clean_dataset :: INFO :: Uncategorized class removed\n",
      "2022-09-10 16:14:44,258 :: create_dataset/create_dataset.py/clean_dataset :: INFO :: Dataset shape: (454424, 7)\n",
      "2022-09-10 16:14:44,349 :: create_dataset/create_dataset.py/clean_dataset :: INFO :: Remove duplicated pair (id_product, category)\n",
      "2022-09-10 16:14:44,350 :: create_dataset/create_dataset.py/clean_dataset :: INFO :: Dataset shape: (357575, 7)\n"
     ]
    }
   ],
   "source": [
    "dataset = clean_dataset(joined_tables)"
   ]
  },
  {
   "cell_type": "markdown",
   "id": "5164378a-a91e-45eb-bfac-a02f861617bd",
   "metadata": {},
   "source": [
    "## Create train, test, validation set"
   ]
  },
  {
   "cell_type": "code",
   "execution_count": 4,
   "id": "8c99310f-377a-4823-aff4-428e4c4f0c7c",
   "metadata": {},
   "outputs": [],
   "source": [
    "min_category_count = 300\n",
    "max_category_count = 10_000\n",
    "split_size = 0.15\n",
    "random_state = 42\n",
    "iter_split = IterativeSplit(min_categories_threshold=min_category_count, max_categories_threshold=max_category_count)\n",
    "simple_split = SimpleSplit(min_categories_threshold=min_category_count, max_categories_threshold=max_category_count)"
   ]
  },
  {
   "cell_type": "code",
   "execution_count": 7,
   "id": "9e68df9f-3c5a-4a06-836a-e17467a33908",
   "metadata": {},
   "outputs": [
    {
     "name": "stderr",
     "output_type": "stream",
     "text": [
      "2022-09-10 16:15:57,886 :: train_test_val_split/train_test_val_split.py/execute :: INFO :: Split dataset into train, test, val using iterative_train_test_split\n",
      "2022-09-10 16:15:57,887 :: train_test_val_split/train_test_val_split.py/_multilabel_transformation :: INFO :: Join categories for each product\n",
      "2022-09-10 16:16:33,821 :: train_test_val_split/train_test_val_split.py/_filter_categories :: INFO :: Apply filter to remove categories with few examples\n",
      "2022-09-10 16:16:33,971 :: train_test_val_split/train_test_val_split.py/_filter_categories :: INFO :: Removed categories: ['animalerie', 'bebe et puericulture', 'epicerie'],['animalerie', 'bebe et puericulture'],['animalerie', 'bricolage'],['animalerie', 'cuisine et maison'],['animalerie', 'epicerie', 'high-tech'],['animalerie', 'epicerie'],['animalerie', 'high-tech'],['animalerie', 'hygiene et sante'],['animalerie', 'jardin'],['animalerie', 'jeux et jouets'],['animalerie', 'livres'],['applis et jeux', 'cd et vinyles', 'chaussures et accessoires'],['applis et jeux', 'cd et vinyles'],['applis et jeux', 'chaussures et accessoires'],['applis et jeux', 'dvd et blu-ray'],['applis et jeux', 'epicerie'],['applis et jeux', 'forfaits et accessoires operateurs'],['applis et jeux', 'high-tech'],['applis et jeux', 'jeux video', 'livres'],['applis et jeux', 'jeux video'],['applis et jeux', 'livres'],['applis et jeux', 'telechargement de musique'],['applis et jeux'],['auto et moto', 'bagages et sacs', 'fournitures de bureau'],['auto et moto', 'bebe et puericulture'],['auto et moto', 'bricolage'],['auto et moto', 'chaussures et accessoires'],['auto et moto', 'cuisine et maison', 'jardin'],['auto et moto', 'cuisine et maison'],['auto et moto', 'epicerie'],['auto et moto', 'high-tech'],['auto et moto', 'hygiene et sante'],['auto et moto', 'jardin'],['auto et moto', 'jeux video'],['auto et moto', 'livres'],['auto et moto', 'sports et loisirs'],['bagages et sacs', 'beaute et parfum'],['bagages et sacs', 'bebe et puericulture'],['bagages et sacs', 'bricolage'],['bagages et sacs', 'chaussures et accessoires'],['bagages et sacs', 'cuisine et maison'],['bagages et sacs', 'epicerie'],['bagages et sacs', 'fournitures de bureau'],['bagages et sacs', 'jeux et jouets'],['bagages et sacs', 'livres numeriques'],['bagages et sacs', 'livres'],['bagages et sacs', 'sports et loisirs'],['bagages et sacs', 'vetements'],['beaute et parfum', 'bebe et puericulture'],['beaute et parfum', 'bijoux'],['beaute et parfum', 'boutique cheques-cadeaux'],['beaute et parfum', 'bricolage'],['beaute et parfum', 'cd et vinyles', 'epicerie'],['beaute et parfum', 'cd et vinyles'],['beaute et parfum', 'chaussures et accessoires'],['beaute et parfum', 'commerce, industrie et science'],['beaute et parfum', 'cuisine et maison'],['beaute et parfum', 'dvd et blu-ray'],['beaute et parfum', 'epicerie', 'high-tech'],['beaute et parfum', 'epicerie'],['beaute et parfum', 'fournitures de bureau'],['beaute et parfum', 'high-tech'],['beaute et parfum', 'hygiene et sante'],['beaute et parfum', 'instruments de musique et sono'],['beaute et parfum', 'jardin'],['beaute et parfum', 'jeux et jouets'],['beaute et parfum', 'jeux video'],['beaute et parfum', 'livres'],['beaute et parfum', 'logiciels'],['beaute et parfum', 'sports et loisirs'],['beaute et parfum', 'vetements'],['bebe et puericulture', 'cuisine et maison'],['bebe et puericulture', 'epicerie'],['bebe et puericulture', 'fournitures de bureau'],['bebe et puericulture', 'high-tech'],['bebe et puericulture', 'hygiene et sante', 'livres'],['bebe et puericulture', 'hygiene et sante'],['bebe et puericulture', 'jeux et jouets'],['bebe et puericulture', 'livres'],['bebe et puericulture', 'sports et loisirs'],['bijoux', 'cuisine et maison'],['bijoux', 'epicerie'],['bijoux', 'hygiene et sante'],['bijoux', 'jeux et jouets'],['bijoux', 'vetements'],['boutique cheques-cadeaux'],['bricolage', 'chaussures et accessoires'],['bricolage', 'cuisine et maison'],['bricolage', 'epicerie'],['bricolage', 'fournitures de bureau'],['bricolage', 'high-tech', 'hygiene et sante'],['bricolage', 'high-tech', 'jeux et jouets'],['bricolage', 'high-tech'],['bricolage', 'jardin'],['bricolage', 'jeux et jouets'],['bricolage', 'jeux video', 'livres'],['bricolage', 'livres'],['bricolage', 'sports et loisirs'],['bricolage', 'vetements'],['cd et vinyles', 'chaussures et accessoires'],['cd et vinyles', 'high-tech'],['cd et vinyles', 'jeux video'],['cd et vinyles', 'telechargement de musique'],['chaussures et accessoires', 'cuisine et maison'],['chaussures et accessoires', 'epicerie'],['chaussures et accessoires', 'jeux et jouets', 'vetements'],['chaussures et accessoires', 'jeux et jouets'],['chaussures et accessoires', 'jeux video', 'livres'],['chaussures et accessoires', 'livres'],['chaussures et accessoires', 'sports et loisirs'],['chaussures et accessoires', 'vetements'],['cigarettes'],['commerce, industrie et science', 'cuisine et maison'],['commerce, industrie et science', 'epicerie'],['commerce, industrie et science', 'fournitures de bureau'],['commerce, industrie et science', 'hygiene et sante'],['cuisine et maison', 'epicerie'],['cuisine et maison', 'fournitures de bureau'],['cuisine et maison', 'gros electromenager'],['cuisine et maison', 'high-tech', 'hygiene et sante'],['cuisine et maison', 'high-tech'],['cuisine et maison', 'hygiene et sante'],['cuisine et maison', 'jardin'],['cuisine et maison', 'jeux et jouets'],['cuisine et maison', 'jeux video'],['cuisine et maison', 'livres numeriques', 'sports et loisirs'],['cuisine et maison', 'livres'],['cuisine et maison', 'luminaires et eclairage'],['cuisine et maison', 'sports et loisirs'],['cuisine et maison', 'vetements'],['dvd et blu-ray', 'fournitures de bureau'],['dvd et blu-ray', 'high-tech'],['dvd et blu-ray', 'jeux et jouets'],['dvd et blu-ray', 'livres'],['dvd et blu-ray', 'vetements'],['epicerie', 'fournitures de bureau', 'hygiene et sante', 'livres'],['epicerie', 'fournitures de bureau'],['epicerie', 'gros electromenager'],['epicerie', 'high-tech', 'hygiene et sante'],['epicerie', 'high-tech', 'jeux video'],['epicerie', 'high-tech'],['epicerie', 'hygiene et sante'],['epicerie', 'jardin'],['epicerie', 'jeux et jouets'],['epicerie', 'jeux video'],['epicerie', 'livres'],['epicerie', 'sports et loisirs'],['epicerie', 'vetements'],['forfaits et accessoires operateurs', 'high-tech'],['fournitures de bureau', 'high-tech'],['fournitures de bureau', 'hygiene et sante'],['fournitures de bureau', 'jardin'],['fournitures de bureau', 'jeux et jouets'],['fournitures de bureau', 'jeux video'],['fournitures de bureau', 'livres numeriques'],['fournitures de bureau', 'livres'],['garantie'],['gros electromenager', 'jardin'],['high-tech', 'hygiene et sante', 'jardin'],['high-tech', 'hygiene et sante'],['high-tech', 'instruments de musique et sono', 'jeux video'],['high-tech', 'instruments de musique et sono'],['high-tech', 'jardin'],['high-tech', 'jeux et jouets', 'livres'],['high-tech', 'jeux et jouets'],['high-tech', 'jeux video'],['high-tech', 'livres numeriques'],['high-tech', 'livres', 'telechargement de musique'],['high-tech', 'livres'],['high-tech', 'luminaires et eclairage'],['high-tech', 'montres'],['high-tech', 'sports et loisirs'],['high-tech', 'vetements'],['hygiene et sante', 'instruments de musique et sono'],['hygiene et sante', 'jardin'],['hygiene et sante', 'jeux et jouets'],['hygiene et sante', 'jeux video'],['hygiene et sante', 'livres'],['hygiene et sante', 'sports et loisirs'],['hygiene et sante', 'vetements'],['instruments de musique et sono', 'livres numeriques'],['jardin', 'jeux et jouets'],['jardin', 'jeux video', 'livres'],['jardin', 'livres'],['jardin', 'luminaires et eclairage'],['jardin', 'sports et loisirs'],['jardin', 'vetements'],['jeux et jouets', 'jeux video', 'livres'],['jeux et jouets', 'jeux video'],['jeux et jouets', 'livres numeriques'],['jeux et jouets', 'livres'],['jeux et jouets', 'sports et loisirs'],['jeux et jouets', 'vetements'],['jeux video', 'livres numeriques'],['jeux video', 'livres'],['livraison'],['livres', 'livres numeriques'],['livres', 'logiciels'],['livres', 'montres'],['livres', 'sports et loisirs'],['livres', 'vetements'],['logiciels'],['sports et loisirs', 'vetements'],['telechargement de musique', 'vetements'],['telechargement de musique']\n",
      "2022-09-10 16:16:33,972 :: train_test_val_split/train_test_val_split.py/_filter_categories :: INFO :: Dataset shape: (354400, 8)\n",
      "2022-09-10 16:16:33,985 :: train_test_val_split/train_test_val_split.py/_downsampling_categories :: INFO :: Downsampling categories with too much examples\n",
      "2022-09-10 16:16:34,058 :: train_test_val_split/train_test_val_split.py/_downsampling_categories :: INFO :: Dataset shape: (152677, 8)\n",
      "2022-09-10 16:16:54,917 :: utils/utils.py/log_attribute_per_dataset :: INFO :: training: {\"['animalerie']\": 7777, \"['auto et moto']\": 3921, \"['bagages et sacs']\": 3255, \"['beaute et parfum']\": 8500, \"['bebe et puericulture']\": 4439, \"['bijoux']\": 4053, \"['bricolage']\": 8500, \"['cd et vinyles']\": 312, \"['chaussures et accessoires']\": 7878, \"['commerce, industrie et science']\": 297, \"['cuisine et maison']\": 8500, \"['dvd et blu-ray']\": 1146, \"['epicerie']\": 8500, \"['forfaits et accessoires operateurs']\": 378, \"['fournitures de bureau']\": 5774, \"['gros electromenager']\": 666, \"['high-tech']\": 8500, \"['hygiene et sante']\": 8500, \"['instruments de musique et sono']\": 896, \"['jardin']\": 4699, \"['jeux et jouets']\": 8500, \"['jeux video']\": 3479, \"['livres numeriques']\": 336, \"['livres']\": 3900, \"['luminaires et eclairage']\": 2375, \"['montres']\": 774, \"['sports et loisirs']\": 5420, \"['vetements']\": 8500}\n",
      "2022-09-10 16:16:54,945 :: utils/utils.py/log_attribute_per_dataset :: INFO :: test: {\"['animalerie']\": 687, \"['auto et moto']\": 346, \"['bagages et sacs']\": 287, \"['beaute et parfum']\": 750, \"['bebe et puericulture']\": 391, \"['bijoux']\": 357, \"['bricolage']\": 750, \"['cd et vinyles']\": 27, \"['chaussures et accessoires']\": 695, \"['commerce, industrie et science']\": 26, \"['cuisine et maison']\": 750, \"['dvd et blu-ray']\": 101, \"['epicerie']\": 750, \"['forfaits et accessoires operateurs']\": 34, \"['fournitures de bureau']\": 509, \"['gros electromenager']\": 59, \"['high-tech']\": 750, \"['hygiene et sante']\": 750, \"['instruments de musique et sono']\": 79, \"['jardin']\": 415, \"['jeux et jouets']\": 750, \"['jeux video']\": 307, \"['livres numeriques']\": 30, \"['livres']\": 344, \"['luminaires et eclairage']\": 209, \"['montres']\": 68, \"['sports et loisirs']\": 478, \"['vetements']\": 750}\n",
      "2022-09-10 16:16:54,960 :: utils/utils.py/log_attribute_per_dataset :: INFO :: validation: {\"['animalerie']\": 686, \"['auto et moto']\": 346, \"['bagages et sacs']\": 288, \"['beaute et parfum']\": 750, \"['bebe et puericulture']\": 392, \"['bijoux']\": 358, \"['bricolage']\": 750, \"['cd et vinyles']\": 28, \"['chaussures et accessoires']\": 695, \"['commerce, industrie et science']\": 26, \"['cuisine et maison']\": 750, \"['dvd et blu-ray']\": 101, \"['epicerie']\": 750, \"['forfaits et accessoires operateurs']\": 33, \"['fournitures de bureau']\": 510, \"['gros electromenager']\": 59, \"['high-tech']\": 750, \"['hygiene et sante']\": 750, \"['instruments de musique et sono']\": 79, \"['jardin']\": 414, \"['jeux et jouets']\": 750, \"['jeux video']\": 307, \"['livres numeriques']\": 29, \"['livres']\": 344, \"['luminaires et eclairage']\": 210, \"['montres']\": 69, \"['sports et loisirs']\": 479, \"['vetements']\": 750}\n"
     ]
    }
   ],
   "source": [
    "iter_datasets = iter_split.execute(dataset=dataset, split_size=split_size)"
   ]
  },
  {
   "cell_type": "code",
   "execution_count": 6,
   "id": "dfdb3d1f-1f5c-4e9d-99c1-79b801c9f494",
   "metadata": {},
   "outputs": [
    {
     "name": "stderr",
     "output_type": "stream",
     "text": [
      "2022-09-10 16:14:45,851 :: train_test_val_split/train_test_val_split.py/execute :: INFO :: Split dataset into train, test, val using train_test_split with stratification\n",
      "2022-09-10 16:14:45,852 :: train_test_val_split/train_test_val_split.py/_filter_categories :: INFO :: Apply filter to remove categories with few examples\n",
      "2022-09-10 16:14:45,885 :: train_test_val_split/train_test_val_split.py/_filter_categories :: INFO :: Removed categories: applis et jeux,boutique cheques-cadeaux,cigarettes,garantie,livraison,logiciels,telechargement de musique,uncategorized\n",
      "2022-09-10 16:14:45,886 :: train_test_val_split/train_test_val_split.py/_filter_categories :: INFO :: Dataset shape: (357320, 7)\n",
      "2022-09-10 16:14:45,887 :: train_test_val_split/train_test_val_split.py/_downsampling_categories :: INFO :: Downsampling categories with too much examples\n",
      "2022-09-10 16:14:45,917 :: train_test_val_split/train_test_val_split.py/_downsampling_categories :: INFO :: Dataset shape: (153681, 7)\n",
      "2022-09-10 16:14:46,249 :: utils/utils.py/log_attribute_per_dataset :: INFO :: training: {'animalerie': 7838, 'applis et jeux': 0, 'auto et moto': 3956, 'bagages et sacs': 3285, 'beaute et parfum': 8511, 'bebe et puericulture': 4513, 'bijoux': 4072, 'boutique cheques-cadeaux': 0, 'bricolage': 8503, 'cd et vinyles': 329, 'chaussures et accessoires': 7938, 'cigarettes': 0, 'commerce, industrie et science': 308, 'cuisine et maison': 8507, 'dvd et blu-ray': 1170, 'epicerie': 8515, 'forfaits et accessoires operateurs': 387, 'fournitures de bureau': 5866, 'garantie': 0, 'gros electromenager': 669, 'high-tech': 8504, 'hygiene et sante': 8512, 'instruments de musique et sono': 904, 'jardin': 4783, 'jeux et jouets': 8512, 'jeux video': 3581, 'livraison': 0, 'livres': 4105, 'livres numeriques': 354, 'logiciels': 0, 'luminaires et eclairage': 2388, 'montres': 781, 'sports et loisirs': 5472, 'telechargement de musique': 0, 'uncategorized': 0, 'vetements': 8501}\n",
      "2022-09-10 16:14:46,250 :: train_test_val_split/train_test_val_split.py/_multilabel_transformation :: INFO :: Join categories for each product\n",
      "2022-09-10 16:14:59,061 :: utils/utils.py/log_attribute_per_dataset :: INFO :: test: {'animalerie': 692, 'applis et jeux': 0, 'auto et moto': 348, 'bagages et sacs': 291, 'beaute et parfum': 754, 'bebe et puericulture': 398, 'bijoux': 361, 'boutique cheques-cadeaux': 0, 'bricolage': 754, 'cd et vinyles': 29, 'chaussures et accessoires': 702, 'cigarettes': 0, 'commerce, industrie et science': 29, 'cuisine et maison': 754, 'dvd et blu-ray': 103, 'epicerie': 752, 'forfaits et accessoires operateurs': 35, 'fournitures de bureau': 523, 'garantie': 0, 'gros electromenager': 59, 'high-tech': 752, 'hygiene et sante': 761, 'instruments de musique et sono': 81, 'jardin': 426, 'jeux et jouets': 760, 'jeux video': 319, 'livraison': 0, 'livres': 370, 'livres numeriques': 32, 'logiciels': 0, 'luminaires et eclairage': 211, 'montres': 69, 'sports et loisirs': 484, 'telechargement de musique': 0, 'uncategorized': 0, 'vetements': 751}\n",
      "2022-09-10 16:14:59,062 :: train_test_val_split/train_test_val_split.py/_multilabel_transformation :: INFO :: Join categories for each product\n",
      "2022-09-10 16:15:00,419 :: utils/utils.py/log_attribute_per_dataset :: INFO :: validation: {'animalerie': 692, 'applis et jeux': 0, 'auto et moto': 350, 'bagages et sacs': 290, 'beaute et parfum': 757, 'bebe et puericulture': 403, 'bijoux': 359, 'boutique cheques-cadeaux': 0, 'bricolage': 752, 'cd et vinyles': 30, 'chaussures et accessoires': 701, 'cigarettes': 0, 'commerce, industrie et science': 29, 'cuisine et maison': 759, 'dvd et blu-ray': 103, 'epicerie': 753, 'forfaits et accessoires operateurs': 34, 'fournitures de bureau': 521, 'garantie': 0, 'gros electromenager': 61, 'high-tech': 753, 'hygiene et sante': 756, 'instruments de musique et sono': 81, 'jardin': 427, 'jeux et jouets': 753, 'jeux video': 317, 'livraison': 0, 'livres': 370, 'livres numeriques': 31, 'logiciels': 0, 'luminaires et eclairage': 210, 'montres': 69, 'sports et loisirs': 484, 'telechargement de musique': 0, 'uncategorized': 0, 'vetements': 750}\n",
      "2022-09-10 16:15:00,420 :: train_test_val_split/train_test_val_split.py/_multilabel_transformation :: INFO :: Join categories for each product\n"
     ]
    }
   ],
   "source": [
    "simple_datasets = simple_split.execute(dataset=dataset, split_size=split_size, random_state=random_state)"
   ]
  },
  {
   "cell_type": "markdown",
   "id": "0a63d9a8-31c8-486a-b32a-d13687f204a2",
   "metadata": {},
   "source": [
    "## Train baseline"
   ]
  },
  {
   "cell_type": "code",
   "execution_count": 7,
   "id": "ec993818-46ec-4008-b32c-dd372570033c",
   "metadata": {},
   "outputs": [],
   "source": [
    "from lightgbm import LGBMClassifier\n",
    "from sklearn.multioutput import MultiOutputClassifier\n",
    "from sklearn.preprocessing import OneHotEncoder, StandardScaler\n",
    "from sklearn.feature_extraction.text import TfidfVectorizer\n",
    "from sklearn.pipeline import Pipeline\n",
    "from sklearn.compose import ColumnTransformer\n",
    "from product_classification.data_processing.text_processing import EStemTag, Lemmatizer"
   ]
  },
  {
   "cell_type": "code",
   "execution_count": 10,
   "id": "cb7177fb-0bde-4fc8-a677-3ae58b4ace51",
   "metadata": {},
   "outputs": [],
   "source": [
    "# for fname, dataframe in iter_datasets:\n",
    "#     setattr(iter_datasets, fname, dataframe.drop(columns=[\"product_description\"]))\n",
    "for fname, dataframe in simple_datasets:\n",
    "    setattr(simple_datasets, fname, dataframe.drop(columns=[\"product_description\"]))"
   ]
  },
  {
   "cell_type": "markdown",
   "id": "6e411c4e-c648-4a70-88e5-963082dcb0c4",
   "metadata": {},
   "source": [
    "### Categorical features transformation"
   ]
  },
  {
   "cell_type": "code",
   "execution_count": 11,
   "id": "922bd36e-84c8-4be1-94e1-ecf82a9ecd5e",
   "metadata": {},
   "outputs": [],
   "source": [
    "categorical_features = [\"merchant_name\", \"brand_name\"]\n",
    "categorical_transformer = OneHotEncoder(drop=\"first\" ,handle_unknown=\"ignore\", dtype=int)"
   ]
  },
  {
   "cell_type": "markdown",
   "id": "eac0a292-9e4b-4920-876b-9a85b9d83d2e",
   "metadata": {},
   "source": [
    "### Numerical features transformation"
   ]
  },
  {
   "cell_type": "code",
   "execution_count": 12,
   "id": "1c86c079-5cf1-43d5-bd48-1182c18eb9cd",
   "metadata": {},
   "outputs": [],
   "source": [
    "numeric_features = [\"price\"]\n",
    "numeric_transformer = StandardScaler()"
   ]
  },
  {
   "cell_type": "markdown",
   "id": "65449bac-0cbf-4d85-8c34-3d428cf64b8e",
   "metadata": {},
   "source": [
    "### Text transformation"
   ]
  },
  {
   "cell_type": "code",
   "execution_count": 13,
   "id": "b2e9825b-5218-46a7-b5cd-6530b3c39543",
   "metadata": {},
   "outputs": [],
   "source": [
    "text_features = \"product_name\"\n",
    "\n",
    "stem_tag = EStemTag.STEMMER\n",
    "lemma = Lemmatizer(stem=stem_tag)\n",
    "\n",
    "text_transformer = Pipeline(\n",
    "    [(stem_tag.value, lemma),\n",
    "    (\"tfidf\" ,TfidfVectorizer())]\n",
    ")"
   ]
  },
  {
   "cell_type": "markdown",
   "id": "97a284e8-4978-496d-9f57-ff196330dd60",
   "metadata": {},
   "source": [
    "### Processor"
   ]
  },
  {
   "cell_type": "code",
   "execution_count": 14,
   "id": "8e6fd31a-73b9-4238-bebe-7760c5b5f882",
   "metadata": {},
   "outputs": [],
   "source": [
    "preprocessor = ColumnTransformer(\n",
    "        transformers=[\n",
    "            (\"num\", numeric_transformer, numeric_features),\n",
    "            (\"cat\", categorical_transformer, categorical_features),\n",
    "            (\"text\", text_transformer, text_features)\n",
    "                     ]\n",
    "       )"
   ]
  },
  {
   "cell_type": "markdown",
   "id": "83755606-a826-48ff-85a4-a87673212dad",
   "metadata": {},
   "source": [
    "### Classifier"
   ]
  },
  {
   "cell_type": "code",
   "execution_count": 15,
   "id": "7b1c0380-cedd-4cd2-99d2-8c5a4397965d",
   "metadata": {},
   "outputs": [],
   "source": [
    "classifier = LGBMClassifier(objective=\"binary\", random_state=42, silent=False, metric=\"binary_logloss\")"
   ]
  },
  {
   "cell_type": "code",
   "execution_count": 16,
   "id": "345b2de8-9bcf-4808-ab1e-e206dad8a140",
   "metadata": {},
   "outputs": [],
   "source": [
    "multilabel_classifier = MultiOutputClassifier(classifier, n_jobs=-1)"
   ]
  },
  {
   "cell_type": "markdown",
   "id": "08100abf-f576-4959-b483-41cb602c5008",
   "metadata": {},
   "source": [
    "### Pipeline"
   ]
  },
  {
   "cell_type": "code",
   "execution_count": 17,
   "id": "44a2eada-7cf2-4190-85f9-c52bfd4368cc",
   "metadata": {},
   "outputs": [],
   "source": [
    "clf = Pipeline(\n",
    "    steps=[(\"preprocessor\", preprocessor), (\"classifier\", multilabel_classifier)]\n",
    ")"
   ]
  },
  {
   "cell_type": "markdown",
   "id": "95d88eac-0c14-42cb-bef1-997a9fca6a91",
   "metadata": {},
   "source": [
    "### train"
   ]
  },
  {
   "cell_type": "code",
   "execution_count": 18,
   "id": "3c7156ce-0426-4203-b7c4-b0d07dee6a98",
   "metadata": {},
   "outputs": [],
   "source": [
    "X_train, y_train = simple_datasets.training.iloc[:,1:5], simple_datasets.training.iloc[:,5:]"
   ]
  },
  {
   "cell_type": "code",
   "execution_count": 20,
   "id": "f39b0502-dbf7-4340-9d8f-e93b24500efd",
   "metadata": {},
   "outputs": [
    {
     "name": "stderr",
     "output_type": "stream",
     "text": [
      "/home/okteto/product_classification/.venv/lib/python3.9/site-packages/lightgbm/sklearn.py:598: UserWarning: 'silent' argument is deprecated and will be removed in a future release of LightGBM. Pass 'verbose' parameter via keyword arguments instead.\n",
      "  _log_warning(\"'silent' argument is deprecated and will be removed in a future release of LightGBM. \"\n",
      "/home/okteto/product_classification/.venv/lib/python3.9/site-packages/lightgbm/sklearn.py:736: UserWarning: 'verbose' argument is deprecated and will be removed in a future release of LightGBM. Pass 'log_evaluation()' callback via 'callbacks' argument instead.\n",
      "  _log_warning(\"'verbose' argument is deprecated and will be removed in a future release of LightGBM. \"\n",
      "/home/okteto/product_classification/.venv/lib/python3.9/site-packages/lightgbm/sklearn.py:598: UserWarning: 'silent' argument is deprecated and will be removed in a future release of LightGBM. Pass 'verbose' parameter via keyword arguments instead.\n",
      "  _log_warning(\"'silent' argument is deprecated and will be removed in a future release of LightGBM. \"\n",
      "/home/okteto/product_classification/.venv/lib/python3.9/site-packages/lightgbm/sklearn.py:736: UserWarning: 'verbose' argument is deprecated and will be removed in a future release of LightGBM. Pass 'log_evaluation()' callback via 'callbacks' argument instead.\n",
      "  _log_warning(\"'verbose' argument is deprecated and will be removed in a future release of LightGBM. \"\n",
      "/home/okteto/product_classification/.venv/lib/python3.9/site-packages/lightgbm/sklearn.py:598: UserWarning: 'silent' argument is deprecated and will be removed in a future release of LightGBM. Pass 'verbose' parameter via keyword arguments instead.\n",
      "  _log_warning(\"'silent' argument is deprecated and will be removed in a future release of LightGBM. \"\n",
      "/home/okteto/product_classification/.venv/lib/python3.9/site-packages/lightgbm/sklearn.py:736: UserWarning: 'verbose' argument is deprecated and will be removed in a future release of LightGBM. Pass 'log_evaluation()' callback via 'callbacks' argument instead.\n",
      "  _log_warning(\"'verbose' argument is deprecated and will be removed in a future release of LightGBM. \"\n",
      "/home/okteto/product_classification/.venv/lib/python3.9/site-packages/lightgbm/sklearn.py:598: UserWarning: 'silent' argument is deprecated and will be removed in a future release of LightGBM. Pass 'verbose' parameter via keyword arguments instead.\n",
      "  _log_warning(\"'silent' argument is deprecated and will be removed in a future release of LightGBM. \"\n",
      "/home/okteto/product_classification/.venv/lib/python3.9/site-packages/lightgbm/sklearn.py:736: UserWarning: 'verbose' argument is deprecated and will be removed in a future release of LightGBM. Pass 'log_evaluation()' callback via 'callbacks' argument instead.\n",
      "  _log_warning(\"'verbose' argument is deprecated and will be removed in a future release of LightGBM. \"\n",
      "/home/okteto/product_classification/.venv/lib/python3.9/site-packages/lightgbm/sklearn.py:598: UserWarning: 'silent' argument is deprecated and will be removed in a future release of LightGBM. Pass 'verbose' parameter via keyword arguments instead.\n",
      "  _log_warning(\"'silent' argument is deprecated and will be removed in a future release of LightGBM. \"\n",
      "/home/okteto/product_classification/.venv/lib/python3.9/site-packages/lightgbm/sklearn.py:736: UserWarning: 'verbose' argument is deprecated and will be removed in a future release of LightGBM. Pass 'log_evaluation()' callback via 'callbacks' argument instead.\n",
      "  _log_warning(\"'verbose' argument is deprecated and will be removed in a future release of LightGBM. \"\n",
      "/home/okteto/product_classification/.venv/lib/python3.9/site-packages/lightgbm/sklearn.py:598: UserWarning: 'silent' argument is deprecated and will be removed in a future release of LightGBM. Pass 'verbose' parameter via keyword arguments instead.\n",
      "  _log_warning(\"'silent' argument is deprecated and will be removed in a future release of LightGBM. \"\n",
      "/home/okteto/product_classification/.venv/lib/python3.9/site-packages/lightgbm/sklearn.py:736: UserWarning: 'verbose' argument is deprecated and will be removed in a future release of LightGBM. Pass 'log_evaluation()' callback via 'callbacks' argument instead.\n",
      "  _log_warning(\"'verbose' argument is deprecated and will be removed in a future release of LightGBM. \"\n",
      "/home/okteto/product_classification/.venv/lib/python3.9/site-packages/lightgbm/sklearn.py:598: UserWarning: 'silent' argument is deprecated and will be removed in a future release of LightGBM. Pass 'verbose' parameter via keyword arguments instead.\n",
      "  _log_warning(\"'silent' argument is deprecated and will be removed in a future release of LightGBM. \"\n",
      "/home/okteto/product_classification/.venv/lib/python3.9/site-packages/lightgbm/sklearn.py:736: UserWarning: 'verbose' argument is deprecated and will be removed in a future release of LightGBM. Pass 'log_evaluation()' callback via 'callbacks' argument instead.\n",
      "  _log_warning(\"'verbose' argument is deprecated and will be removed in a future release of LightGBM. \"\n",
      "/home/okteto/product_classification/.venv/lib/python3.9/site-packages/lightgbm/sklearn.py:598: UserWarning: 'silent' argument is deprecated and will be removed in a future release of LightGBM. Pass 'verbose' parameter via keyword arguments instead.\n",
      "  _log_warning(\"'silent' argument is deprecated and will be removed in a future release of LightGBM. \"\n",
      "/home/okteto/product_classification/.venv/lib/python3.9/site-packages/lightgbm/sklearn.py:736: UserWarning: 'verbose' argument is deprecated and will be removed in a future release of LightGBM. Pass 'log_evaluation()' callback via 'callbacks' argument instead.\n",
      "  _log_warning(\"'verbose' argument is deprecated and will be removed in a future release of LightGBM. \"\n",
      "/home/okteto/product_classification/.venv/lib/python3.9/site-packages/lightgbm/sklearn.py:598: UserWarning: 'silent' argument is deprecated and will be removed in a future release of LightGBM. Pass 'verbose' parameter via keyword arguments instead.\n",
      "  _log_warning(\"'silent' argument is deprecated and will be removed in a future release of LightGBM. \"\n",
      "/home/okteto/product_classification/.venv/lib/python3.9/site-packages/lightgbm/sklearn.py:736: UserWarning: 'verbose' argument is deprecated and will be removed in a future release of LightGBM. Pass 'log_evaluation()' callback via 'callbacks' argument instead.\n",
      "  _log_warning(\"'verbose' argument is deprecated and will be removed in a future release of LightGBM. \"\n",
      "/home/okteto/product_classification/.venv/lib/python3.9/site-packages/lightgbm/sklearn.py:598: UserWarning: 'silent' argument is deprecated and will be removed in a future release of LightGBM. Pass 'verbose' parameter via keyword arguments instead.\n",
      "  _log_warning(\"'silent' argument is deprecated and will be removed in a future release of LightGBM. \"\n",
      "/home/okteto/product_classification/.venv/lib/python3.9/site-packages/lightgbm/sklearn.py:736: UserWarning: 'verbose' argument is deprecated and will be removed in a future release of LightGBM. Pass 'log_evaluation()' callback via 'callbacks' argument instead.\n",
      "  _log_warning(\"'verbose' argument is deprecated and will be removed in a future release of LightGBM. \"\n",
      "/home/okteto/product_classification/.venv/lib/python3.9/site-packages/lightgbm/sklearn.py:598: UserWarning: 'silent' argument is deprecated and will be removed in a future release of LightGBM. Pass 'verbose' parameter via keyword arguments instead.\n",
      "  _log_warning(\"'silent' argument is deprecated and will be removed in a future release of LightGBM. \"\n",
      "/home/okteto/product_classification/.venv/lib/python3.9/site-packages/lightgbm/sklearn.py:736: UserWarning: 'verbose' argument is deprecated and will be removed in a future release of LightGBM. Pass 'log_evaluation()' callback via 'callbacks' argument instead.\n",
      "  _log_warning(\"'verbose' argument is deprecated and will be removed in a future release of LightGBM. \"\n",
      "/home/okteto/product_classification/.venv/lib/python3.9/site-packages/lightgbm/sklearn.py:598: UserWarning: 'silent' argument is deprecated and will be removed in a future release of LightGBM. Pass 'verbose' parameter via keyword arguments instead.\n",
      "  _log_warning(\"'silent' argument is deprecated and will be removed in a future release of LightGBM. \"\n",
      "/home/okteto/product_classification/.venv/lib/python3.9/site-packages/lightgbm/sklearn.py:736: UserWarning: 'verbose' argument is deprecated and will be removed in a future release of LightGBM. Pass 'log_evaluation()' callback via 'callbacks' argument instead.\n",
      "  _log_warning(\"'verbose' argument is deprecated and will be removed in a future release of LightGBM. \"\n",
      "/home/okteto/product_classification/.venv/lib/python3.9/site-packages/lightgbm/sklearn.py:598: UserWarning: 'silent' argument is deprecated and will be removed in a future release of LightGBM. Pass 'verbose' parameter via keyword arguments instead.\n",
      "  _log_warning(\"'silent' argument is deprecated and will be removed in a future release of LightGBM. \"\n",
      "/home/okteto/product_classification/.venv/lib/python3.9/site-packages/lightgbm/sklearn.py:736: UserWarning: 'verbose' argument is deprecated and will be removed in a future release of LightGBM. Pass 'log_evaluation()' callback via 'callbacks' argument instead.\n",
      "  _log_warning(\"'verbose' argument is deprecated and will be removed in a future release of LightGBM. \"\n",
      "/home/okteto/product_classification/.venv/lib/python3.9/site-packages/lightgbm/sklearn.py:598: UserWarning: 'silent' argument is deprecated and will be removed in a future release of LightGBM. Pass 'verbose' parameter via keyword arguments instead.\n",
      "  _log_warning(\"'silent' argument is deprecated and will be removed in a future release of LightGBM. \"\n",
      "/home/okteto/product_classification/.venv/lib/python3.9/site-packages/lightgbm/sklearn.py:736: UserWarning: 'verbose' argument is deprecated and will be removed in a future release of LightGBM. Pass 'log_evaluation()' callback via 'callbacks' argument instead.\n",
      "  _log_warning(\"'verbose' argument is deprecated and will be removed in a future release of LightGBM. \"\n",
      "/home/okteto/product_classification/.venv/lib/python3.9/site-packages/lightgbm/sklearn.py:598: UserWarning: 'silent' argument is deprecated and will be removed in a future release of LightGBM. Pass 'verbose' parameter via keyword arguments instead.\n",
      "  _log_warning(\"'silent' argument is deprecated and will be removed in a future release of LightGBM. \"\n",
      "/home/okteto/product_classification/.venv/lib/python3.9/site-packages/lightgbm/sklearn.py:736: UserWarning: 'verbose' argument is deprecated and will be removed in a future release of LightGBM. Pass 'log_evaluation()' callback via 'callbacks' argument instead.\n",
      "  _log_warning(\"'verbose' argument is deprecated and will be removed in a future release of LightGBM. \"\n",
      "/home/okteto/product_classification/.venv/lib/python3.9/site-packages/lightgbm/sklearn.py:598: UserWarning: 'silent' argument is deprecated and will be removed in a future release of LightGBM. Pass 'verbose' parameter via keyword arguments instead.\n",
      "  _log_warning(\"'silent' argument is deprecated and will be removed in a future release of LightGBM. \"\n",
      "/home/okteto/product_classification/.venv/lib/python3.9/site-packages/lightgbm/sklearn.py:736: UserWarning: 'verbose' argument is deprecated and will be removed in a future release of LightGBM. Pass 'log_evaluation()' callback via 'callbacks' argument instead.\n",
      "  _log_warning(\"'verbose' argument is deprecated and will be removed in a future release of LightGBM. \"\n",
      "/home/okteto/product_classification/.venv/lib/python3.9/site-packages/lightgbm/sklearn.py:598: UserWarning: 'silent' argument is deprecated and will be removed in a future release of LightGBM. Pass 'verbose' parameter via keyword arguments instead.\n",
      "  _log_warning(\"'silent' argument is deprecated and will be removed in a future release of LightGBM. \"\n",
      "/home/okteto/product_classification/.venv/lib/python3.9/site-packages/lightgbm/sklearn.py:736: UserWarning: 'verbose' argument is deprecated and will be removed in a future release of LightGBM. Pass 'log_evaluation()' callback via 'callbacks' argument instead.\n",
      "  _log_warning(\"'verbose' argument is deprecated and will be removed in a future release of LightGBM. \"\n",
      "/home/okteto/product_classification/.venv/lib/python3.9/site-packages/lightgbm/sklearn.py:598: UserWarning: 'silent' argument is deprecated and will be removed in a future release of LightGBM. Pass 'verbose' parameter via keyword arguments instead.\n",
      "  _log_warning(\"'silent' argument is deprecated and will be removed in a future release of LightGBM. \"\n",
      "/home/okteto/product_classification/.venv/lib/python3.9/site-packages/lightgbm/sklearn.py:736: UserWarning: 'verbose' argument is deprecated and will be removed in a future release of LightGBM. Pass 'log_evaluation()' callback via 'callbacks' argument instead.\n",
      "  _log_warning(\"'verbose' argument is deprecated and will be removed in a future release of LightGBM. \"\n",
      "/home/okteto/product_classification/.venv/lib/python3.9/site-packages/lightgbm/sklearn.py:598: UserWarning: 'silent' argument is deprecated and will be removed in a future release of LightGBM. Pass 'verbose' parameter via keyword arguments instead.\n",
      "  _log_warning(\"'silent' argument is deprecated and will be removed in a future release of LightGBM. \"\n",
      "/home/okteto/product_classification/.venv/lib/python3.9/site-packages/lightgbm/sklearn.py:736: UserWarning: 'verbose' argument is deprecated and will be removed in a future release of LightGBM. Pass 'log_evaluation()' callback via 'callbacks' argument instead.\n",
      "  _log_warning(\"'verbose' argument is deprecated and will be removed in a future release of LightGBM. \"\n",
      "/home/okteto/product_classification/.venv/lib/python3.9/site-packages/lightgbm/sklearn.py:598: UserWarning: 'silent' argument is deprecated and will be removed in a future release of LightGBM. Pass 'verbose' parameter via keyword arguments instead.\n",
      "  _log_warning(\"'silent' argument is deprecated and will be removed in a future release of LightGBM. \"\n",
      "/home/okteto/product_classification/.venv/lib/python3.9/site-packages/lightgbm/sklearn.py:736: UserWarning: 'verbose' argument is deprecated and will be removed in a future release of LightGBM. Pass 'log_evaluation()' callback via 'callbacks' argument instead.\n",
      "  _log_warning(\"'verbose' argument is deprecated and will be removed in a future release of LightGBM. \"\n",
      "/home/okteto/product_classification/.venv/lib/python3.9/site-packages/lightgbm/sklearn.py:598: UserWarning: 'silent' argument is deprecated and will be removed in a future release of LightGBM. Pass 'verbose' parameter via keyword arguments instead.\n",
      "  _log_warning(\"'silent' argument is deprecated and will be removed in a future release of LightGBM. \"\n",
      "/home/okteto/product_classification/.venv/lib/python3.9/site-packages/lightgbm/sklearn.py:736: UserWarning: 'verbose' argument is deprecated and will be removed in a future release of LightGBM. Pass 'log_evaluation()' callback via 'callbacks' argument instead.\n",
      "  _log_warning(\"'verbose' argument is deprecated and will be removed in a future release of LightGBM. \"\n",
      "/home/okteto/product_classification/.venv/lib/python3.9/site-packages/lightgbm/sklearn.py:598: UserWarning: 'silent' argument is deprecated and will be removed in a future release of LightGBM. Pass 'verbose' parameter via keyword arguments instead.\n",
      "  _log_warning(\"'silent' argument is deprecated and will be removed in a future release of LightGBM. \"\n",
      "/home/okteto/product_classification/.venv/lib/python3.9/site-packages/lightgbm/sklearn.py:736: UserWarning: 'verbose' argument is deprecated and will be removed in a future release of LightGBM. Pass 'log_evaluation()' callback via 'callbacks' argument instead.\n",
      "  _log_warning(\"'verbose' argument is deprecated and will be removed in a future release of LightGBM. \"\n",
      "/home/okteto/product_classification/.venv/lib/python3.9/site-packages/lightgbm/sklearn.py:598: UserWarning: 'silent' argument is deprecated and will be removed in a future release of LightGBM. Pass 'verbose' parameter via keyword arguments instead.\n",
      "  _log_warning(\"'silent' argument is deprecated and will be removed in a future release of LightGBM. \"\n",
      "/home/okteto/product_classification/.venv/lib/python3.9/site-packages/lightgbm/sklearn.py:736: UserWarning: 'verbose' argument is deprecated and will be removed in a future release of LightGBM. Pass 'log_evaluation()' callback via 'callbacks' argument instead.\n",
      "  _log_warning(\"'verbose' argument is deprecated and will be removed in a future release of LightGBM. \"\n",
      "/home/okteto/product_classification/.venv/lib/python3.9/site-packages/lightgbm/sklearn.py:598: UserWarning: 'silent' argument is deprecated and will be removed in a future release of LightGBM. Pass 'verbose' parameter via keyword arguments instead.\n",
      "  _log_warning(\"'silent' argument is deprecated and will be removed in a future release of LightGBM. \"\n",
      "/home/okteto/product_classification/.venv/lib/python3.9/site-packages/lightgbm/sklearn.py:736: UserWarning: 'verbose' argument is deprecated and will be removed in a future release of LightGBM. Pass 'log_evaluation()' callback via 'callbacks' argument instead.\n",
      "  _log_warning(\"'verbose' argument is deprecated and will be removed in a future release of LightGBM. \"\n",
      "/home/okteto/product_classification/.venv/lib/python3.9/site-packages/lightgbm/sklearn.py:598: UserWarning: 'silent' argument is deprecated and will be removed in a future release of LightGBM. Pass 'verbose' parameter via keyword arguments instead.\n",
      "  _log_warning(\"'silent' argument is deprecated and will be removed in a future release of LightGBM. \"\n",
      "/home/okteto/product_classification/.venv/lib/python3.9/site-packages/lightgbm/sklearn.py:736: UserWarning: 'verbose' argument is deprecated and will be removed in a future release of LightGBM. Pass 'log_evaluation()' callback via 'callbacks' argument instead.\n",
      "  _log_warning(\"'verbose' argument is deprecated and will be removed in a future release of LightGBM. \"\n",
      "/home/okteto/product_classification/.venv/lib/python3.9/site-packages/lightgbm/sklearn.py:598: UserWarning: 'silent' argument is deprecated and will be removed in a future release of LightGBM. Pass 'verbose' parameter via keyword arguments instead.\n",
      "  _log_warning(\"'silent' argument is deprecated and will be removed in a future release of LightGBM. \"\n",
      "/home/okteto/product_classification/.venv/lib/python3.9/site-packages/lightgbm/sklearn.py:736: UserWarning: 'verbose' argument is deprecated and will be removed in a future release of LightGBM. Pass 'log_evaluation()' callback via 'callbacks' argument instead.\n",
      "  _log_warning(\"'verbose' argument is deprecated and will be removed in a future release of LightGBM. \"\n",
      "/home/okteto/product_classification/.venv/lib/python3.9/site-packages/lightgbm/sklearn.py:598: UserWarning: 'silent' argument is deprecated and will be removed in a future release of LightGBM. Pass 'verbose' parameter via keyword arguments instead.\n",
      "  _log_warning(\"'silent' argument is deprecated and will be removed in a future release of LightGBM. \"\n",
      "/home/okteto/product_classification/.venv/lib/python3.9/site-packages/lightgbm/sklearn.py:736: UserWarning: 'verbose' argument is deprecated and will be removed in a future release of LightGBM. Pass 'log_evaluation()' callback via 'callbacks' argument instead.\n",
      "  _log_warning(\"'verbose' argument is deprecated and will be removed in a future release of LightGBM. \"\n",
      "/home/okteto/product_classification/.venv/lib/python3.9/site-packages/lightgbm/sklearn.py:598: UserWarning: 'silent' argument is deprecated and will be removed in a future release of LightGBM. Pass 'verbose' parameter via keyword arguments instead.\n",
      "  _log_warning(\"'silent' argument is deprecated and will be removed in a future release of LightGBM. \"\n",
      "/home/okteto/product_classification/.venv/lib/python3.9/site-packages/lightgbm/sklearn.py:736: UserWarning: 'verbose' argument is deprecated and will be removed in a future release of LightGBM. Pass 'log_evaluation()' callback via 'callbacks' argument instead.\n",
      "  _log_warning(\"'verbose' argument is deprecated and will be removed in a future release of LightGBM. \"\n"
     ]
    },
    {
     "data": {
      "text/html": [
       "<style>#sk-container-id-1 {color: black;background-color: white;}#sk-container-id-1 pre{padding: 0;}#sk-container-id-1 div.sk-toggleable {background-color: white;}#sk-container-id-1 label.sk-toggleable__label {cursor: pointer;display: block;width: 100%;margin-bottom: 0;padding: 0.3em;box-sizing: border-box;text-align: center;}#sk-container-id-1 label.sk-toggleable__label-arrow:before {content: \"▸\";float: left;margin-right: 0.25em;color: #696969;}#sk-container-id-1 label.sk-toggleable__label-arrow:hover:before {color: black;}#sk-container-id-1 div.sk-estimator:hover label.sk-toggleable__label-arrow:before {color: black;}#sk-container-id-1 div.sk-toggleable__content {max-height: 0;max-width: 0;overflow: hidden;text-align: left;background-color: #f0f8ff;}#sk-container-id-1 div.sk-toggleable__content pre {margin: 0.2em;color: black;border-radius: 0.25em;background-color: #f0f8ff;}#sk-container-id-1 input.sk-toggleable__control:checked~div.sk-toggleable__content {max-height: 200px;max-width: 100%;overflow: auto;}#sk-container-id-1 input.sk-toggleable__control:checked~label.sk-toggleable__label-arrow:before {content: \"▾\";}#sk-container-id-1 div.sk-estimator input.sk-toggleable__control:checked~label.sk-toggleable__label {background-color: #d4ebff;}#sk-container-id-1 div.sk-label input.sk-toggleable__control:checked~label.sk-toggleable__label {background-color: #d4ebff;}#sk-container-id-1 input.sk-hidden--visually {border: 0;clip: rect(1px 1px 1px 1px);clip: rect(1px, 1px, 1px, 1px);height: 1px;margin: -1px;overflow: hidden;padding: 0;position: absolute;width: 1px;}#sk-container-id-1 div.sk-estimator {font-family: monospace;background-color: #f0f8ff;border: 1px dotted black;border-radius: 0.25em;box-sizing: border-box;margin-bottom: 0.5em;}#sk-container-id-1 div.sk-estimator:hover {background-color: #d4ebff;}#sk-container-id-1 div.sk-parallel-item::after {content: \"\";width: 100%;border-bottom: 1px solid gray;flex-grow: 1;}#sk-container-id-1 div.sk-label:hover label.sk-toggleable__label {background-color: #d4ebff;}#sk-container-id-1 div.sk-serial::before {content: \"\";position: absolute;border-left: 1px solid gray;box-sizing: border-box;top: 0;bottom: 0;left: 50%;z-index: 0;}#sk-container-id-1 div.sk-serial {display: flex;flex-direction: column;align-items: center;background-color: white;padding-right: 0.2em;padding-left: 0.2em;position: relative;}#sk-container-id-1 div.sk-item {position: relative;z-index: 1;}#sk-container-id-1 div.sk-parallel {display: flex;align-items: stretch;justify-content: center;background-color: white;position: relative;}#sk-container-id-1 div.sk-item::before, #sk-container-id-1 div.sk-parallel-item::before {content: \"\";position: absolute;border-left: 1px solid gray;box-sizing: border-box;top: 0;bottom: 0;left: 50%;z-index: -1;}#sk-container-id-1 div.sk-parallel-item {display: flex;flex-direction: column;z-index: 1;position: relative;background-color: white;}#sk-container-id-1 div.sk-parallel-item:first-child::after {align-self: flex-end;width: 50%;}#sk-container-id-1 div.sk-parallel-item:last-child::after {align-self: flex-start;width: 50%;}#sk-container-id-1 div.sk-parallel-item:only-child::after {width: 0;}#sk-container-id-1 div.sk-dashed-wrapped {border: 1px dashed gray;margin: 0 0.4em 0.5em 0.4em;box-sizing: border-box;padding-bottom: 0.4em;background-color: white;}#sk-container-id-1 div.sk-label label {font-family: monospace;font-weight: bold;display: inline-block;line-height: 1.2em;}#sk-container-id-1 div.sk-label-container {text-align: center;}#sk-container-id-1 div.sk-container {/* jupyter's `normalize.less` sets `[hidden] { display: none; }` but bootstrap.min.css set `[hidden] { display: none !important; }` so we also need the `!important` here to be able to override the default hidden behavior on the sphinx rendered scikit-learn.org. See: https://github.com/scikit-learn/scikit-learn/issues/21755 */display: inline-block !important;position: relative;}#sk-container-id-1 div.sk-text-repr-fallback {display: none;}</style><div id=\"sk-container-id-1\" class=\"sk-top-container\"><div class=\"sk-text-repr-fallback\"><pre>Pipeline(steps=[(&#x27;preprocessor&#x27;,\n",
       "                 ColumnTransformer(transformers=[(&#x27;num&#x27;, StandardScaler(),\n",
       "                                                  [&#x27;price&#x27;]),\n",
       "                                                 (&#x27;cat&#x27;,\n",
       "                                                  OneHotEncoder(drop=&#x27;first&#x27;,\n",
       "                                                                dtype=&lt;class &#x27;int&#x27;&gt;,\n",
       "                                                                handle_unknown=&#x27;ignore&#x27;),\n",
       "                                                  [&#x27;merchant_name&#x27;,\n",
       "                                                   &#x27;brand_name&#x27;]),\n",
       "                                                 (&#x27;text&#x27;,\n",
       "                                                  Pipeline(steps=[(&#x27;stemmer&#x27;,\n",
       "                                                                   Lemmatizer(stem=&lt;EStemTag.STEMMER: &#x27;stemmer&#x27;&gt;)),\n",
       "                                                                  (&#x27;tfidf&#x27;,\n",
       "                                                                   TfidfVectorizer())]),\n",
       "                                                  &#x27;product_name&#x27;)])),\n",
       "                (&#x27;classifier&#x27;,\n",
       "                 MultiOutputClassifier(estimator=LGBMClassifier(metric=&#x27;binary_logloss&#x27;,\n",
       "                                                                objective=&#x27;binary&#x27;,\n",
       "                                                                random_state=42,\n",
       "                                                                silent=False),\n",
       "                                       n_jobs=-1))])</pre><b>In a Jupyter environment, please rerun this cell to show the HTML representation or trust the notebook. <br />On GitHub, the HTML representation is unable to render, please try loading this page with nbviewer.org.</b></div><div class=\"sk-container\" hidden><div class=\"sk-item sk-dashed-wrapped\"><div class=\"sk-label-container\"><div class=\"sk-label sk-toggleable\"><input class=\"sk-toggleable__control sk-hidden--visually\" id=\"sk-estimator-id-1\" type=\"checkbox\" ><label for=\"sk-estimator-id-1\" class=\"sk-toggleable__label sk-toggleable__label-arrow\">Pipeline</label><div class=\"sk-toggleable__content\"><pre>Pipeline(steps=[(&#x27;preprocessor&#x27;,\n",
       "                 ColumnTransformer(transformers=[(&#x27;num&#x27;, StandardScaler(),\n",
       "                                                  [&#x27;price&#x27;]),\n",
       "                                                 (&#x27;cat&#x27;,\n",
       "                                                  OneHotEncoder(drop=&#x27;first&#x27;,\n",
       "                                                                dtype=&lt;class &#x27;int&#x27;&gt;,\n",
       "                                                                handle_unknown=&#x27;ignore&#x27;),\n",
       "                                                  [&#x27;merchant_name&#x27;,\n",
       "                                                   &#x27;brand_name&#x27;]),\n",
       "                                                 (&#x27;text&#x27;,\n",
       "                                                  Pipeline(steps=[(&#x27;stemmer&#x27;,\n",
       "                                                                   Lemmatizer(stem=&lt;EStemTag.STEMMER: &#x27;stemmer&#x27;&gt;)),\n",
       "                                                                  (&#x27;tfidf&#x27;,\n",
       "                                                                   TfidfVectorizer())]),\n",
       "                                                  &#x27;product_name&#x27;)])),\n",
       "                (&#x27;classifier&#x27;,\n",
       "                 MultiOutputClassifier(estimator=LGBMClassifier(metric=&#x27;binary_logloss&#x27;,\n",
       "                                                                objective=&#x27;binary&#x27;,\n",
       "                                                                random_state=42,\n",
       "                                                                silent=False),\n",
       "                                       n_jobs=-1))])</pre></div></div></div><div class=\"sk-serial\"><div class=\"sk-item sk-dashed-wrapped\"><div class=\"sk-label-container\"><div class=\"sk-label sk-toggleable\"><input class=\"sk-toggleable__control sk-hidden--visually\" id=\"sk-estimator-id-2\" type=\"checkbox\" ><label for=\"sk-estimator-id-2\" class=\"sk-toggleable__label sk-toggleable__label-arrow\">preprocessor: ColumnTransformer</label><div class=\"sk-toggleable__content\"><pre>ColumnTransformer(transformers=[(&#x27;num&#x27;, StandardScaler(), [&#x27;price&#x27;]),\n",
       "                                (&#x27;cat&#x27;,\n",
       "                                 OneHotEncoder(drop=&#x27;first&#x27;,\n",
       "                                               dtype=&lt;class &#x27;int&#x27;&gt;,\n",
       "                                               handle_unknown=&#x27;ignore&#x27;),\n",
       "                                 [&#x27;merchant_name&#x27;, &#x27;brand_name&#x27;]),\n",
       "                                (&#x27;text&#x27;,\n",
       "                                 Pipeline(steps=[(&#x27;stemmer&#x27;,\n",
       "                                                  Lemmatizer(stem=&lt;EStemTag.STEMMER: &#x27;stemmer&#x27;&gt;)),\n",
       "                                                 (&#x27;tfidf&#x27;, TfidfVectorizer())]),\n",
       "                                 &#x27;product_name&#x27;)])</pre></div></div></div><div class=\"sk-parallel\"><div class=\"sk-parallel-item\"><div class=\"sk-item\"><div class=\"sk-label-container\"><div class=\"sk-label sk-toggleable\"><input class=\"sk-toggleable__control sk-hidden--visually\" id=\"sk-estimator-id-3\" type=\"checkbox\" ><label for=\"sk-estimator-id-3\" class=\"sk-toggleable__label sk-toggleable__label-arrow\">num</label><div class=\"sk-toggleable__content\"><pre>[&#x27;price&#x27;]</pre></div></div></div><div class=\"sk-serial\"><div class=\"sk-item\"><div class=\"sk-estimator sk-toggleable\"><input class=\"sk-toggleable__control sk-hidden--visually\" id=\"sk-estimator-id-4\" type=\"checkbox\" ><label for=\"sk-estimator-id-4\" class=\"sk-toggleable__label sk-toggleable__label-arrow\">StandardScaler</label><div class=\"sk-toggleable__content\"><pre>StandardScaler()</pre></div></div></div></div></div></div><div class=\"sk-parallel-item\"><div class=\"sk-item\"><div class=\"sk-label-container\"><div class=\"sk-label sk-toggleable\"><input class=\"sk-toggleable__control sk-hidden--visually\" id=\"sk-estimator-id-5\" type=\"checkbox\" ><label for=\"sk-estimator-id-5\" class=\"sk-toggleable__label sk-toggleable__label-arrow\">cat</label><div class=\"sk-toggleable__content\"><pre>[&#x27;merchant_name&#x27;, &#x27;brand_name&#x27;]</pre></div></div></div><div class=\"sk-serial\"><div class=\"sk-item\"><div class=\"sk-estimator sk-toggleable\"><input class=\"sk-toggleable__control sk-hidden--visually\" id=\"sk-estimator-id-6\" type=\"checkbox\" ><label for=\"sk-estimator-id-6\" class=\"sk-toggleable__label sk-toggleable__label-arrow\">OneHotEncoder</label><div class=\"sk-toggleable__content\"><pre>OneHotEncoder(drop=&#x27;first&#x27;, dtype=&lt;class &#x27;int&#x27;&gt;, handle_unknown=&#x27;ignore&#x27;)</pre></div></div></div></div></div></div><div class=\"sk-parallel-item\"><div class=\"sk-item\"><div class=\"sk-label-container\"><div class=\"sk-label sk-toggleable\"><input class=\"sk-toggleable__control sk-hidden--visually\" id=\"sk-estimator-id-7\" type=\"checkbox\" ><label for=\"sk-estimator-id-7\" class=\"sk-toggleable__label sk-toggleable__label-arrow\">text</label><div class=\"sk-toggleable__content\"><pre>product_name</pre></div></div></div><div class=\"sk-serial\"><div class=\"sk-item\"><div class=\"sk-serial\"><div class=\"sk-item\"><div class=\"sk-estimator sk-toggleable\"><input class=\"sk-toggleable__control sk-hidden--visually\" id=\"sk-estimator-id-8\" type=\"checkbox\" ><label for=\"sk-estimator-id-8\" class=\"sk-toggleable__label sk-toggleable__label-arrow\">Lemmatizer</label><div class=\"sk-toggleable__content\"><pre>Lemmatizer(stem=&lt;EStemTag.STEMMER: &#x27;stemmer&#x27;&gt;)</pre></div></div></div><div class=\"sk-item\"><div class=\"sk-estimator sk-toggleable\"><input class=\"sk-toggleable__control sk-hidden--visually\" id=\"sk-estimator-id-9\" type=\"checkbox\" ><label for=\"sk-estimator-id-9\" class=\"sk-toggleable__label sk-toggleable__label-arrow\">TfidfVectorizer</label><div class=\"sk-toggleable__content\"><pre>TfidfVectorizer()</pre></div></div></div></div></div></div></div></div></div></div><div class=\"sk-item sk-dashed-wrapped\"><div class=\"sk-label-container\"><div class=\"sk-label sk-toggleable\"><input class=\"sk-toggleable__control sk-hidden--visually\" id=\"sk-estimator-id-10\" type=\"checkbox\" ><label for=\"sk-estimator-id-10\" class=\"sk-toggleable__label sk-toggleable__label-arrow\">classifier: MultiOutputClassifier</label><div class=\"sk-toggleable__content\"><pre>MultiOutputClassifier(estimator=LGBMClassifier(metric=&#x27;binary_logloss&#x27;,\n",
       "                                               objective=&#x27;binary&#x27;,\n",
       "                                               random_state=42, silent=False),\n",
       "                      n_jobs=-1)</pre></div></div></div><div class=\"sk-parallel\"><div class=\"sk-parallel-item\"><div class=\"sk-item\"><div class=\"sk-label-container\"><div class=\"sk-label sk-toggleable\"><input class=\"sk-toggleable__control sk-hidden--visually\" id=\"sk-estimator-id-11\" type=\"checkbox\" ><label for=\"sk-estimator-id-11\" class=\"sk-toggleable__label sk-toggleable__label-arrow\">estimator: LGBMClassifier</label><div class=\"sk-toggleable__content\"><pre>LGBMClassifier(metric=&#x27;binary_logloss&#x27;, objective=&#x27;binary&#x27;, random_state=42,\n",
       "               silent=False)</pre></div></div></div><div class=\"sk-serial\"><div class=\"sk-item\"><div class=\"sk-estimator sk-toggleable\"><input class=\"sk-toggleable__control sk-hidden--visually\" id=\"sk-estimator-id-12\" type=\"checkbox\" ><label for=\"sk-estimator-id-12\" class=\"sk-toggleable__label sk-toggleable__label-arrow\">LGBMClassifier</label><div class=\"sk-toggleable__content\"><pre>LGBMClassifier(metric=&#x27;binary_logloss&#x27;, objective=&#x27;binary&#x27;, random_state=42,\n",
       "               silent=False)</pre></div></div></div></div></div></div></div></div></div></div></div></div>"
      ],
      "text/plain": [
       "Pipeline(steps=[('preprocessor',\n",
       "                 ColumnTransformer(transformers=[('num', StandardScaler(),\n",
       "                                                  ['price']),\n",
       "                                                 ('cat',\n",
       "                                                  OneHotEncoder(drop='first',\n",
       "                                                                dtype=<class 'int'>,\n",
       "                                                                handle_unknown='ignore'),\n",
       "                                                  ['merchant_name',\n",
       "                                                   'brand_name']),\n",
       "                                                 ('text',\n",
       "                                                  Pipeline(steps=[('stemmer',\n",
       "                                                                   Lemmatizer(stem=<EStemTag.STEMMER: 'stemmer'>)),\n",
       "                                                                  ('tfidf',\n",
       "                                                                   TfidfVectorizer())]),\n",
       "                                                  'product_name')])),\n",
       "                ('classifier',\n",
       "                 MultiOutputClassifier(estimator=LGBMClassifier(metric='binary_logloss',\n",
       "                                                                objective='binary',\n",
       "                                                                random_state=42,\n",
       "                                                                silent=False),\n",
       "                                       n_jobs=-1))])"
      ]
     },
     "execution_count": 20,
     "metadata": {},
     "output_type": "execute_result"
    }
   ],
   "source": [
    "clf.fit(X_train, y_train, classifier__verbose=True) #, classifier__feature_name=[\"price\", \"merchant_name\", \"brand_name\"] + list(clf[\"preprocessor\"].named_transformers_[\"text\"].get_feature_names_out()), classifier__categorical_feature=[\"merchant_name\", \"brand_name\"]"
   ]
  },
  {
   "cell_type": "markdown",
   "id": "8a2582a0-1590-41f2-8601-b8a333f6e0bf",
   "metadata": {},
   "source": [
    "### Eval"
   ]
  },
  {
   "cell_type": "code",
   "execution_count": 21,
   "id": "ff40f8c7-b574-40aa-b750-a365ecc37b45",
   "metadata": {},
   "outputs": [],
   "source": [
    "X_test, y_test = simple_datasets.test.iloc[:,1:5], simple_datasets.test.iloc[:,5:]"
   ]
  },
  {
   "cell_type": "code",
   "execution_count": 22,
   "id": "5e79a293-bdcf-41d2-a3a7-6f76d3db62b2",
   "metadata": {},
   "outputs": [
    {
     "name": "stderr",
     "output_type": "stream",
     "text": [
      "/home/okteto/product_classification/.venv/lib/python3.9/site-packages/sklearn/preprocessing/_encoders.py:188: UserWarning: Found unknown categories in columns [1] during transform. These unknown categories will be encoded as all zeros\n",
      "  warnings.warn(\n"
     ]
    }
   ],
   "source": [
    "y_pred = clf.predict(X_test)"
   ]
  },
  {
   "cell_type": "code",
   "execution_count": 23,
   "id": "71e1fb7c-d42c-421d-9ed9-e4e20297ca75",
   "metadata": {},
   "outputs": [],
   "source": [
    "from sklearn.metrics import hamming_loss\n",
    "from sklearn.metrics import classification_report"
   ]
  },
  {
   "cell_type": "code",
   "execution_count": 24,
   "id": "fd86e8a9-89f7-4544-98d7-dde2d573a08b",
   "metadata": {},
   "outputs": [
    {
     "name": "stdout",
     "output_type": "stream",
     "text": [
      "                                    precision    recall  f1-score   support\n",
      "\n",
      "                        animalerie       0.96      0.85      0.90       692\n",
      "                      auto et moto       0.84      0.62      0.71       348\n",
      "                   bagages et sacs       0.88      0.70      0.78       291\n",
      "                  beaute et parfum       0.94      0.87      0.90       754\n",
      "              bebe et puericulture       0.91      0.64      0.75       398\n",
      "                            bijoux       0.94      0.89      0.91       361\n",
      "                         bricolage       0.86      0.63      0.73       754\n",
      "                     cd et vinyles       0.44      0.28      0.34        29\n",
      "         chaussures et accessoires       0.95      0.85      0.89       702\n",
      "    commerce, industrie et science       0.28      0.24      0.26        29\n",
      "                 cuisine et maison       0.89      0.60      0.71       754\n",
      "                    dvd et blu-ray       0.98      0.94      0.96       103\n",
      "                          epicerie       0.93      0.95      0.94       752\n",
      "forfaits et accessoires operateurs       0.66      0.66      0.66        35\n",
      "             fournitures de bureau       0.91      0.66      0.76       523\n",
      "               gros electromenager       0.88      0.73      0.80        59\n",
      "                         high-tech       0.93      0.79      0.85       752\n",
      "                  hygiene et sante       0.92      0.60      0.72       761\n",
      "    instruments de musique et sono       0.69      0.47      0.56        81\n",
      "                            jardin       0.91      0.54      0.68       426\n",
      "                    jeux et jouets       0.87      0.57      0.69       760\n",
      "                        jeux video       0.88      0.75      0.81       319\n",
      "                            livres       0.72      0.72      0.72       370\n",
      "                 livres numeriques       0.43      0.19      0.26        32\n",
      "           luminaires et eclairage       0.91      0.81      0.86       211\n",
      "                           montres       0.67      0.77      0.72        69\n",
      "                 sports et loisirs       0.87      0.54      0.66       484\n",
      "                         vetements       0.97      0.95      0.96       751\n",
      "\n",
      "                         micro avg       0.90      0.73      0.81     11600\n",
      "                         macro avg       0.82      0.67      0.73     11600\n",
      "                      weighted avg       0.90      0.73      0.80     11600\n",
      "                       samples avg       0.72      0.73      0.72     11600\n",
      "\n"
     ]
    },
    {
     "name": "stderr",
     "output_type": "stream",
     "text": [
      "/home/okteto/product_classification/.venv/lib/python3.9/site-packages/sklearn/metrics/_classification.py:1334: UndefinedMetricWarning: Precision and F-score are ill-defined and being set to 0.0 in samples with no predicted labels. Use `zero_division` parameter to control this behavior.\n",
      "  _warn_prf(average, modifier, msg_start, len(result))\n"
     ]
    }
   ],
   "source": [
    "print(classification_report(y_test, y_pred, target_names=list(y_test.columns)))"
   ]
  },
  {
   "cell_type": "code",
   "execution_count": null,
   "id": "eee58a3b-0112-4286-a732-ab6c6438129b",
   "metadata": {},
   "outputs": [],
   "source": []
  }
 ],
 "metadata": {
  "kernelspec": {
   "display_name": "Python 3 (ipykernel)",
   "language": "python",
   "name": "python3"
  },
  "language_info": {
   "codemirror_mode": {
    "name": "ipython",
    "version": 3
   },
   "file_extension": ".py",
   "mimetype": "text/x-python",
   "name": "python",
   "nbconvert_exporter": "python",
   "pygments_lexer": "ipython3",
   "version": "3.9.13"
  },
  "vscode": {
   "interpreter": {
    "hash": "2b0cf01926fdba77768c887237a45b31f500b4a49d2ce7769aa1db38997fd2e9"
   }
  }
 },
 "nbformat": 4,
 "nbformat_minor": 5
}
