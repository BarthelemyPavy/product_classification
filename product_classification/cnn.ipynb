{
 "cells": [
  {
   "cell_type": "code",
   "execution_count": 1,
   "id": "dadf7e92-a734-4103-8c8e-3ea24ae92d53",
   "metadata": {},
   "outputs": [],
   "source": [
    "import warnings\n",
    "warnings.filterwarnings('ignore')\n",
    "\n",
    "import pickle\n",
    "from product_classification.data_processing.text_processing import FitCategoricalData, InitFields, CreateDatasets, BuildTextVocabulary, BuildIterators\n",
    "from product_classification.learner.train import CreateLearner, TrainHighLevels, FinetuneAll, EvaluateClassifier\n",
    "from product_classification.models import CnnHyperParameters, Epochs, LearningRates"
   ]
  },
  {
   "cell_type": "code",
   "execution_count": 2,
   "id": "c240a136-73b6-4bd7-8b7c-b008ce9943cc",
   "metadata": {},
   "outputs": [],
   "source": [
    "path = \"../data\"\n",
    "with open(f\"{path}/datasets.pkl\", \"rb\") as handle:\n",
    "    simple_datasets = pickle.load(handle)\n",
    "    \n",
    "with open(f\"{path}/multilabel_binarizer.pkl\", \"rb\") as handle:\n",
    "    multilabel_binarizer = pickle.load(handle)"
   ]
  },
  {
   "cell_type": "markdown",
   "id": "5d8f4647-f418-48ed-ad1f-aa922c79512f",
   "metadata": {},
   "source": [
    "#### Define CNN Hyperparameters"
   ]
  },
  {
   "cell_type": "code",
   "execution_count": 4,
   "id": "116de1bf-4f53-4234-8480-83bed112749a",
   "metadata": {},
   "outputs": [],
   "source": [
    "cnn_hyperparameters = CnnHyperParameters(nb_filters=100,\n",
    "                                           kernels=[3,4,5],\n",
    "                                           dropout=0.5,\n",
    "                                           lrates=LearningRates(init_phase=5e-4,\n",
    "                                                                finetuning_phase=1e-4),\n",
    "                                           epochs=Epochs(init_phase=1,\n",
    "                                                         finetuning_phase=1)\n",
    "                                          )"
   ]
  },
  {
   "cell_type": "markdown",
   "id": "42ad89ee-5e7e-4855-9d2d-3e1a8f587c13",
   "metadata": {},
   "source": [
    "#### Init torch components for text processing"
   ]
  },
  {
   "cell_type": "code",
   "execution_count": 5,
   "id": "efe9bb7a-7844-4cc1-a62e-954a415c9087",
   "metadata": {},
   "outputs": [],
   "source": [
    "fit_categorical_data = FitCategoricalData()\n",
    "one_hot_encoder = fit_categorical_data.execute(processed_data=simple_datasets)"
   ]
  },
  {
   "cell_type": "code",
   "execution_count": 6,
   "id": "f612d067-8baf-418e-a890-6be22421c62a",
   "metadata": {},
   "outputs": [
    {
     "name": "stderr",
     "output_type": "stream",
     "text": [
      "2022-09-11 16:11:23,654 :: text_processing/text_processing.py/execute :: INFO :: Categorical field created\n",
      "2022-09-11 16:11:24,943 :: text_processing/text_processing.py/execute :: INFO :: Text field created\n",
      "2022-09-11 16:11:24,944 :: text_processing/text_processing.py/execute :: INFO :: Label field created\n"
     ]
    }
   ],
   "source": [
    "init_fields = InitFields()\n",
    "torch_fields = init_fields.execute(one_hot_encoder=one_hot_encoder)"
   ]
  },
  {
   "cell_type": "markdown",
   "id": "d2896295-240c-4cb5-ae20-57bf03d314ea",
   "metadata": {
    "tags": []
   },
   "source": [
    "#### Create datasets mapping features and labels"
   ]
  },
  {
   "cell_type": "code",
   "execution_count": 7,
   "id": "d600b60b-1baa-4706-8990-c993f9faf96d",
   "metadata": {},
   "outputs": [
    {
     "name": "stderr",
     "output_type": "stream",
     "text": [
      "2022-09-11 16:11:24,961 :: __init__/__init__.py/__init__ :: INFO :: fields: [('text', <torchtext.data.field.Field object at 0x7f1752a79e80>), ('category', <torchtext.data.field.Field object at 0x7f1752a79d00>), ('label', <torchtext.data.field.LabelField object at 0x7f17e449e550>)]\n",
      "2022-09-11 16:17:29,720 :: __init__/__init__.py/__init__ :: INFO :: fields: [('text', <torchtext.data.field.Field object at 0x7f1752a79e80>), ('category', <torchtext.data.field.Field object at 0x7f1752a79d00>), ('label', <torchtext.data.field.LabelField object at 0x7f17e449e550>)]\n",
      "2022-09-11 16:17:36,751 :: __init__/__init__.py/__init__ :: INFO :: fields: [('text', <torchtext.data.field.Field object at 0x7f1752a79e80>), ('category', <torchtext.data.field.Field object at 0x7f1752a79d00>), ('label', <torchtext.data.field.LabelField object at 0x7f17e449e550>)]\n",
      "2022-09-11 16:19:04,666 :: text_processing/text_processing.py/execute :: INFO :: Torchtext datasets created from dataframes\n"
     ]
    }
   ],
   "source": [
    "labels = list(simple_datasets.training.iloc[:,5:].columns)\n",
    "cat_cols = [\"brand_name\", \"merchant_name\"]\n",
    "create_datasets = CreateDatasets()\n",
    "torch_dataset = create_datasets.execute(processed_data=simple_datasets,\n",
    "                                        torch_fields=torch_fields,\n",
    "                                        cnn_hparams=cnn_hyperparameters,\n",
    "                                        txt_col=\"product_name\",\n",
    "                                        cat_cols=cat_cols,\n",
    "                                        lbl_cols=labels)"
   ]
  },
  {
   "cell_type": "markdown",
   "id": "08582a73-71f9-4c66-9c1f-17c4546fbbda",
   "metadata": {},
   "source": [
    "#### Build text vocabulary with fasttext embeddings"
   ]
  },
  {
   "cell_type": "code",
   "execution_count": 8,
   "id": "7c10f933-5d10-416b-92a3-40674ba57e7c",
   "metadata": {},
   "outputs": [
    {
     "name": "stderr",
     "output_type": "stream",
     "text": [
      "2022-09-11 16:19:05,672 :: text_processing/text_processing.py/execute :: INFO :: Text vocabulary created. Corpus_dim: 30851\n"
     ]
    }
   ],
   "source": [
    "vector_cache=\".vector_cache\"\n",
    "vocab_size=100000\n",
    "embedding_name=\"fasttext.simple.300d\"\n",
    "build_text_vocabulary = BuildTextVocabulary()\n",
    "torch_fields = build_text_vocabulary.execute(torch_datasets=torch_dataset,\n",
    "        torch_fields=torch_fields,\n",
    "        vocab_size=vocab_size,\n",
    "        embedding_name=embedding_name,\n",
    "        vectors_cache=vector_cache)"
   ]
  },
  {
   "cell_type": "markdown",
   "id": "7acef495-297a-499c-81d5-1d6aa9617b62",
   "metadata": {},
   "source": [
    "#### Create pytorch iterators"
   ]
  },
  {
   "cell_type": "code",
   "execution_count": 9,
   "id": "f028e629-4f7b-4e45-9c5b-47c700fb4cd2",
   "metadata": {},
   "outputs": [
    {
     "name": "stderr",
     "output_type": "stream",
     "text": [
      "2022-09-11 16:19:05,682 :: text_processing/text_processing.py/execute :: INFO :: Torchtext iterators created from datasets\n"
     ]
    }
   ],
   "source": [
    "batch_size=128 \n",
    "device=\"cpu\"\n",
    "build_iterators = BuildIterators()\n",
    "torch_iterators = build_iterators.execute(torch_datasets=torch_dataset,\n",
    "                                             batch_size=batch_size,\n",
    "                                             device=device)"
   ]
  },
  {
   "cell_type": "markdown",
   "id": "79d46aae-536a-4565-a0bb-34e69ee2b38c",
   "metadata": {},
   "source": [
    "#### Create Learner to train CNN"
   ]
  },
  {
   "cell_type": "code",
   "execution_count": 10,
   "id": "e5223943-420a-4b69-a249-b54c285ce496",
   "metadata": {},
   "outputs": [
    {
     "name": "stderr",
     "output_type": "stream",
     "text": [
      "2022-09-11 16:19:05,878 :: train/train.py/execute :: INFO :: CNN learner compiled for the text classification task\n"
     ]
    }
   ],
   "source": [
    "create_learner = CreateLearner()\n",
    "learner = create_learner.execute(cnn_hparams=cnn_hyperparameters,\n",
    "                                    embedding_name=embedding_name,\n",
    "                                    torch_fields=torch_fields,\n",
    "                                    processed_data=simple_datasets,\n",
    "                                    batch_size=batch_size,\n",
    "                                    label_number=len(labels),\n",
    "                                    one_hot_encoder=one_hot_encoder)"
   ]
  },
  {
   "cell_type": "markdown",
   "id": "bd0107e1-c0e3-492b-9918-adb65b01bfed",
   "metadata": {},
   "source": [
    "#### Training"
   ]
  },
  {
   "cell_type": "markdown",
   "id": "3cac767c-d03b-4b42-a1d2-33bf2d779e42",
   "metadata": {},
   "source": [
    "Train high levels layers (embedding layer freezed)"
   ]
  },
  {
   "cell_type": "code",
   "execution_count": 11,
   "id": "8c91132f-748c-4562-90b2-18a650b20a75",
   "metadata": {},
   "outputs": [
    {
     "name": "stderr",
     "output_type": "stream",
     "text": [
      "2022-09-11 16:19:05,887 :: train/train.py/execute :: INFO :: Starting training of CNN and classification layers\n"
     ]
    },
    {
     "name": "stdout",
     "output_type": "stream",
     "text": [
      "Embedding(30851, 300)\n"
     ]
    },
    {
     "name": "stderr",
     "output_type": "stream",
     "text": [
      "Training Epoch [1/1]:  10%|██████████▍                                                                                                | 38/391 [01:25<13:21,  2.27s/it, loss=0.707]\n",
      "  0%|                                                                                                                                                        | 0/8 [00:00<?, ?it/s]\u001b[A\n",
      "Validation:   0%|                                                                                                                                            | 0/8 [00:00<?, ?it/s]\u001b[A\n",
      "Validation:  12%|████████████████▌                                                                                                                   | 1/8 [00:01<00:13,  1.94s/it]\u001b[A\n",
      "Validation:  12%|███████████████                                                                                                         | 1/8 [00:03<00:13,  1.94s/it, loss=0.334]\u001b[A\n",
      "Validation:  25%|██████████████████████████████                                                                                          | 2/8 [00:03<00:11,  1.97s/it, loss=0.334]\u001b[A\n",
      "Validation:  25%|██████████████████████████████                                                                                          | 2/8 [00:05<00:11,  1.97s/it, loss=0.446]\u001b[A\n",
      "Validation:  38%|█████████████████████████████████████████████                                                                           | 3/8 [00:05<00:09,  1.94s/it, loss=0.446]\u001b[A\n",
      "Validation:  38%|█████████████████████████████████████████████                                                                           | 3/8 [00:07<00:09,  1.94s/it, loss=0.502]\u001b[A\n",
      "Validation:  50%|████████████████████████████████████████████████████████████                                                            | 4/8 [00:07<00:07,  1.97s/it, loss=0.502]\u001b[A\n",
      "Validation:  50%|████████████████████████████████████████████████████████████                                                            | 4/8 [00:09<00:07,  1.97s/it, loss=0.535]\u001b[A\n",
      "Validation:  62%|███████████████████████████████████████████████████████████████████████████                                             | 5/8 [00:09<00:05,  1.98s/it, loss=0.535]\u001b[A\n",
      "Validation:  62%|███████████████████████████████████████████████████████████████████████████                                             | 5/8 [00:11<00:05,  1.98s/it, loss=0.558]\u001b[A\n",
      "Validation:  75%|██████████████████████████████████████████████████████████████████████████████████████████                              | 6/8 [00:11<00:03,  1.94s/it, loss=0.558]\u001b[A\n",
      "Validation:  75%|██████████████████████████████████████████████████████████████████████████████████████████                              | 6/8 [00:13<00:03,  1.94s/it, loss=0.573]\u001b[A\n",
      "Validation:  88%|█████████████████████████████████████████████████████████████████████████████████████████████████████████               | 7/8 [00:13<00:01,  1.93s/it, loss=0.573]\u001b[A\n",
      "Validation:  88%|█████████████████████████████████████████████████████████████████████████████████████████████████████████               | 7/8 [00:15<00:01,  1.93s/it, loss=0.584]\u001b[A\n",
      "Validation: 100%|████████████████████████████████████████████████████████████████████████████████████████████████████████████████████████| 8/8 [00:15<00:00,  1.92s/it, loss=0.584]\u001b[A\n",
      "Training Epoch [1/1]:  10%|██████████▋                                                                                                | 39/391 [01:40<40:12,  6.85s/it, loss=0.707]"
     ]
    },
    {
     "name": "stdout",
     "output_type": "stream",
     "text": [
      "Validation:\n",
      "\thamming_loss = 0.031\n",
      "\tf1_score = 0.283\n",
      "\tloss = 0.668\n",
      "****************************************\n"
     ]
    },
    {
     "name": "stderr",
     "output_type": "stream",
     "text": [
      "Training Epoch [1/1]:  20%|█████████████████████▎                                                                                      | 77/391 [03:04<11:10,  2.14s/it, loss=0.47]\n",
      "  0%|                                                                                                                                                        | 0/8 [00:00<?, ?it/s]\u001b[A\n",
      "Validation:   0%|                                                                                                                                            | 0/8 [00:00<?, ?it/s]\u001b[A\n",
      "Validation:  12%|████████████████▌                                                                                                                   | 1/8 [00:01<00:13,  1.91s/it]\u001b[A\n",
      "Validation:  12%|██████████████▉                                                                                                        | 1/8 [00:03<00:13,  1.91s/it, loss=0.0544]\u001b[A\n",
      "Validation:  25%|█████████████████████████████▊                                                                                         | 2/8 [00:03<00:11,  1.87s/it, loss=0.0544]\u001b[A\n",
      "Validation:  25%|█████████████████████████████▊                                                                                         | 2/8 [00:05<00:11,  1.87s/it, loss=0.0688]\u001b[A\n",
      "Validation:  38%|████████████████████████████████████████████▋                                                                          | 3/8 [00:05<00:09,  1.84s/it, loss=0.0688]\u001b[A\n",
      "Validation:  38%|████████████████████████████████████████████▋                                                                          | 3/8 [00:07<00:09,  1.84s/it, loss=0.0768]\u001b[A\n",
      "Validation:  50%|███████████████████████████████████████████████████████████▌                                                           | 4/8 [00:07<00:07,  1.97s/it, loss=0.0768]\u001b[A\n",
      "Validation:  50%|███████████████████████████████████████████████████████████▌                                                           | 4/8 [00:10<00:07,  1.97s/it, loss=0.0816]\u001b[A\n",
      "Validation:  62%|██████████████████████████████████████████████████████████████████████████▍                                            | 5/8 [00:10<00:06,  2.10s/it, loss=0.0816]\u001b[A\n",
      "Validation:  62%|██████████████████████████████████████████████████████████████████████████▍                                            | 5/8 [00:12<00:06,  2.10s/it, loss=0.0848]\u001b[A\n",
      "Validation:  75%|█████████████████████████████████████████████████████████████████████████████████████████▎                             | 6/8 [00:12<00:04,  2.06s/it, loss=0.0848]\u001b[A\n",
      "Validation:  75%|█████████████████████████████████████████████████████████████████████████████████████████▎                             | 6/8 [00:13<00:04,  2.06s/it, loss=0.0856]\u001b[A\n",
      "Validation:  88%|████████████████████████████████████████████████████████████████████████████████████████████████████████▏              | 7/8 [00:13<00:02,  2.00s/it, loss=0.0856]\u001b[A\n",
      "Validation:  88%|████████████████████████████████████████████████████████████████████████████████████████████████████████▏              | 7/8 [00:15<00:02,  2.00s/it, loss=0.0882]\u001b[A\n",
      "Validation: 100%|███████████████████████████████████████████████████████████████████████████████████████████████████████████████████████| 8/8 [00:15<00:00,  1.95s/it, loss=0.0882]\u001b[A\n",
      "Training Epoch [1/1]:  20%|█████████████████████▌                                                                                      | 78/391 [03:19<35:19,  6.77s/it, loss=0.47]"
     ]
    },
    {
     "name": "stdout",
     "output_type": "stream",
     "text": [
      "Validation:\n",
      "\thamming_loss = 0.033\n",
      "\tf1_score = 0.052\n",
      "\tloss = 0.101\n",
      "****************************************\n"
     ]
    },
    {
     "name": "stderr",
     "output_type": "stream",
     "text": [
      "Training Epoch [1/1]:  30%|███████████████████████████████▍                                                                          | 116/391 [04:42<09:35,  2.09s/it, loss=0.343]\n",
      "  0%|                                                                                                                                                        | 0/8 [00:00<?, ?it/s]\u001b[A\n",
      "Validation:   0%|                                                                                                                                            | 0/8 [00:00<?, ?it/s]\u001b[A\n",
      "Validation:  12%|████████████████▌                                                                                                                   | 1/8 [00:01<00:13,  1.96s/it]\u001b[A\n",
      "Validation:  12%|██████████████▉                                                                                                        | 1/8 [00:03<00:13,  1.96s/it, loss=0.0448]\u001b[A\n",
      "Validation:  25%|█████████████████████████████▊                                                                                         | 2/8 [00:03<00:11,  1.95s/it, loss=0.0448]\u001b[A\n",
      "Validation:  25%|█████████████████████████████▊                                                                                         | 2/8 [00:05<00:11,  1.95s/it, loss=0.0554]\u001b[A\n",
      "Validation:  38%|████████████████████████████████████████████▋                                                                          | 3/8 [00:05<00:09,  1.92s/it, loss=0.0554]\u001b[A\n",
      "Validation:  38%|████████████████████████████████████████████▋                                                                          | 3/8 [00:07<00:09,  1.92s/it, loss=0.0605]\u001b[A\n",
      "Validation:  50%|███████████████████████████████████████████████████████████▌                                                           | 4/8 [00:07<00:07,  1.89s/it, loss=0.0605]\u001b[A\n",
      "Validation:  50%|████████████████████████████████████████████████████████████                                                            | 4/8 [00:09<00:07,  1.89s/it, loss=0.064]\u001b[A\n",
      "Validation:  62%|███████████████████████████████████████████████████████████████████████████                                             | 5/8 [00:09<00:05,  1.95s/it, loss=0.064]\u001b[A\n",
      "Validation:  62%|██████████████████████████████████████████████████████████████████████████▍                                            | 5/8 [00:11<00:05,  1.95s/it, loss=0.0652]\u001b[A\n",
      "Validation:  75%|█████████████████████████████████████████████████████████████████████████████████████████▎                             | 6/8 [00:11<00:03,  1.92s/it, loss=0.0652]\u001b[A\n",
      "Validation:  75%|█████████████████████████████████████████████████████████████████████████████████████████▎                             | 6/8 [00:13<00:03,  1.92s/it, loss=0.0657]\u001b[A\n",
      "Validation:  88%|████████████████████████████████████████████████████████████████████████████████████████████████████████▏              | 7/8 [00:13<00:01,  1.94s/it, loss=0.0657]\u001b[A\n",
      "Validation:  88%|████████████████████████████████████████████████████████████████████████████████████████████████████████▏              | 7/8 [00:15<00:01,  1.94s/it, loss=0.0682]\u001b[A\n",
      "Validation: 100%|███████████████████████████████████████████████████████████████████████████████████████████████████████████████████████| 8/8 [00:15<00:00,  1.89s/it, loss=0.0682]\u001b[A\n",
      "Training Epoch [1/1]:  30%|███████████████████████████████▋                                                                          | 117/391 [04:58<30:39,  6.71s/it, loss=0.343]"
     ]
    },
    {
     "name": "stdout",
     "output_type": "stream",
     "text": [
      "Validation:\n",
      "\thamming_loss = 0.026\n",
      "\tf1_score = 0.258\n",
      "\tloss = 0.078\n",
      "****************************************\n"
     ]
    },
    {
     "name": "stderr",
     "output_type": "stream",
     "text": [
      "Training Epoch [1/1]:  40%|██████████████████████████████████████████                                                                | 155/391 [06:21<08:21,  2.12s/it, loss=0.275]\n",
      "  0%|                                                                                                                                                        | 0/8 [00:00<?, ?it/s]\u001b[A\n",
      "Validation:   0%|                                                                                                                                            | 0/8 [00:00<?, ?it/s]\u001b[A\n",
      "Validation:  12%|████████████████▌                                                                                                                   | 1/8 [00:01<00:13,  1.88s/it]\u001b[A\n",
      "Validation:  12%|██████████████▉                                                                                                        | 1/8 [00:03<00:13,  1.88s/it, loss=0.0381]\u001b[A\n",
      "Validation:  25%|█████████████████████████████▊                                                                                         | 2/8 [00:03<00:11,  1.88s/it, loss=0.0381]\u001b[A\n",
      "Validation:  25%|█████████████████████████████▊                                                                                         | 2/8 [00:05<00:11,  1.88s/it, loss=0.0471]\u001b[A\n",
      "Validation:  38%|████████████████████████████████████████████▋                                                                          | 3/8 [00:05<00:09,  1.89s/it, loss=0.0471]\u001b[A\n",
      "Validation:  38%|████████████████████████████████████████████▋                                                                          | 3/8 [00:07<00:09,  1.89s/it, loss=0.0511]\u001b[A\n",
      "Validation:  50%|███████████████████████████████████████████████████████████▌                                                           | 4/8 [00:07<00:07,  1.86s/it, loss=0.0511]\u001b[A\n",
      "Validation:  50%|███████████████████████████████████████████████████████████▌                                                           | 4/8 [00:09<00:07,  1.86s/it, loss=0.0541]\u001b[A\n",
      "Validation:  62%|██████████████████████████████████████████████████████████████████████████▍                                            | 5/8 [00:09<00:05,  1.87s/it, loss=0.0541]\u001b[A\n",
      "Validation:  62%|██████████████████████████████████████████████████████████████████████████▍                                            | 5/8 [00:11<00:05,  1.87s/it, loss=0.0544]\u001b[A\n",
      "Validation:  75%|█████████████████████████████████████████████████████████████████████████████████████████▎                             | 6/8 [00:11<00:03,  1.87s/it, loss=0.0544]\u001b[A\n",
      "Validation:  75%|█████████████████████████████████████████████████████████████████████████████████████████▎                             | 6/8 [00:13<00:03,  1.87s/it, loss=0.0541]\u001b[A\n",
      "Validation:  88%|████████████████████████████████████████████████████████████████████████████████████████████████████████▏              | 7/8 [00:13<00:01,  1.90s/it, loss=0.0541]\u001b[A\n",
      "Validation:  88%|████████████████████████████████████████████████████████████████████████████████████████████████████████▏              | 7/8 [00:14<00:01,  1.90s/it, loss=0.0561]\u001b[A\n",
      "Validation: 100%|███████████████████████████████████████████████████████████████████████████████████████████████████████████████████████| 8/8 [00:14<00:00,  1.85s/it, loss=0.0561]\u001b[A\n",
      "Training Epoch [1/1]:  40%|██████████████████████████████████████████▎                                                               | 156/391 [06:36<25:52,  6.61s/it, loss=0.275]"
     ]
    },
    {
     "name": "stdout",
     "output_type": "stream",
     "text": [
      "Validation:\n",
      "\thamming_loss = 0.021\n",
      "\tf1_score = 0.410\n",
      "\tloss = 0.064\n",
      "****************************************\n"
     ]
    },
    {
     "name": "stderr",
     "output_type": "stream",
     "text": [
      "Training Epoch [1/1]:  50%|████████████████████████████████████████████████████▌                                                     | 194/391 [07:59<06:53,  2.10s/it, loss=0.233]\n",
      "  0%|                                                                                                                                                        | 0/8 [00:00<?, ?it/s]\u001b[A\n",
      "Validation:   0%|                                                                                                                                            | 0/8 [00:00<?, ?it/s]\u001b[A\n",
      "Validation:  12%|████████████████▌                                                                                                                   | 1/8 [00:02<00:14,  2.05s/it]\u001b[A\n",
      "Validation:  12%|██████████████▉                                                                                                        | 1/8 [00:03<00:14,  2.05s/it, loss=0.0342]\u001b[A\n",
      "Validation:  25%|█████████████████████████████▊                                                                                         | 2/8 [00:03<00:11,  1.98s/it, loss=0.0342]\u001b[A\n",
      "Validation:  25%|█████████████████████████████▊                                                                                         | 2/8 [00:05<00:11,  1.98s/it, loss=0.0426]\u001b[A\n",
      "Validation:  38%|████████████████████████████████████████████▋                                                                          | 3/8 [00:05<00:09,  1.94s/it, loss=0.0426]\u001b[A\n",
      "Validation:  38%|████████████████████████████████████████████▋                                                                          | 3/8 [00:07<00:09,  1.94s/it, loss=0.0459]\u001b[A\n",
      "Validation:  50%|███████████████████████████████████████████████████████████▌                                                           | 4/8 [00:07<00:07,  1.90s/it, loss=0.0459]\u001b[A\n",
      "Validation:  50%|███████████████████████████████████████████████████████████▌                                                           | 4/8 [00:09<00:07,  1.90s/it, loss=0.0488]\u001b[A\n",
      "Validation:  62%|██████████████████████████████████████████████████████████████████████████▍                                            | 5/8 [00:09<00:05,  1.88s/it, loss=0.0488]\u001b[A\n",
      "Validation:  62%|██████████████████████████████████████████████████████████████████████████▍                                            | 5/8 [00:11<00:05,  1.88s/it, loss=0.0488]\u001b[A\n",
      "Validation:  75%|█████████████████████████████████████████████████████████████████████████████████████████▎                             | 6/8 [00:11<00:03,  1.86s/it, loss=0.0488]\u001b[A\n",
      "Validation:  75%|█████████████████████████████████████████████████████████████████████████████████████████▎                             | 6/8 [00:13<00:03,  1.86s/it, loss=0.0482]\u001b[A\n",
      "Validation:  88%|████████████████████████████████████████████████████████████████████████████████████████████████████████▏              | 7/8 [00:13<00:02,  2.05s/it, loss=0.0482]\u001b[A\n",
      "Validation:  88%|████████████████████████████████████████████████████████████████████████████████████████████████████████▏              | 7/8 [00:15<00:02,  2.05s/it, loss=0.0502]\u001b[A\n",
      "Validation: 100%|███████████████████████████████████████████████████████████████████████████████████████████████████████████████████████| 8/8 [00:15<00:00,  1.93s/it, loss=0.0502]\u001b[A\n",
      "Training Epoch [1/1]:  50%|████████████████████████████████████████████████████▊                                                     | 195/391 [08:14<21:55,  6.71s/it, loss=0.233]"
     ]
    },
    {
     "name": "stdout",
     "output_type": "stream",
     "text": [
      "Validation:\n",
      "\thamming_loss = 0.018\n",
      "\tf1_score = 0.527\n",
      "\tloss = 0.057\n",
      "****************************************\n"
     ]
    },
    {
     "name": "stderr",
     "output_type": "stream",
     "text": [
      "Training Epoch [1/1]:  60%|███████████████████████████████████████████████████████████████▏                                          | 233/391 [09:37<05:44,  2.18s/it, loss=0.204]\n",
      "  0%|                                                                                                                                                        | 0/8 [00:00<?, ?it/s]\u001b[A\n",
      "Validation:   0%|                                                                                                                                            | 0/8 [00:00<?, ?it/s]\u001b[A\n",
      "Validation:  12%|████████████████▌                                                                                                                   | 1/8 [00:01<00:12,  1.82s/it]\u001b[A\n",
      "Validation:  12%|██████████████▉                                                                                                        | 1/8 [00:03<00:12,  1.82s/it, loss=0.0303]\u001b[A\n",
      "Validation:  25%|█████████████████████████████▊                                                                                         | 2/8 [00:03<00:12,  2.03s/it, loss=0.0303]\u001b[A\n",
      "Validation:  25%|█████████████████████████████▊                                                                                         | 2/8 [00:05<00:12,  2.03s/it, loss=0.0383]\u001b[A\n",
      "Validation:  38%|████████████████████████████████████████████▋                                                                          | 3/8 [00:05<00:10,  2.01s/it, loss=0.0383]\u001b[A\n",
      "Validation:  38%|████████████████████████████████████████████▋                                                                          | 3/8 [00:07<00:10,  2.01s/it, loss=0.0412]\u001b[A\n",
      "Validation:  50%|███████████████████████████████████████████████████████████▌                                                           | 4/8 [00:07<00:07,  1.98s/it, loss=0.0412]\u001b[A\n",
      "Validation:  50%|████████████████████████████████████████████████████████████                                                            | 4/8 [00:09<00:07,  1.98s/it, loss=0.044]\u001b[A\n",
      "Validation:  62%|███████████████████████████████████████████████████████████████████████████                                             | 5/8 [00:09<00:05,  1.94s/it, loss=0.044]\u001b[A\n",
      "Validation:  62%|██████████████████████████████████████████████████████████████████████████▍                                            | 5/8 [00:11<00:05,  1.94s/it, loss=0.0441]\u001b[A\n",
      "Validation:  75%|█████████████████████████████████████████████████████████████████████████████████████████▎                             | 6/8 [00:11<00:03,  1.93s/it, loss=0.0441]\u001b[A\n",
      "Validation:  75%|█████████████████████████████████████████████████████████████████████████████████████████▎                             | 6/8 [00:13<00:03,  1.93s/it, loss=0.0433]\u001b[A\n",
      "Validation:  88%|████████████████████████████████████████████████████████████████████████████████████████████████████████▏              | 7/8 [00:13<00:02,  2.02s/it, loss=0.0433]\u001b[A\n",
      "Validation:  88%|████████████████████████████████████████████████████████████████████████████████████████████████████████▏              | 7/8 [00:15<00:02,  2.02s/it, loss=0.0451]\u001b[A\n",
      "Validation: 100%|███████████████████████████████████████████████████████████████████████████████████████████████████████████████████████| 8/8 [00:15<00:00,  1.95s/it, loss=0.0451]\u001b[A\n",
      "Training Epoch [1/1]:  60%|███████████████████████████████████████████████████████████████▍                                          | 234/391 [09:53<17:47,  6.80s/it, loss=0.204]"
     ]
    },
    {
     "name": "stdout",
     "output_type": "stream",
     "text": [
      "Validation:\n",
      "\thamming_loss = 0.015\n",
      "\tf1_score = 0.612\n",
      "\tloss = 0.052\n",
      "****************************************\n"
     ]
    },
    {
     "name": "stderr",
     "output_type": "stream",
     "text": [
      "Training Epoch [1/1]:  70%|█████████████████████████████████████████████████████████████████████████▋                                | 272/391 [11:15<04:10,  2.11s/it, loss=0.182]\n",
      "  0%|                                                                                                                                                        | 0/8 [00:00<?, ?it/s]\u001b[A\n",
      "Validation:   0%|                                                                                                                                            | 0/8 [00:00<?, ?it/s]\u001b[A\n",
      "Validation:  12%|████████████████▌                                                                                                                   | 1/8 [00:01<00:13,  1.95s/it]\u001b[A\n",
      "Validation:  12%|██████████████▉                                                                                                        | 1/8 [00:03<00:13,  1.95s/it, loss=0.0278]\u001b[A\n",
      "Validation:  25%|█████████████████████████████▊                                                                                         | 2/8 [00:03<00:11,  1.93s/it, loss=0.0278]\u001b[A\n",
      "Validation:  25%|█████████████████████████████▊                                                                                         | 2/8 [00:06<00:11,  1.93s/it, loss=0.0352]\u001b[A\n",
      "Validation:  38%|████████████████████████████████████████████▋                                                                          | 3/8 [00:06<00:10,  2.03s/it, loss=0.0352]\u001b[A\n",
      "Validation:  38%|████████████████████████████████████████████▋                                                                          | 3/8 [00:07<00:10,  2.03s/it, loss=0.0382]\u001b[A\n",
      "Validation:  50%|███████████████████████████████████████████████████████████▌                                                           | 4/8 [00:07<00:07,  1.98s/it, loss=0.0382]\u001b[A\n",
      "Validation:  50%|███████████████████████████████████████████████████████████▌                                                           | 4/8 [00:09<00:07,  1.98s/it, loss=0.0406]\u001b[A\n",
      "Validation:  62%|██████████████████████████████████████████████████████████████████████████▍                                            | 5/8 [00:09<00:05,  1.93s/it, loss=0.0406]\u001b[A\n",
      "Validation:  62%|██████████████████████████████████████████████████████████████████████████▍                                            | 5/8 [00:11<00:05,  1.93s/it, loss=0.0405]\u001b[A\n",
      "Validation:  75%|█████████████████████████████████████████████████████████████████████████████████████████▎                             | 6/8 [00:11<00:03,  1.95s/it, loss=0.0405]\u001b[A\n",
      "Validation:  75%|█████████████████████████████████████████████████████████████████████████████████████████▎                             | 6/8 [00:13<00:03,  1.95s/it, loss=0.0396]\u001b[A\n",
      "Validation:  88%|████████████████████████████████████████████████████████████████████████████████████████████████████████▏              | 7/8 [00:13<00:01,  1.92s/it, loss=0.0396]\u001b[A\n",
      "Validation:  88%|████████████████████████████████████████████████████████████████████████████████████████████████████████▏              | 7/8 [00:15<00:01,  1.92s/it, loss=0.0416]\u001b[A\n",
      "Validation: 100%|███████████████████████████████████████████████████████████████████████████████████████████████████████████████████████| 8/8 [00:15<00:00,  1.90s/it, loss=0.0416]\u001b[A\n",
      "Training Epoch [1/1]:  70%|██████████████████████████████████████████████████████████████████████████                                | 273/391 [11:31<13:10,  6.70s/it, loss=0.182]"
     ]
    },
    {
     "name": "stdout",
     "output_type": "stream",
     "text": [
      "Validation:\n",
      "\thamming_loss = 0.014\n",
      "\tf1_score = 0.648\n",
      "\tloss = 0.048\n",
      "****************************************\n"
     ]
    },
    {
     "name": "stderr",
     "output_type": "stream",
     "text": [
      "Training Epoch [1/1]:  80%|████████████████████████████████████████████████████████████████████████████████████▎                     | 311/391 [12:53<02:53,  2.17s/it, loss=0.165]\n",
      "  0%|                                                                                                                                                        | 0/8 [00:00<?, ?it/s]\u001b[A\n",
      "Validation:   0%|                                                                                                                                            | 0/8 [00:00<?, ?it/s]\u001b[A\n",
      "Validation:  12%|████████████████▌                                                                                                                   | 1/8 [00:02<00:14,  2.06s/it]\u001b[A\n",
      "Validation:  12%|███████████████                                                                                                         | 1/8 [00:04<00:14,  2.06s/it, loss=0.027]\u001b[A\n",
      "Validation:  25%|██████████████████████████████                                                                                          | 2/8 [00:04<00:12,  2.02s/it, loss=0.027]\u001b[A\n",
      "Validation:  25%|█████████████████████████████▊                                                                                         | 2/8 [00:06<00:12,  2.02s/it, loss=0.0341]\u001b[A\n",
      "Validation:  38%|████████████████████████████████████████████▋                                                                          | 3/8 [00:06<00:10,  2.02s/it, loss=0.0341]\u001b[A\n",
      "Validation:  38%|████████████████████████████████████████████▋                                                                          | 3/8 [00:08<00:10,  2.02s/it, loss=0.0368]\u001b[A\n",
      "Validation:  50%|███████████████████████████████████████████████████████████▌                                                           | 4/8 [00:08<00:08,  2.04s/it, loss=0.0368]\u001b[A\n",
      "Validation:  50%|███████████████████████████████████████████████████████████▌                                                           | 4/8 [00:10<00:08,  2.04s/it, loss=0.0391]\u001b[A\n",
      "Validation:  62%|██████████████████████████████████████████████████████████████████████████▍                                            | 5/8 [00:10<00:05,  1.98s/it, loss=0.0391]\u001b[A\n",
      "Validation:  62%|██████████████████████████████████████████████████████████████████████████▍                                            | 5/8 [00:11<00:05,  1.98s/it, loss=0.0391]\u001b[A\n",
      "Validation:  75%|█████████████████████████████████████████████████████████████████████████████████████████▎                             | 6/8 [00:11<00:03,  1.94s/it, loss=0.0391]\u001b[A\n",
      "Validation:  75%|█████████████████████████████████████████████████████████████████████████████████████████▎                             | 6/8 [00:13<00:03,  1.94s/it, loss=0.0384]\u001b[A\n",
      "Validation:  88%|████████████████████████████████████████████████████████████████████████████████████████████████████████▏              | 7/8 [00:13<00:01,  1.92s/it, loss=0.0384]\u001b[A\n",
      "Validation:  88%|████████████████████████████████████████████████████████████████████████████████████████████████████████▏              | 7/8 [00:15<00:01,  1.92s/it, loss=0.0399]\u001b[A\n",
      "Validation: 100%|███████████████████████████████████████████████████████████████████████████████████████████████████████████████████████| 8/8 [00:15<00:00,  1.91s/it, loss=0.0399]\u001b[A\n",
      "Training Epoch [1/1]:  80%|████████████████████████████████████████████████████████████████████████████████████▌                     | 312/391 [13:09<08:47,  6.67s/it, loss=0.165]"
     ]
    },
    {
     "name": "stdout",
     "output_type": "stream",
     "text": [
      "Validation:\n",
      "\thamming_loss = 0.014\n",
      "\tf1_score = 0.661\n",
      "\tloss = 0.046\n",
      "****************************************\n"
     ]
    },
    {
     "name": "stderr",
     "output_type": "stream",
     "text": [
      "Training Epoch [1/1]:  90%|██████████████████████████████████████████████████████████████████████████████████████████████▉           | 350/391 [14:32<01:25,  2.09s/it, loss=0.151]\n",
      "  0%|                                                                                                                                                        | 0/8 [00:00<?, ?it/s]\u001b[A\n",
      "Validation:   0%|                                                                                                                                            | 0/8 [00:00<?, ?it/s]\u001b[A\n",
      "Validation:  12%|████████████████▌                                                                                                                   | 1/8 [00:01<00:12,  1.84s/it]\u001b[A\n",
      "Validation:  12%|██████████████▉                                                                                                        | 1/8 [00:03<00:12,  1.84s/it, loss=0.0247]\u001b[A\n",
      "Validation:  25%|█████████████████████████████▊                                                                                         | 2/8 [00:03<00:11,  1.85s/it, loss=0.0247]\u001b[A\n",
      "Validation:  25%|█████████████████████████████▊                                                                                         | 2/8 [00:05<00:11,  1.85s/it, loss=0.0309]\u001b[A\n",
      "Validation:  38%|████████████████████████████████████████████▋                                                                          | 3/8 [00:05<00:09,  1.85s/it, loss=0.0309]\u001b[A\n",
      "Validation:  38%|████████████████████████████████████████████▋                                                                          | 3/8 [00:07<00:09,  1.85s/it, loss=0.0341]\u001b[A\n",
      "Validation:  50%|███████████████████████████████████████████████████████████▌                                                           | 4/8 [00:07<00:07,  1.85s/it, loss=0.0341]\u001b[A\n",
      "Validation:  50%|███████████████████████████████████████████████████████████▌                                                           | 4/8 [00:09<00:07,  1.85s/it, loss=0.0367]\u001b[A\n",
      "Validation:  62%|██████████████████████████████████████████████████████████████████████████▍                                            | 5/8 [00:09<00:05,  1.99s/it, loss=0.0367]\u001b[A\n",
      "Validation:  62%|██████████████████████████████████████████████████████████████████████████▍                                            | 5/8 [00:11<00:05,  1.99s/it, loss=0.0365]\u001b[A\n",
      "Validation:  75%|█████████████████████████████████████████████████████████████████████████████████████████▎                             | 6/8 [00:11<00:04,  2.02s/it, loss=0.0365]\u001b[A\n",
      "Validation:  75%|█████████████████████████████████████████████████████████████████████████████████████████▎                             | 6/8 [00:13<00:04,  2.02s/it, loss=0.0358]\u001b[A\n",
      "Validation:  88%|████████████████████████████████████████████████████████████████████████████████████████████████████████▏              | 7/8 [00:13<00:01,  1.99s/it, loss=0.0358]\u001b[A\n",
      "Validation:  88%|████████████████████████████████████████████████████████████████████████████████████████████████████████▏              | 7/8 [00:15<00:01,  1.99s/it, loss=0.0373]\u001b[A\n",
      "Validation: 100%|███████████████████████████████████████████████████████████████████████████████████████████████████████████████████████| 8/8 [00:15<00:00,  1.91s/it, loss=0.0373]\u001b[A\n",
      "Training Epoch [1/1]:  90%|███████████████████████████████████████████████████████████████████████████████████████████████▏          | 351/391 [14:47<04:27,  6.69s/it, loss=0.151]"
     ]
    },
    {
     "name": "stdout",
     "output_type": "stream",
     "text": [
      "Validation:\n",
      "\thamming_loss = 0.013\n",
      "\tf1_score = 0.683\n",
      "\tloss = 0.043\n",
      "****************************************\n"
     ]
    },
    {
     "name": "stderr",
     "output_type": "stream",
     "text": [
      "Training Epoch [1/1]:  99%|██████████████████████████████████████████████████████████████████████████████████████████████████████████▍| 389/391 [16:09<00:04,  2.10s/it, loss=0.14]\n",
      "  0%|                                                                                                                                                        | 0/8 [00:00<?, ?it/s]\u001b[A\n",
      "Validation:   0%|                                                                                                                                            | 0/8 [00:00<?, ?it/s]\u001b[A\n",
      "Validation:  12%|████████████████▌                                                                                                                   | 1/8 [00:02<00:14,  2.04s/it]\u001b[A\n",
      "Validation:  12%|██████████████▉                                                                                                        | 1/8 [00:04<00:14,  2.04s/it, loss=0.0259]\u001b[A\n",
      "Validation:  25%|█████████████████████████████▊                                                                                         | 2/8 [00:04<00:12,  2.01s/it, loss=0.0259]\u001b[A\n",
      "Validation:  25%|█████████████████████████████▊                                                                                         | 2/8 [00:06<00:12,  2.01s/it, loss=0.0318]\u001b[A\n",
      "Validation:  38%|████████████████████████████████████████████▋                                                                          | 3/8 [00:06<00:10,  2.02s/it, loss=0.0318]\u001b[A\n",
      "Validation:  38%|████████████████████████████████████████████▋                                                                          | 3/8 [00:07<00:10,  2.02s/it, loss=0.0341]\u001b[A\n",
      "Validation:  50%|███████████████████████████████████████████████████████████▌                                                           | 4/8 [00:07<00:07,  1.97s/it, loss=0.0341]\u001b[A\n",
      "Validation:  50%|███████████████████████████████████████████████████████████▌                                                           | 4/8 [00:09<00:07,  1.97s/it, loss=0.0364]\u001b[A\n",
      "Validation:  62%|██████████████████████████████████████████████████████████████████████████▍                                            | 5/8 [00:09<00:05,  1.93s/it, loss=0.0364]\u001b[A\n",
      "Validation:  62%|██████████████████████████████████████████████████████████████████████████▍                                            | 5/8 [00:11<00:05,  1.93s/it, loss=0.0361]\u001b[A\n",
      "Validation:  75%|█████████████████████████████████████████████████████████████████████████████████████████▎                             | 6/8 [00:11<00:03,  1.96s/it, loss=0.0361]\u001b[A\n",
      "Validation:  75%|█████████████████████████████████████████████████████████████████████████████████████████▎                             | 6/8 [00:13<00:03,  1.96s/it, loss=0.0355]\u001b[A\n",
      "Validation:  88%|████████████████████████████████████████████████████████████████████████████████████████████████████████▏              | 7/8 [00:13<00:01,  1.99s/it, loss=0.0355]\u001b[A\n",
      "Validation:  88%|████████████████████████████████████████████████████████████████████████████████████████████████████████▏              | 7/8 [00:15<00:01,  1.99s/it, loss=0.0369]\u001b[A\n",
      "Validation: 100%|███████████████████████████████████████████████████████████████████████████████████████████████████████████████████████| 8/8 [00:15<00:00,  1.93s/it, loss=0.0369]\u001b[A\n",
      "Training Epoch [1/1]: 100%|██████████████████████████████████████████████████████████████████████████████████████████████████████████▋| 390/391 [16:24<00:06,  6.70s/it, loss=0.14]"
     ]
    },
    {
     "name": "stdout",
     "output_type": "stream",
     "text": [
      "Validation:\n",
      "\thamming_loss = 0.013\n",
      "\tf1_score = 0.657\n",
      "\tloss = 0.042\n",
      "****************************************\n"
     ]
    },
    {
     "name": "stderr",
     "output_type": "stream",
     "text": [
      "Training Epoch [1/1]: 100%|███████████████████████████████████████████████████████████████████████████████████████████████████████████| 391/391 [16:26<00:00,  2.52s/it, loss=0.14]\n"
     ]
    },
    {
     "name": "stdout",
     "output_type": "stream",
     "text": [
      "Training at epoch 1:\n",
      "\thamming_loss = 0.013\n",
      "\tf1_score = 0.656\n",
      "\tloss = 0.140\n"
     ]
    },
    {
     "name": "stderr",
     "output_type": "stream",
     "text": [
      "Validation: 100%|███████████████████████████████████████████████████████████████████████████████████████████████████████████████████████| 8/8 [00:15<00:00,  1.88s/it, loss=0.0366]"
     ]
    },
    {
     "name": "stdout",
     "output_type": "stream",
     "text": [
      "Validation:\n",
      "\thamming_loss = 0.013\n",
      "\tf1_score = 0.658\n",
      "\tloss = 0.042\n",
      "****************************************\n"
     ]
    },
    {
     "name": "stderr",
     "output_type": "stream",
     "text": [
      "\n"
     ]
    }
   ],
   "source": [
    "train_high_levels = TrainHighLevels()\n",
    "learner = train_high_levels.execute(cnn_learner=learner,\n",
    "        device=device,\n",
    "        torch_iterators=torch_iterators,\n",
    "        cnn_hparams=cnn_hyperparameters)"
   ]
  },
  {
   "cell_type": "markdown",
   "id": "d352e6c7-d346-4919-976f-98e087fa3f10",
   "metadata": {},
   "source": [
    "Train all model layers"
   ]
  },
  {
   "cell_type": "code",
   "execution_count": 12,
   "id": "3b5629c7-2978-4196-a8d8-49c0ad13299a",
   "metadata": {},
   "outputs": [
    {
     "name": "stderr",
     "output_type": "stream",
     "text": [
      "2022-09-11 16:35:47,607 :: train/train.py/execute :: INFO :: Unfreezing the whole CNN network\n",
      "2022-09-11 16:35:47,611 :: train/train.py/execute :: INFO :: Starting finetuning of the whole CNN network\n",
      "Training Epoch [1/1]:  10%|██████████▍                                                                                                | 38/391 [01:31<13:29,  2.29s/it, loss=0.612]\n",
      "  0%|                                                                                                                                                        | 0/8 [00:00<?, ?it/s]\u001b[A\n",
      "Validation:   0%|                                                                                                                                            | 0/8 [00:00<?, ?it/s]\u001b[A\n",
      "Validation:  12%|████████████████▌                                                                                                                   | 1/8 [00:01<00:13,  1.93s/it]\u001b[A\n",
      "Validation:  12%|███████████████                                                                                                         | 1/8 [00:03<00:13,  1.93s/it, loss=0.297]\u001b[A\n",
      "Validation:  25%|██████████████████████████████                                                                                          | 2/8 [00:03<00:11,  1.95s/it, loss=0.297]\u001b[A\n",
      "Validation:  25%|██████████████████████████████                                                                                          | 2/8 [00:05<00:11,  1.95s/it, loss=0.391]\u001b[A\n",
      "Validation:  38%|█████████████████████████████████████████████                                                                           | 3/8 [00:05<00:09,  1.92s/it, loss=0.391]\u001b[A\n",
      "Validation:  38%|█████████████████████████████████████████████                                                                           | 3/8 [00:07<00:09,  1.92s/it, loss=0.441]\u001b[A\n",
      "Validation:  50%|████████████████████████████████████████████████████████████                                                            | 4/8 [00:07<00:07,  1.94s/it, loss=0.441]\u001b[A\n",
      "Validation:  50%|████████████████████████████████████████████████████████████                                                            | 4/8 [00:09<00:07,  1.94s/it, loss=0.481]\u001b[A\n",
      "Validation:  62%|███████████████████████████████████████████████████████████████████████████                                             | 5/8 [00:09<00:05,  1.94s/it, loss=0.481]\u001b[A\n",
      "Validation:  62%|███████████████████████████████████████████████████████████████████████████                                             | 5/8 [00:11<00:05,  1.94s/it, loss=0.501]\u001b[A\n",
      "Validation:  75%|██████████████████████████████████████████████████████████████████████████████████████████                              | 6/8 [00:11<00:03,  1.91s/it, loss=0.501]\u001b[A\n",
      "Validation:  75%|██████████████████████████████████████████████████████████████████████████████████████████                              | 6/8 [00:13<00:03,  1.91s/it, loss=0.519]\u001b[A\n",
      "Validation:  88%|█████████████████████████████████████████████████████████████████████████████████████████████████████████               | 7/8 [00:13<00:01,  1.94s/it, loss=0.519]\u001b[A\n",
      "Validation:  88%|█████████████████████████████████████████████████████████████████████████████████████████████████████████               | 7/8 [00:15<00:01,  1.94s/it, loss=0.544]\u001b[A\n",
      "Validation: 100%|████████████████████████████████████████████████████████████████████████████████████████████████████████████████████████| 8/8 [00:15<00:00,  1.89s/it, loss=0.544]\u001b[A\n",
      "Training Epoch [1/1]:  10%|██████████▋                                                                                                | 39/391 [01:46<40:30,  6.90s/it, loss=0.612]"
     ]
    },
    {
     "name": "stdout",
     "output_type": "stream",
     "text": [
      "Validation:\n",
      "\thamming_loss = 0.083\n",
      "\tf1_score = 0.643\n",
      "\tloss = 0.622\n",
      "****************************************\n"
     ]
    },
    {
     "name": "stderr",
     "output_type": "stream",
     "text": [
      "Training Epoch [1/1]:  20%|█████████████████████                                                                                      | 77/391 [03:17<11:55,  2.28s/it, loss=0.373]\n",
      "  0%|                                                                                                                                                        | 0/8 [00:00<?, ?it/s]\u001b[A\n",
      "Validation:   0%|                                                                                                                                            | 0/8 [00:00<?, ?it/s]\u001b[A\n",
      "Validation:  12%|████████████████▌                                                                                                                   | 1/8 [00:01<00:13,  1.95s/it]\u001b[A\n",
      "Validation:  12%|██████████████▉                                                                                                        | 1/8 [00:03<00:13,  1.95s/it, loss=0.0342]\u001b[A\n",
      "Validation:  25%|█████████████████████████████▊                                                                                         | 2/8 [00:03<00:11,  1.93s/it, loss=0.0342]\u001b[A\n",
      "Validation:  25%|█████████████████████████████▊                                                                                         | 2/8 [00:05<00:11,  1.93s/it, loss=0.0421]\u001b[A\n",
      "Validation:  38%|████████████████████████████████████████████▋                                                                          | 3/8 [00:05<00:10,  2.01s/it, loss=0.0421]\u001b[A\n",
      "Validation:  38%|████████████████████████████████████████████▋                                                                          | 3/8 [00:07<00:10,  2.01s/it, loss=0.0468]\u001b[A\n",
      "Validation:  50%|███████████████████████████████████████████████████████████▌                                                           | 4/8 [00:07<00:07,  2.00s/it, loss=0.0468]\u001b[A\n",
      "Validation:  50%|███████████████████████████████████████████████████████████▌                                                           | 4/8 [00:09<00:07,  2.00s/it, loss=0.0503]\u001b[A\n",
      "Validation:  62%|██████████████████████████████████████████████████████████████████████████▍                                            | 5/8 [00:09<00:05,  1.95s/it, loss=0.0503]\u001b[A\n",
      "Validation:  62%|██████████████████████████████████████████████████████████████████████████▍                                            | 5/8 [00:11<00:05,  1.95s/it, loss=0.0504]\u001b[A\n",
      "Validation:  75%|█████████████████████████████████████████████████████████████████████████████████████████▎                             | 6/8 [00:11<00:03,  1.91s/it, loss=0.0504]\u001b[A\n",
      "Validation:  75%|█████████████████████████████████████████████████████████████████████████████████████████▎                             | 6/8 [00:13<00:03,  1.91s/it, loss=0.0497]\u001b[A\n",
      "Validation:  88%|████████████████████████████████████████████████████████████████████████████████████████████████████████▏              | 7/8 [00:13<00:02,  2.04s/it, loss=0.0497]\u001b[A\n",
      "Validation:  88%|█████████████████████████████████████████████████████████████████████████████████████████████████████████               | 7/8 [00:15<00:02,  2.04s/it, loss=0.052]\u001b[A\n",
      "Validation: 100%|████████████████████████████████████████████████████████████████████████████████████████████████████████████████████████| 8/8 [00:15<00:00,  1.95s/it, loss=0.052]\u001b[A\n",
      "Training Epoch [1/1]:  20%|█████████████████████▎                                                                                     | 78/391 [03:32<36:10,  6.93s/it, loss=0.373]"
     ]
    },
    {
     "name": "stdout",
     "output_type": "stream",
     "text": [
      "Validation:\n",
      "\thamming_loss = 0.016\n",
      "\tf1_score = 0.558\n",
      "\tloss = 0.059\n",
      "****************************************\n"
     ]
    },
    {
     "name": "stderr",
     "output_type": "stream",
     "text": [
      "Training Epoch [1/1]:  30%|███████████████████████████████▍                                                                          | 116/391 [05:01<10:42,  2.34s/it, loss=0.266]\n",
      "  0%|                                                                                                                                                        | 0/8 [00:00<?, ?it/s]\u001b[A\n",
      "Validation:   0%|                                                                                                                                            | 0/8 [00:00<?, ?it/s]\u001b[A\n",
      "Validation:  12%|████████████████▌                                                                                                                   | 1/8 [00:01<00:13,  1.86s/it]\u001b[A\n",
      "Validation:  12%|██████████████▉                                                                                                        | 1/8 [00:03<00:13,  1.86s/it, loss=0.0287]\u001b[A\n",
      "Validation:  25%|█████████████████████████████▊                                                                                         | 2/8 [00:03<00:11,  1.85s/it, loss=0.0287]\u001b[A\n",
      "Validation:  25%|█████████████████████████████▊                                                                                         | 2/8 [00:05<00:11,  1.85s/it, loss=0.0354]\u001b[A\n",
      "Validation:  38%|████████████████████████████████████████████▋                                                                          | 3/8 [00:05<00:09,  1.87s/it, loss=0.0354]\u001b[A\n",
      "Validation:  38%|█████████████████████████████████████████████                                                                           | 3/8 [00:07<00:09,  1.87s/it, loss=0.039]\u001b[A\n",
      "Validation:  50%|████████████████████████████████████████████████████████████                                                            | 4/8 [00:07<00:07,  1.87s/it, loss=0.039]\u001b[A\n",
      "Validation:  50%|███████████████████████████████████████████████████████████▌                                                           | 4/8 [00:09<00:07,  1.87s/it, loss=0.0425]\u001b[A\n",
      "Validation:  62%|██████████████████████████████████████████████████████████████████████████▍                                            | 5/8 [00:09<00:05,  1.90s/it, loss=0.0425]\u001b[A\n",
      "Validation:  62%|██████████████████████████████████████████████████████████████████████████▍                                            | 5/8 [00:11<00:05,  1.90s/it, loss=0.0423]\u001b[A\n",
      "Validation:  75%|█████████████████████████████████████████████████████████████████████████████████████████▎                             | 6/8 [00:11<00:03,  1.91s/it, loss=0.0423]\u001b[A\n",
      "Validation:  75%|█████████████████████████████████████████████████████████████████████████████████████████▎                             | 6/8 [00:13<00:03,  1.91s/it, loss=0.0415]\u001b[A\n",
      "Validation:  88%|████████████████████████████████████████████████████████████████████████████████████████████████████████▏              | 7/8 [00:13<00:01,  1.93s/it, loss=0.0415]\u001b[A\n",
      "Validation:  88%|████████████████████████████████████████████████████████████████████████████████████████████████████████▏              | 7/8 [00:14<00:01,  1.93s/it, loss=0.0437]\u001b[A\n",
      "Validation: 100%|███████████████████████████████████████████████████████████████████████████████████████████████████████████████████████| 8/8 [00:14<00:00,  1.86s/it, loss=0.0437]\u001b[A\n",
      "Training Epoch [1/1]:  30%|███████████████████████████████▋                                                                          | 117/391 [05:16<31:10,  6.83s/it, loss=0.266]"
     ]
    },
    {
     "name": "stdout",
     "output_type": "stream",
     "text": [
      "Validation:\n",
      "\thamming_loss = 0.015\n",
      "\tf1_score = 0.605\n",
      "\tloss = 0.050\n",
      "****************************************\n"
     ]
    },
    {
     "name": "stderr",
     "output_type": "stream",
     "text": [
      "Training Epoch [1/1]:  40%|██████████████████████████████████████████                                                                | 155/391 [06:45<08:42,  2.21s/it, loss=0.211]\n",
      "  0%|                                                                                                                                                        | 0/8 [00:00<?, ?it/s]\u001b[A\n",
      "Validation:   0%|                                                                                                                                            | 0/8 [00:00<?, ?it/s]\u001b[A\n",
      "Validation:  12%|████████████████▌                                                                                                                   | 1/8 [00:01<00:12,  1.84s/it]\u001b[A\n",
      "Validation:  12%|███████████████                                                                                                         | 1/8 [00:03<00:12,  1.84s/it, loss=0.027]\u001b[A\n",
      "Validation:  25%|██████████████████████████████                                                                                          | 2/8 [00:03<00:11,  1.84s/it, loss=0.027]\u001b[A\n",
      "Validation:  25%|█████████████████████████████▊                                                                                         | 2/8 [00:05<00:11,  1.84s/it, loss=0.0331]\u001b[A\n",
      "Validation:  38%|████████████████████████████████████████████▋                                                                          | 3/8 [00:05<00:10,  2.06s/it, loss=0.0331]\u001b[A\n",
      "Validation:  38%|████████████████████████████████████████████▋                                                                          | 3/8 [00:07<00:10,  2.06s/it, loss=0.0363]\u001b[A\n",
      "Validation:  50%|███████████████████████████████████████████████████████████▌                                                           | 4/8 [00:07<00:08,  2.01s/it, loss=0.0363]\u001b[A\n",
      "Validation:  50%|███████████████████████████████████████████████████████████▌                                                           | 4/8 [00:09<00:08,  2.01s/it, loss=0.0395]\u001b[A\n",
      "Validation:  62%|██████████████████████████████████████████████████████████████████████████▍                                            | 5/8 [00:09<00:05,  1.98s/it, loss=0.0395]\u001b[A\n",
      "Validation:  62%|██████████████████████████████████████████████████████████████████████████▍                                            | 5/8 [00:11<00:05,  1.98s/it, loss=0.0391]\u001b[A\n",
      "Validation:  75%|█████████████████████████████████████████████████████████████████████████████████████████▎                             | 6/8 [00:11<00:03,  1.97s/it, loss=0.0391]\u001b[A\n",
      "Validation:  75%|█████████████████████████████████████████████████████████████████████████████████████████▎                             | 6/8 [00:13<00:03,  1.97s/it, loss=0.0383]\u001b[A\n",
      "Validation:  88%|████████████████████████████████████████████████████████████████████████████████████████████████████████▏              | 7/8 [00:13<00:01,  2.00s/it, loss=0.0383]\u001b[A\n",
      "Validation:  88%|████████████████████████████████████████████████████████████████████████████████████████████████████████▏              | 7/8 [00:15<00:01,  2.00s/it, loss=0.0402]\u001b[A\n",
      "Validation: 100%|███████████████████████████████████████████████████████████████████████████████████████████████████████████████████████| 8/8 [00:15<00:00,  1.96s/it, loss=0.0402]\u001b[A\n",
      "Training Epoch [1/1]:  40%|██████████████████████████████████████████▎                                                               | 156/391 [07:00<26:59,  6.89s/it, loss=0.211]"
     ]
    },
    {
     "name": "stdout",
     "output_type": "stream",
     "text": [
      "Validation:\n",
      "\thamming_loss = 0.014\n",
      "\tf1_score = 0.635\n",
      "\tloss = 0.046\n",
      "****************************************\n"
     ]
    },
    {
     "name": "stderr",
     "output_type": "stream",
     "text": [
      "Training Epoch [1/1]:  50%|████████████████████████████████████████████████████▌                                                     | 194/391 [08:30<07:19,  2.23s/it, loss=0.177]\n",
      "  0%|                                                                                                                                                        | 0/8 [00:00<?, ?it/s]\u001b[A\n",
      "Validation:   0%|                                                                                                                                            | 0/8 [00:00<?, ?it/s]\u001b[A\n",
      "Validation:  12%|████████████████▌                                                                                                                   | 1/8 [00:01<00:12,  1.85s/it]\u001b[A\n",
      "Validation:  12%|██████████████▉                                                                                                        | 1/8 [00:03<00:12,  1.85s/it, loss=0.0252]\u001b[A\n",
      "Validation:  25%|█████████████████████████████▊                                                                                         | 2/8 [00:03<00:11,  1.87s/it, loss=0.0252]\u001b[A\n",
      "Validation:  25%|█████████████████████████████▊                                                                                         | 2/8 [00:05<00:11,  1.87s/it, loss=0.0307]\u001b[A\n",
      "Validation:  38%|████████████████████████████████████████████▋                                                                          | 3/8 [00:05<00:09,  1.88s/it, loss=0.0307]\u001b[A\n",
      "Validation:  38%|█████████████████████████████████████████████                                                                           | 3/8 [00:07<00:09,  1.88s/it, loss=0.034]\u001b[A\n",
      "Validation:  50%|████████████████████████████████████████████████████████████                                                            | 4/8 [00:07<00:07,  1.88s/it, loss=0.034]\u001b[A\n",
      "Validation:  50%|███████████████████████████████████████████████████████████▌                                                           | 4/8 [00:09<00:07,  1.88s/it, loss=0.0372]\u001b[A\n",
      "Validation:  62%|██████████████████████████████████████████████████████████████████████████▍                                            | 5/8 [00:09<00:05,  1.97s/it, loss=0.0372]\u001b[A\n",
      "Validation:  62%|██████████████████████████████████████████████████████████████████████████▍                                            | 5/8 [00:11<00:05,  1.97s/it, loss=0.0366]\u001b[A\n",
      "Validation:  75%|█████████████████████████████████████████████████████████████████████████████████████████▎                             | 6/8 [00:11<00:03,  1.93s/it, loss=0.0366]\u001b[A\n",
      "Validation:  75%|█████████████████████████████████████████████████████████████████████████████████████████▎                             | 6/8 [00:13<00:03,  1.93s/it, loss=0.0358]\u001b[A\n",
      "Validation:  88%|████████████████████████████████████████████████████████████████████████████████████████████████████████▏              | 7/8 [00:13<00:01,  1.91s/it, loss=0.0358]\u001b[A\n",
      "Validation:  88%|████████████████████████████████████████████████████████████████████████████████████████████████████████▏              | 7/8 [00:15<00:01,  1.91s/it, loss=0.0375]\u001b[A\n",
      "Validation: 100%|███████████████████████████████████████████████████████████████████████████████████████████████████████████████████████| 8/8 [00:15<00:00,  1.91s/it, loss=0.0375]\u001b[A\n",
      "Training Epoch [1/1]:  50%|████████████████████████████████████████████████████▊                                                     | 195/391 [08:45<22:38,  6.93s/it, loss=0.177]"
     ]
    },
    {
     "name": "stdout",
     "output_type": "stream",
     "text": [
      "Validation:\n",
      "\thamming_loss = 0.013\n",
      "\tf1_score = 0.669\n",
      "\tloss = 0.043\n",
      "****************************************\n"
     ]
    },
    {
     "name": "stderr",
     "output_type": "stream",
     "text": [
      "Training Epoch [1/1]:  60%|███████████████████████████████████████████████████████████████▏                                          | 233/391 [10:12<05:48,  2.20s/it, loss=0.154]\n",
      "  0%|                                                                                                                                                        | 0/8 [00:00<?, ?it/s]\u001b[A\n",
      "Validation:   0%|                                                                                                                                            | 0/8 [00:00<?, ?it/s]\u001b[A\n",
      "Validation:  12%|████████████████▌                                                                                                                   | 1/8 [00:01<00:13,  1.92s/it]\u001b[A\n",
      "Validation:  12%|██████████████▉                                                                                                        | 1/8 [00:03<00:13,  1.92s/it, loss=0.0234]\u001b[A\n",
      "Validation:  25%|█████████████████████████████▊                                                                                         | 2/8 [00:03<00:11,  1.98s/it, loss=0.0234]\u001b[A\n",
      "Validation:  25%|█████████████████████████████▊                                                                                         | 2/8 [00:05<00:11,  1.98s/it, loss=0.0283]\u001b[A\n",
      "Validation:  38%|████████████████████████████████████████████▋                                                                          | 3/8 [00:05<00:10,  2.01s/it, loss=0.0283]\u001b[A\n",
      "Validation:  38%|████████████████████████████████████████████▋                                                                          | 3/8 [00:07<00:10,  2.01s/it, loss=0.0315]\u001b[A\n",
      "Validation:  50%|███████████████████████████████████████████████████████████▌                                                           | 4/8 [00:07<00:07,  1.99s/it, loss=0.0315]\u001b[A\n",
      "Validation:  50%|███████████████████████████████████████████████████████████▌                                                           | 4/8 [00:09<00:07,  1.99s/it, loss=0.0347]\u001b[A\n",
      "Validation:  62%|██████████████████████████████████████████████████████████████████████████▍                                            | 5/8 [00:09<00:05,  1.95s/it, loss=0.0347]\u001b[A\n",
      "Validation:  62%|██████████████████████████████████████████████████████████████████████████▍                                            | 5/8 [00:11<00:05,  1.95s/it, loss=0.0341]\u001b[A\n",
      "Validation:  75%|█████████████████████████████████████████████████████████████████████████████████████████▎                             | 6/8 [00:11<00:03,  1.96s/it, loss=0.0341]\u001b[A\n",
      "Validation:  75%|█████████████████████████████████████████████████████████████████████████████████████████▎                             | 6/8 [00:13<00:03,  1.96s/it, loss=0.0334]\u001b[A\n",
      "Validation:  88%|████████████████████████████████████████████████████████████████████████████████████████████████████████▏              | 7/8 [00:13<00:01,  1.93s/it, loss=0.0334]\u001b[A\n",
      "Validation:  88%|████████████████████████████████████████████████████████████████████████████████████████████████████████▏              | 7/8 [00:15<00:01,  1.93s/it, loss=0.0352]\u001b[A\n",
      "Validation: 100%|███████████████████████████████████████████████████████████████████████████████████████████████████████████████████████| 8/8 [00:15<00:00,  1.90s/it, loss=0.0352]\u001b[A\n",
      "Training Epoch [1/1]:  60%|███████████████████████████████████████████████████████████████▍                                          | 234/391 [10:28<17:40,  6.75s/it, loss=0.154]"
     ]
    },
    {
     "name": "stdout",
     "output_type": "stream",
     "text": [
      "Validation:\n",
      "\thamming_loss = 0.012\n",
      "\tf1_score = 0.693\n",
      "\tloss = 0.040\n",
      "****************************************\n"
     ]
    },
    {
     "name": "stderr",
     "output_type": "stream",
     "text": [
      "Training Epoch [1/1]:  70%|█████████████████████████████████████████████████████████████████████████▋                                | 272/391 [11:57<04:34,  2.30s/it, loss=0.138]\n",
      "  0%|                                                                                                                                                        | 0/8 [00:00<?, ?it/s]\u001b[A\n",
      "Validation:   0%|                                                                                                                                            | 0/8 [00:00<?, ?it/s]\u001b[A\n",
      "Validation:  12%|████████████████▌                                                                                                                   | 1/8 [00:02<00:16,  2.34s/it]\u001b[A\n",
      "Validation:  12%|██████████████▉                                                                                                        | 1/8 [00:04<00:16,  2.34s/it, loss=0.0229]\u001b[A\n",
      "Validation:  25%|█████████████████████████████▊                                                                                         | 2/8 [00:04<00:12,  2.09s/it, loss=0.0229]\u001b[A\n",
      "Validation:  25%|█████████████████████████████▊                                                                                         | 2/8 [00:06<00:12,  2.09s/it, loss=0.0277]\u001b[A\n",
      "Validation:  38%|████████████████████████████████████████████▋                                                                          | 3/8 [00:06<00:09,  2.00s/it, loss=0.0277]\u001b[A\n",
      "Validation:  38%|████████████████████████████████████████████▋                                                                          | 3/8 [00:08<00:09,  2.00s/it, loss=0.0304]\u001b[A\n",
      "Validation:  50%|███████████████████████████████████████████████████████████▌                                                           | 4/8 [00:08<00:07,  1.96s/it, loss=0.0304]\u001b[A\n",
      "Validation:  50%|███████████████████████████████████████████████████████████▌                                                           | 4/8 [00:09<00:07,  1.96s/it, loss=0.0332]\u001b[A\n",
      "Validation:  62%|██████████████████████████████████████████████████████████████████████████▍                                            | 5/8 [00:09<00:05,  1.94s/it, loss=0.0332]\u001b[A\n",
      "Validation:  62%|██████████████████████████████████████████████████████████████████████████▍                                            | 5/8 [00:11<00:05,  1.94s/it, loss=0.0325]\u001b[A\n",
      "Validation:  75%|█████████████████████████████████████████████████████████████████████████████████████████▎                             | 6/8 [00:11<00:03,  1.94s/it, loss=0.0325]\u001b[A\n",
      "Validation:  75%|█████████████████████████████████████████████████████████████████████████████████████████▎                             | 6/8 [00:13<00:03,  1.94s/it, loss=0.0319]\u001b[A\n",
      "Validation:  88%|████████████████████████████████████████████████████████████████████████████████████████████████████████▏              | 7/8 [00:13<00:01,  1.97s/it, loss=0.0319]\u001b[A\n",
      "Validation:  88%|████████████████████████████████████████████████████████████████████████████████████████████████████████▏              | 7/8 [00:15<00:01,  1.97s/it, loss=0.0337]\u001b[A\n",
      "Validation: 100%|███████████████████████████████████████████████████████████████████████████████████████████████████████████████████████| 8/8 [00:15<00:00,  1.95s/it, loss=0.0337]\u001b[A\n",
      "Training Epoch [1/1]:  70%|██████████████████████████████████████████████████████████████████████████                                | 273/391 [12:13<13:44,  6.99s/it, loss=0.138]"
     ]
    },
    {
     "name": "stdout",
     "output_type": "stream",
     "text": [
      "Validation:\n",
      "\thamming_loss = 0.012\n",
      "\tf1_score = 0.699\n",
      "\tloss = 0.039\n",
      "****************************************\n"
     ]
    },
    {
     "name": "stderr",
     "output_type": "stream",
     "text": [
      "Training Epoch [1/1]:  80%|████████████████████████████████████████████████████████████████████████████████████▎                     | 311/391 [13:41<02:59,  2.25s/it, loss=0.125]\n",
      "  0%|                                                                                                                                                        | 0/8 [00:00<?, ?it/s]\u001b[A\n",
      "Validation:   0%|                                                                                                                                            | 0/8 [00:00<?, ?it/s]\u001b[A\n",
      "Validation:  12%|████████████████▌                                                                                                                   | 1/8 [00:01<00:13,  1.87s/it]\u001b[A\n",
      "Validation:  12%|███████████████                                                                                                         | 1/8 [00:03<00:13,  1.87s/it, loss=0.022]\u001b[A\n",
      "Validation:  25%|██████████████████████████████                                                                                          | 2/8 [00:03<00:11,  1.98s/it, loss=0.022]\u001b[A\n",
      "Validation:  25%|█████████████████████████████▊                                                                                         | 2/8 [00:05<00:11,  1.98s/it, loss=0.0263]\u001b[A\n",
      "Validation:  38%|████████████████████████████████████████████▋                                                                          | 3/8 [00:05<00:09,  1.94s/it, loss=0.0263]\u001b[A\n",
      "Validation:  38%|████████████████████████████████████████████▋                                                                          | 3/8 [00:07<00:09,  1.94s/it, loss=0.0292]\u001b[A\n",
      "Validation:  50%|███████████████████████████████████████████████████████████▌                                                           | 4/8 [00:07<00:07,  1.93s/it, loss=0.0292]\u001b[A\n",
      "Validation:  50%|███████████████████████████████████████████████████████████▌                                                           | 4/8 [00:09<00:07,  1.93s/it, loss=0.0321]\u001b[A\n",
      "Validation:  62%|██████████████████████████████████████████████████████████████████████████▍                                            | 5/8 [00:09<00:05,  1.98s/it, loss=0.0321]\u001b[A\n",
      "Validation:  62%|██████████████████████████████████████████████████████████████████████████▍                                            | 5/8 [00:11<00:05,  1.98s/it, loss=0.0313]\u001b[A\n",
      "Validation:  75%|█████████████████████████████████████████████████████████████████████████████████████████▎                             | 6/8 [00:11<00:03,  1.94s/it, loss=0.0313]\u001b[A\n",
      "Validation:  75%|█████████████████████████████████████████████████████████████████████████████████████████▎                             | 6/8 [00:13<00:03,  1.94s/it, loss=0.0309]\u001b[A\n",
      "Validation:  88%|████████████████████████████████████████████████████████████████████████████████████████████████████████▏              | 7/8 [00:13<00:01,  1.90s/it, loss=0.0309]\u001b[A\n",
      "Validation:  88%|████████████████████████████████████████████████████████████████████████████████████████████████████████▏              | 7/8 [00:15<00:01,  1.90s/it, loss=0.0326]\u001b[A\n",
      "Validation: 100%|███████████████████████████████████████████████████████████████████████████████████████████████████████████████████████| 8/8 [00:15<00:00,  1.88s/it, loss=0.0326]\u001b[A\n",
      "Training Epoch [1/1]:  80%|████████████████████████████████████████████████████████████████████████████████████▌                     | 312/391 [13:56<08:57,  6.80s/it, loss=0.125]"
     ]
    },
    {
     "name": "stdout",
     "output_type": "stream",
     "text": [
      "Validation:\n",
      "\thamming_loss = 0.011\n",
      "\tf1_score = 0.725\n",
      "\tloss = 0.037\n",
      "****************************************\n"
     ]
    },
    {
     "name": "stderr",
     "output_type": "stream",
     "text": [
      "Training Epoch [1/1]:  90%|██████████████████████████████████████████████████████████████████████████████████████████████▉           | 350/391 [15:25<01:33,  2.28s/it, loss=0.115]\n",
      "  0%|                                                                                                                                                        | 0/8 [00:00<?, ?it/s]\u001b[A\n",
      "Validation:   0%|                                                                                                                                            | 0/8 [00:00<?, ?it/s]\u001b[A\n",
      "Validation:  12%|████████████████▌                                                                                                                   | 1/8 [00:01<00:13,  1.88s/it]\u001b[A\n",
      "Validation:  12%|██████████████▉                                                                                                        | 1/8 [00:03<00:13,  1.88s/it, loss=0.0222]\u001b[A\n",
      "Validation:  25%|█████████████████████████████▊                                                                                         | 2/8 [00:03<00:11,  1.99s/it, loss=0.0222]\u001b[A\n",
      "Validation:  25%|█████████████████████████████▊                                                                                         | 2/8 [00:05<00:11,  1.99s/it, loss=0.0265]\u001b[A\n",
      "Validation:  38%|████████████████████████████████████████████▋                                                                          | 3/8 [00:05<00:09,  1.97s/it, loss=0.0265]\u001b[A\n",
      "Validation:  38%|████████████████████████████████████████████▋                                                                          | 3/8 [00:07<00:09,  1.97s/it, loss=0.0291]\u001b[A\n",
      "Validation:  50%|███████████████████████████████████████████████████████████▌                                                           | 4/8 [00:07<00:07,  1.94s/it, loss=0.0291]\u001b[A\n",
      "Validation:  50%|███████████████████████████████████████████████████████████▌                                                           | 4/8 [00:09<00:07,  1.94s/it, loss=0.0318]\u001b[A\n",
      "Validation:  62%|██████████████████████████████████████████████████████████████████████████▍                                            | 5/8 [00:09<00:05,  1.91s/it, loss=0.0318]\u001b[A\n",
      "Validation:  62%|██████████████████████████████████████████████████████████████████████████▍                                            | 5/8 [00:11<00:05,  1.91s/it, loss=0.0309]\u001b[A\n",
      "Validation:  75%|█████████████████████████████████████████████████████████████████████████████████████████▎                             | 6/8 [00:11<00:03,  1.90s/it, loss=0.0309]\u001b[A\n",
      "Validation:  75%|█████████████████████████████████████████████████████████████████████████████████████████▎                             | 6/8 [00:13<00:03,  1.90s/it, loss=0.0305]\u001b[A\n",
      "Validation:  88%|████████████████████████████████████████████████████████████████████████████████████████████████████████▏              | 7/8 [00:13<00:02,  2.02s/it, loss=0.0305]\u001b[A\n",
      "Validation:  88%|████████████████████████████████████████████████████████████████████████████████████████████████████████▏              | 7/8 [00:15<00:02,  2.02s/it, loss=0.0321]\u001b[A\n",
      "Validation: 100%|███████████████████████████████████████████████████████████████████████████████████████████████████████████████████████| 8/8 [00:15<00:00,  1.95s/it, loss=0.0321]\u001b[A\n",
      "Training Epoch [1/1]:  90%|███████████████████████████████████████████████████████████████████████████████████████████████▏          | 351/391 [15:41<04:36,  6.92s/it, loss=0.115]"
     ]
    },
    {
     "name": "stdout",
     "output_type": "stream",
     "text": [
      "Validation:\n",
      "\thamming_loss = 0.011\n",
      "\tf1_score = 0.726\n",
      "\tloss = 0.037\n",
      "****************************************\n"
     ]
    },
    {
     "name": "stderr",
     "output_type": "stream",
     "text": [
      "Training Epoch [1/1]:  99%|█████████████████████████████████████████████████████████████████████████████████████████████████████████▍| 389/391 [17:09<00:04,  2.23s/it, loss=0.107]\n",
      "  0%|                                                                                                                                                        | 0/8 [00:00<?, ?it/s]\u001b[A\n",
      "Validation:   0%|                                                                                                                                            | 0/8 [00:00<?, ?it/s]\u001b[A\n",
      "Validation:  12%|████████████████▌                                                                                                                   | 1/8 [00:01<00:13,  1.98s/it]\u001b[A\n",
      "Validation:  12%|██████████████▉                                                                                                        | 1/8 [00:03<00:13,  1.98s/it, loss=0.0208]\u001b[A\n",
      "Validation:  25%|█████████████████████████████▊                                                                                         | 2/8 [00:03<00:11,  1.93s/it, loss=0.0208]\u001b[A\n",
      "Validation:  25%|█████████████████████████████▊                                                                                         | 2/8 [00:05<00:11,  1.93s/it, loss=0.0246]\u001b[A\n",
      "Validation:  38%|████████████████████████████████████████████▋                                                                          | 3/8 [00:05<00:09,  1.94s/it, loss=0.0246]\u001b[A\n",
      "Validation:  38%|████████████████████████████████████████████▋                                                                          | 3/8 [00:07<00:09,  1.94s/it, loss=0.0274]\u001b[A\n",
      "Validation:  50%|███████████████████████████████████████████████████████████▌                                                           | 4/8 [00:07<00:07,  1.93s/it, loss=0.0274]\u001b[A\n",
      "Validation:  50%|███████████████████████████████████████████████████████████▌                                                           | 4/8 [00:09<00:07,  1.93s/it, loss=0.0303]\u001b[A\n",
      "Validation:  62%|██████████████████████████████████████████████████████████████████████████▍                                            | 5/8 [00:09<00:05,  1.98s/it, loss=0.0303]\u001b[A\n",
      "Validation:  62%|██████████████████████████████████████████████████████████████████████████▍                                            | 5/8 [00:11<00:05,  1.98s/it, loss=0.0297]\u001b[A\n",
      "Validation:  75%|█████████████████████████████████████████████████████████████████████████████████████████▎                             | 6/8 [00:11<00:04,  2.01s/it, loss=0.0297]\u001b[A\n",
      "Validation:  75%|█████████████████████████████████████████████████████████████████████████████████████████▎                             | 6/8 [00:13<00:04,  2.01s/it, loss=0.0293]\u001b[A\n",
      "Validation:  88%|████████████████████████████████████████████████████████████████████████████████████████████████████████▏              | 7/8 [00:13<00:01,  1.98s/it, loss=0.0293]\u001b[A\n",
      "Validation:  88%|████████████████████████████████████████████████████████████████████████████████████████████████████████▏              | 7/8 [00:15<00:01,  1.98s/it, loss=0.0308]\u001b[A\n",
      "Validation: 100%|███████████████████████████████████████████████████████████████████████████████████████████████████████████████████████| 8/8 [00:15<00:00,  1.92s/it, loss=0.0308]\u001b[A\n",
      "Training Epoch [1/1]: 100%|█████████████████████████████████████████████████████████████████████████████████████████████████████████▋| 390/391 [17:24<00:06,  6.82s/it, loss=0.107]"
     ]
    },
    {
     "name": "stdout",
     "output_type": "stream",
     "text": [
      "Validation:\n",
      "\thamming_loss = 0.011\n",
      "\tf1_score = 0.741\n",
      "\tloss = 0.035\n",
      "****************************************\n"
     ]
    },
    {
     "name": "stderr",
     "output_type": "stream",
     "text": [
      "Training Epoch [1/1]: 100%|██████████████████████████████████████████████████████████████████████████████████████████████████████████| 391/391 [17:26<00:00,  2.68s/it, loss=0.107]\n"
     ]
    },
    {
     "name": "stdout",
     "output_type": "stream",
     "text": [
      "Training at epoch 1:\n",
      "\thamming_loss = 0.011\n",
      "\tf1_score = 0.736\n",
      "\tloss = 0.107\n"
     ]
    },
    {
     "name": "stderr",
     "output_type": "stream",
     "text": [
      "Validation: 100%|███████████████████████████████████████████████████████████████████████████████████████████████████████████████████████| 8/8 [00:14<00:00,  1.83s/it, loss=0.0307]\n",
      "2022-09-11 16:53:28,816 :: train/train.py/execute :: INFO :: Training done\n"
     ]
    },
    {
     "name": "stdout",
     "output_type": "stream",
     "text": [
      "Validation:\n",
      "\thamming_loss = 0.011\n",
      "\tf1_score = 0.741\n",
      "\tloss = 0.035\n",
      "****************************************\n"
     ]
    }
   ],
   "source": [
    "finetune_all = FinetuneAll()\n",
    "learner = finetune_all.execute(cnn_learner=learner,\n",
    "                                device=device,\n",
    "                                torch_iterators=torch_iterators,\n",
    "                                cnn_hparams=cnn_hyperparameters)"
   ]
  },
  {
   "cell_type": "markdown",
   "id": "83d97795-cb3a-461e-851c-a9b26b062c43",
   "metadata": {},
   "source": [
    "#### Evaluation"
   ]
  },
  {
   "cell_type": "code",
   "execution_count": 13,
   "id": "049505d3-4226-4ac6-9f44-ad4680d33ad7",
   "metadata": {},
   "outputs": [
    {
     "name": "stderr",
     "output_type": "stream",
     "text": [
      "2022-09-11 16:56:06,153 :: train/train.py/execute :: INFO :: Test results\n",
      "2022-09-11 16:56:06,156 :: train/train.py/execute :: INFO :: {\n",
      "    \"animalerie\": {\n",
      "        \"precision\": 0.9841772151898734,\n",
      "        \"recall\": 0.4712121212121212,\n",
      "        \"f1-score\": 0.6372950819672132,\n",
      "        \"support\": 660\n",
      "    },\n",
      "    \"auto et moto\": {\n",
      "        \"precision\": 0.0,\n",
      "        \"recall\": 0.0,\n",
      "        \"f1-score\": 0.0,\n",
      "        \"support\": 342\n",
      "    },\n",
      "    \"bagages et sacs\": {\n",
      "        \"precision\": 0.6666666666666666,\n",
      "        \"recall\": 0.008333333333333333,\n",
      "        \"f1-score\": 0.01646090534979424,\n",
      "        \"support\": 240\n",
      "    },\n",
      "    \"beaute et parfum\": {\n",
      "        \"precision\": 0.9097888675623801,\n",
      "        \"recall\": 0.7834710743801653,\n",
      "        \"f1-score\": 0.8419182948490231,\n",
      "        \"support\": 605\n",
      "    },\n",
      "    \"bebe et puericulture\": {\n",
      "        \"precision\": 1.0,\n",
      "        \"recall\": 0.15447154471544716,\n",
      "        \"f1-score\": 0.2676056338028169,\n",
      "        \"support\": 369\n",
      "    },\n",
      "    \"bijoux\": {\n",
      "        \"precision\": 0.9743589743589743,\n",
      "        \"recall\": 0.12794612794612795,\n",
      "        \"f1-score\": 0.2261904761904762,\n",
      "        \"support\": 297\n",
      "    },\n",
      "    \"bricolage\": {\n",
      "        \"precision\": 0.9023569023569024,\n",
      "        \"recall\": 0.38231098430813126,\n",
      "        \"f1-score\": 0.5370741482965932,\n",
      "        \"support\": 701\n",
      "    },\n",
      "    \"cd et vinyles\": {\n",
      "        \"precision\": 0.0,\n",
      "        \"recall\": 0.0,\n",
      "        \"f1-score\": 0.0,\n",
      "        \"support\": 18\n",
      "    },\n",
      "    \"chaussures et accessoires\": {\n",
      "        \"precision\": 0.9376693766937669,\n",
      "        \"recall\": 0.6577946768060836,\n",
      "        \"f1-score\": 0.7731843575418995,\n",
      "        \"support\": 526\n",
      "    },\n",
      "    \"commerce, industrie et science\": {\n",
      "        \"precision\": 0.0,\n",
      "        \"recall\": 0.0,\n",
      "        \"f1-score\": 0.0,\n",
      "        \"support\": 27\n",
      "    },\n",
      "    \"cuisine et maison\": {\n",
      "        \"precision\": 0.8239700374531835,\n",
      "        \"recall\": 0.34810126582278483,\n",
      "        \"f1-score\": 0.4894327030033371,\n",
      "        \"support\": 632\n",
      "    },\n",
      "    \"dvd et blu-ray\": {\n",
      "        \"precision\": 0.0,\n",
      "        \"recall\": 0.0,\n",
      "        \"f1-score\": 0.0,\n",
      "        \"support\": 98\n",
      "    },\n",
      "    \"epicerie\": {\n",
      "        \"precision\": 0.7725118483412322,\n",
      "        \"recall\": 0.9123134328358209,\n",
      "        \"f1-score\": 0.8366124893071,\n",
      "        \"support\": 536\n",
      "    },\n",
      "    \"forfaits et accessoires operateurs\": {\n",
      "        \"precision\": 1.0,\n",
      "        \"recall\": 0.6538461538461539,\n",
      "        \"f1-score\": 0.7906976744186047,\n",
      "        \"support\": 26\n",
      "    },\n",
      "    \"fournitures de bureau\": {\n",
      "        \"precision\": 0.0,\n",
      "        \"recall\": 0.0,\n",
      "        \"f1-score\": 0.0,\n",
      "        \"support\": 471\n",
      "    },\n",
      "    \"gros electromenager\": {\n",
      "        \"precision\": 0.8571428571428571,\n",
      "        \"recall\": 0.1111111111111111,\n",
      "        \"f1-score\": 0.19672131147540986,\n",
      "        \"support\": 54\n",
      "    },\n",
      "    \"high-tech\": {\n",
      "        \"precision\": 0.8484848484848485,\n",
      "        \"recall\": 0.2310866574965612,\n",
      "        \"f1-score\": 0.36324324324324325,\n",
      "        \"support\": 727\n",
      "    },\n",
      "    \"hygiene et sante\": {\n",
      "        \"precision\": 0.9452054794520548,\n",
      "        \"recall\": 0.09636871508379888,\n",
      "        \"f1-score\": 0.17490494296577946,\n",
      "        \"support\": 716\n",
      "    },\n",
      "    \"instruments de musique et sono\": {\n",
      "        \"precision\": 0.0,\n",
      "        \"recall\": 0.0,\n",
      "        \"f1-score\": 0.0,\n",
      "        \"support\": 79\n",
      "    },\n",
      "    \"jardin\": {\n",
      "        \"precision\": 0.7142857142857143,\n",
      "        \"recall\": 0.01282051282051282,\n",
      "        \"f1-score\": 0.02518891687657431,\n",
      "        \"support\": 390\n",
      "    },\n",
      "    \"jeux et jouets\": {\n",
      "        \"precision\": 0.8351648351648352,\n",
      "        \"recall\": 0.1130952380952381,\n",
      "        \"f1-score\": 0.19921363040629095,\n",
      "        \"support\": 672\n",
      "    },\n",
      "    \"jeux video\": {\n",
      "        \"precision\": 0.8611111111111112,\n",
      "        \"recall\": 0.11151079136690648,\n",
      "        \"f1-score\": 0.19745222929936307,\n",
      "        \"support\": 278\n",
      "    },\n",
      "    \"livres\": {\n",
      "        \"precision\": 0.0,\n",
      "        \"recall\": 0.0,\n",
      "        \"f1-score\": 0.0,\n",
      "        \"support\": 332\n",
      "    },\n",
      "    \"livres numeriques\": {\n",
      "        \"precision\": 0.0,\n",
      "        \"recall\": 0.0,\n",
      "        \"f1-score\": 0.0,\n",
      "        \"support\": 23\n",
      "    },\n",
      "    \"logiciels\": {\n",
      "        \"precision\": 0.0,\n",
      "        \"recall\": 0.0,\n",
      "        \"f1-score\": 0.0,\n",
      "        \"support\": 14\n",
      "    },\n",
      "    \"luminaires et eclairage\": {\n",
      "        \"precision\": 0.0,\n",
      "        \"recall\": 0.0,\n",
      "        \"f1-score\": 0.0,\n",
      "        \"support\": 198\n",
      "    },\n",
      "    \"montres\": {\n",
      "        \"precision\": 0.0,\n",
      "        \"recall\": 0.0,\n",
      "        \"f1-score\": 0.0,\n",
      "        \"support\": 68\n",
      "    },\n",
      "    \"sports et loisirs\": {\n",
      "        \"precision\": 0.0,\n",
      "        \"recall\": 0.0,\n",
      "        \"f1-score\": 0.0,\n",
      "        \"support\": 455\n",
      "    },\n",
      "    \"vetements\": {\n",
      "        \"precision\": 0.890795631825273,\n",
      "        \"recall\": 0.943801652892562,\n",
      "        \"f1-score\": 0.9165329052969502,\n",
      "        \"support\": 605\n",
      "    },\n",
      "    \"micro avg\": {\n",
      "        \"precision\": 0.8812989921612542,\n",
      "        \"recall\": 0.30987301899793285,\n",
      "        \"f1-score\": 0.45852450659092564,\n",
      "        \"support\": 10159\n",
      "    },\n",
      "    \"macro avg\": {\n",
      "        \"precision\": 0.5146100126237818,\n",
      "        \"recall\": 0.2110205308300986,\n",
      "        \"f1-score\": 0.258266515320361,\n",
      "        \"support\": 10159\n",
      "    },\n",
      "    \"weighted avg\": {\n",
      "        \"precision\": 0.6952425734547537,\n",
      "        \"recall\": 0.30987301899793285,\n",
      "        \"f1-score\": 0.3754661811869385,\n",
      "        \"support\": 10159\n",
      "    },\n",
      "    \"samples avg\": {\n",
      "        \"precision\": 0.310199841709537,\n",
      "        \"recall\": 0.3108264081255771,\n",
      "        \"f1-score\": 0.310199841709537,\n",
      "        \"support\": 10159\n",
      "    }\n",
      "}\n"
     ]
    }
   ],
   "source": [
    "evaluate_classifier = EvaluateClassifier()\n",
    "perfs = evaluate_classifier.execute(cnn_learner=learner,\n",
    "                                        device=device,\n",
    "                                        torch_iterators=torch_iterators,\n",
    "                                        multilabel_binarizer=multilabel_binarizer)"
   ]
  },
  {
   "cell_type": "code",
   "execution_count": null,
   "id": "ec068388-0685-449b-af4d-c9176cea3bf7",
   "metadata": {},
   "outputs": [],
   "source": []
  }
 ],
 "metadata": {
  "kernelspec": {
   "display_name": "Python 3 (ipykernel)",
   "language": "python",
   "name": "python3"
  },
  "language_info": {
   "codemirror_mode": {
    "name": "ipython",
    "version": 3
   },
   "file_extension": ".py",
   "mimetype": "text/x-python",
   "name": "python",
   "nbconvert_exporter": "python",
   "pygments_lexer": "ipython3",
   "version": "3.9.13"
  }
 },
 "nbformat": 4,
 "nbformat_minor": 5
}
