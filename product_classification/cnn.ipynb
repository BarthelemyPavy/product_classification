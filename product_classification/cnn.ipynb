{
 "cells": [
  {
   "cell_type": "code",
   "execution_count": 1,
   "id": "dadf7e92-a734-4103-8c8e-3ea24ae92d53",
   "metadata": {},
   "outputs": [],
   "source": [
    "import warnings\n",
    "warnings.filterwarnings('ignore')\n",
    "\n",
    "import pickle\n",
    "from product_classification.data_processing.text_processing import FitCategoricalData, InitFields, CreateDatasets, BuildTextVocabulary, BuildIterators\n",
    "from product_classification.learner.train import CreateLearner, TrainHighLevels, FinetuneAll, EvaluateClassifier\n",
    "from product_classification.models import CnnHyperParameters, Epochs, LearningRates"
   ]
  },
  {
   "cell_type": "code",
   "execution_count": 2,
   "id": "c240a136-73b6-4bd7-8b7c-b008ce9943cc",
   "metadata": {},
   "outputs": [],
   "source": [
    "path = \"../data\"\n",
    "with open(f\"{path}/datasets.pkl\", \"rb\") as handle:\n",
    "    simple_datasets = pickle.load(handle)\n",
    "    \n",
    "with open(f\"{path}/multilabel_binarizer.pkl\", \"rb\") as handle:\n",
    "    multilabel_binarizer = pickle.load(handle)\n",
    "    \n",
    "with open(f\"{path}/pos_weight.pkl\", \"rb\") as handle:\n",
    "    pos_weight = pickle.load(handle)"
   ]
  },
  {
   "cell_type": "markdown",
   "id": "5d8f4647-f418-48ed-ad1f-aa922c79512f",
   "metadata": {},
   "source": [
    "#### Define CNN Hyperparameters"
   ]
  },
  {
   "cell_type": "code",
   "execution_count": 3,
   "id": "116de1bf-4f53-4234-8480-83bed112749a",
   "metadata": {},
   "outputs": [],
   "source": [
    "cnn_hyperparameters = CnnHyperParameters(nb_filters=100,\n",
    "                                           kernels=[3,4,5],\n",
    "                                           dropout=0.5,\n",
    "                                           lrates=LearningRates(init_phase=5e-4,\n",
    "                                                                finetuning_phase=1e-4),\n",
    "                                           epochs=Epochs(init_phase=2,\n",
    "                                                         finetuning_phase=3)\n",
    "                                          )"
   ]
  },
  {
   "cell_type": "markdown",
   "id": "42ad89ee-5e7e-4855-9d2d-3e1a8f587c13",
   "metadata": {},
   "source": [
    "#### Init torch components for text processing"
   ]
  },
  {
   "cell_type": "code",
   "execution_count": 4,
   "id": "efe9bb7a-7844-4cc1-a62e-954a415c9087",
   "metadata": {},
   "outputs": [],
   "source": [
    "fit_categorical_data = FitCategoricalData()\n",
    "one_hot_encoder = fit_categorical_data.execute(processed_data=simple_datasets)"
   ]
  },
  {
   "cell_type": "code",
   "execution_count": 5,
   "id": "f612d067-8baf-418e-a890-6be22421c62a",
   "metadata": {},
   "outputs": [
    {
     "name": "stderr",
     "output_type": "stream",
     "text": [
      "2022-09-11 20:02:21,483 :: text_processing/text_processing.py/execute :: INFO :: Categorical field created\n",
      "2022-09-11 20:02:22,822 :: text_processing/text_processing.py/execute :: INFO :: Text field created\n",
      "2022-09-11 20:02:22,824 :: text_processing/text_processing.py/execute :: INFO :: Label field created\n"
     ]
    }
   ],
   "source": [
    "init_fields = InitFields()\n",
    "torch_fields = init_fields.execute(one_hot_encoder=one_hot_encoder)"
   ]
  },
  {
   "cell_type": "markdown",
   "id": "d2896295-240c-4cb5-ae20-57bf03d314ea",
   "metadata": {
    "tags": []
   },
   "source": [
    "#### Create datasets mapping features and labels"
   ]
  },
  {
   "cell_type": "code",
   "execution_count": null,
   "id": "d600b60b-1baa-4706-8990-c993f9faf96d",
   "metadata": {},
   "outputs": [
    {
     "name": "stderr",
     "output_type": "stream",
     "text": [
      "2022-09-11 20:02:25,021 :: __init__/__init__.py/__init__ :: INFO :: fields: [('text', <torchtext.data.field.Field object at 0x7f1404094640>), ('category', <torchtext.data.field.Field object at 0x7f1404094ac0>), ('label', <torchtext.data.field.LabelField object at 0x7f1404094700>)]\n"
     ]
    }
   ],
   "source": [
    "labels = list(simple_datasets.training.iloc[:,5:].columns)\n",
    "cat_cols = [\"brand_name\", \"merchant_name\"]\n",
    "create_datasets = CreateDatasets()\n",
    "torch_dataset = create_datasets.execute(processed_data=simple_datasets,\n",
    "                                        torch_fields=torch_fields,\n",
    "                                        cnn_hparams=cnn_hyperparameters,\n",
    "                                        txt_col=\"product_name\",\n",
    "                                        cat_cols=cat_cols,\n",
    "                                        lbl_cols=labels)"
   ]
  },
  {
   "cell_type": "markdown",
   "id": "08582a73-71f9-4c66-9c1f-17c4546fbbda",
   "metadata": {},
   "source": [
    "#### Build text vocabulary with fasttext embeddings"
   ]
  },
  {
   "cell_type": "code",
   "execution_count": null,
   "id": "7c10f933-5d10-416b-92a3-40674ba57e7c",
   "metadata": {},
   "outputs": [],
   "source": [
    "vector_cache=\".vector_cache\"\n",
    "vocab_size=100000\n",
    "embedding_name=\"fasttext.simple.300d\"\n",
    "build_text_vocabulary = BuildTextVocabulary()\n",
    "torch_fields = build_text_vocabulary.execute(torch_datasets=torch_dataset,\n",
    "        torch_fields=torch_fields,\n",
    "        vocab_size=vocab_size,\n",
    "        embedding_name=embedding_name,\n",
    "        vectors_cache=vector_cache)"
   ]
  },
  {
   "cell_type": "markdown",
   "id": "7acef495-297a-499c-81d5-1d6aa9617b62",
   "metadata": {},
   "source": [
    "#### Create pytorch iterators"
   ]
  },
  {
   "cell_type": "code",
   "execution_count": null,
   "id": "f028e629-4f7b-4e45-9c5b-47c700fb4cd2",
   "metadata": {},
   "outputs": [],
   "source": [
    "batch_size=128 \n",
    "device=\"cpu\"\n",
    "build_iterators = BuildIterators()\n",
    "torch_iterators = build_iterators.execute(torch_datasets=torch_dataset,\n",
    "                                             batch_size=batch_size,\n",
    "                                             device=device)"
   ]
  },
  {
   "cell_type": "markdown",
   "id": "79d46aae-536a-4565-a0bb-34e69ee2b38c",
   "metadata": {},
   "source": [
    "#### Create Learner to train CNN"
   ]
  },
  {
   "cell_type": "code",
   "execution_count": null,
   "id": "e5223943-420a-4b69-a249-b54c285ce496",
   "metadata": {},
   "outputs": [],
   "source": [
    "create_learner = CreateLearner()\n",
    "learner = create_learner.execute(cnn_hparams=cnn_hyperparameters,\n",
    "                                    embedding_name=embedding_name,\n",
    "                                    torch_fields=torch_fields,\n",
    "                                    processed_data=simple_datasets,\n",
    "                                    batch_size=batch_size,\n",
    "                                    label_number=len(labels),\n",
    "                                    one_hot_encoder=one_hot_encoder,\n",
    "                                    pos_weight=pos_weight)"
   ]
  },
  {
   "cell_type": "markdown",
   "id": "bd0107e1-c0e3-492b-9918-adb65b01bfed",
   "metadata": {},
   "source": [
    "#### Training"
   ]
  },
  {
   "cell_type": "markdown",
   "id": "3cac767c-d03b-4b42-a1d2-33bf2d779e42",
   "metadata": {},
   "source": [
    "Train high levels layers (embedding layer freezed)"
   ]
  },
  {
   "cell_type": "code",
   "execution_count": null,
   "id": "8c91132f-748c-4562-90b2-18a650b20a75",
   "metadata": {},
   "outputs": [],
   "source": [
    "train_high_levels = TrainHighLevels()\n",
    "learner = train_high_levels.execute(cnn_learner=learner,\n",
    "        device=device,\n",
    "        torch_iterators=torch_iterators,\n",
    "        cnn_hparams=cnn_hyperparameters)"
   ]
  },
  {
   "cell_type": "markdown",
   "id": "d352e6c7-d346-4919-976f-98e087fa3f10",
   "metadata": {},
   "source": [
    "Train all model layers"
   ]
  },
  {
   "cell_type": "code",
   "execution_count": null,
   "id": "3b5629c7-2978-4196-a8d8-49c0ad13299a",
   "metadata": {},
   "outputs": [],
   "source": [
    "finetune_all = FinetuneAll()\n",
    "learner = finetune_all.execute(cnn_learner=learner,\n",
    "                                device=device,\n",
    "                                torch_iterators=torch_iterators,\n",
    "                                cnn_hparams=cnn_hyperparameters)"
   ]
  },
  {
   "cell_type": "markdown",
   "id": "83d97795-cb3a-461e-851c-a9b26b062c43",
   "metadata": {},
   "source": [
    "#### Evaluation"
   ]
  },
  {
   "cell_type": "code",
   "execution_count": null,
   "id": "049505d3-4226-4ac6-9f44-ad4680d33ad7",
   "metadata": {},
   "outputs": [],
   "source": [
    "evaluate_classifier = EvaluateClassifier()\n",
    "perfs = evaluate_classifier.execute(cnn_learner=learner,\n",
    "                                        device=device,\n",
    "                                        torch_iterators=torch_iterators,\n",
    "                                        multilabel_binarizer=multilabel_binarizer)"
   ]
  },
  {
   "cell_type": "code",
   "execution_count": null,
   "id": "a063b673-1d8a-4231-b28e-cc60d6d635aa",
   "metadata": {},
   "outputs": [],
   "source": []
  }
 ],
 "metadata": {
  "kernelspec": {
   "display_name": "Python 3.9.5 ('.venv': poetry)",
   "language": "python",
   "name": "python3"
  },
  "language_info": {
   "codemirror_mode": {
    "name": "ipython",
    "version": 3
   },
   "file_extension": ".py",
   "mimetype": "text/x-python",
   "name": "python",
   "nbconvert_exporter": "python",
   "pygments_lexer": "ipython3",
   "version": "3.9.5"
  },
  "vscode": {
   "interpreter": {
    "hash": "2b0cf01926fdba77768c887237a45b31f500b4a49d2ce7769aa1db38997fd2e9"
   }
  }
 },
 "nbformat": 4,
 "nbformat_minor": 5
}
